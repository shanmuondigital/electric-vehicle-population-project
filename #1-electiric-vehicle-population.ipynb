{
 "cells": [
  {
   "attachments": {},
   "cell_type": "markdown",
   "metadata": {},
   "source": [
    "## <strong><center>`Final Project` </center></strong> \n",
    "_____________________________________________________________"
   ]
  },
  {
   "attachments": {},
   "cell_type": "markdown",
   "metadata": {},
   "source": [
    "#### `Importing Necessary Libraries`"
   ]
  },
  {
   "cell_type": "code",
   "execution_count": 2,
   "metadata": {},
   "outputs": [],
   "source": [
    "import pandas as pd\n",
    "import numpy as np \n",
    "# from pyspark.sql import SparkSession\n",
    "from pyspark.sql.functions import *\n",
    "from pyspark.sql import *\n",
    "from pyspark.sql.types import *\n",
    "import matplotlib.pyplot as plt\n",
    "import seaborn as sns"
   ]
  },
  {
   "attachments": {},
   "cell_type": "markdown",
   "metadata": {},
   "source": [
    "#### `Starting Spark Session`"
   ]
  },
  {
   "cell_type": "code",
   "execution_count": 3,
   "metadata": {},
   "outputs": [],
   "source": [
    "# We are proceeding with the Pyspark for this project\n",
    "# Starting the Spark Session\n",
    "spark = SparkSession.builder.getOrCreate()"
   ]
  },
  {
   "attachments": {},
   "cell_type": "markdown",
   "metadata": {},
   "source": [
    "#### `Importing  Data Set`"
   ]
  },
  {
   "cell_type": "code",
   "execution_count": 4,
   "metadata": {},
   "outputs": [
    {
     "name": "stdout",
     "output_type": "stream",
     "text": [
      "+----------+---------+----------+-----+-----------+----------+------+-----------+---------------------+-------------------------------------------------+--------------+---------+--------------------+--------------+--------------------+--------------------+-----------------+\n",
      "|VIN (1-10)|   County|      City|State|Postal Code|Model Year|  Make|      Model|Electric Vehicle Type|Clean Alternative Fuel Vehicle (CAFV) Eligibility|Electric Range|Base MSRP|Legislative District|DOL Vehicle ID|    Vehicle Location|    Electric Utility|2020 Census Tract|\n",
      "+----------+---------+----------+-----+-----------+----------+------+-----------+---------------------+-------------------------------------------------+--------------+---------+--------------------+--------------+--------------------+--------------------+-----------------+\n",
      "|5YJ3E1EA0K| Thurston|  Tumwater|   WA|      98512|      2019| TESLA|    MODEL 3| Battery Electric ...|                             Clean Alternative...|           220|        0|                  22|     242565116|POINT (-122.91310...|PUGET SOUND ENERG...|      53067010910|\n",
      "|1N4BZ1DV4N|   Island|   Clinton|   WA|      98236|      2022|NISSAN|       LEAF| Battery Electric ...|                             Eligibility unkno...|             0|        0|                  10|     183272785|POINT (-122.35936...|PUGET SOUND ENERG...|      53029972000|\n",
      "|5YJ3E1EA0L|Snohomish| Snohomish|   WA|      98290|      2020| TESLA|    MODEL 3| Battery Electric ...|                             Clean Alternative...|           266|        0|                  44|     112552366|POINT (-122.09150...|PUGET SOUND ENERG...|      53061052502|\n",
      "|5YJ3E1EBXL|     King|   Seattle|   WA|      98134|      2020| TESLA|    MODEL 3| Battery Electric ...|                             Clean Alternative...|           322|        0|                  11|       6336319|POINT (-122.32981...|CITY OF SEATTLE -...|      53033009300|\n",
      "|5YJSA1CP0D|Snohomish|   Edmonds|   WA|      98020|      2013| TESLA|    MODEL S| Battery Electric ...|                             Clean Alternative...|           208|    69900|                  21|     186212960|POINT (-122.37507...|PUGET SOUND ENERG...|      53061050403|\n",
      "|WBY7Z8C5XJ|   Chelan|    Manson|   WA|      98831|      2018|   BMW|         I3| Plug-in Hybrid El...|                             Clean Alternative...|            97|        0|                  12|     215122904|POINT (-120.1531 ...|PUD NO 1 OF CHELA...|      53007960400|\n",
      "|5YJ3E1EC1L|Snohomish|Marysville|   WA|      98271|      2020| TESLA|    MODEL 3| Battery Electric ...|                             Clean Alternative...|           308|        0|                  38|     110992472|POINT (-122.17138...|PUGET SOUND ENERG...|      53061053102|\n",
      "|WA1F2AFY7M|Snohomish|   Edmonds|   WA|      98026|      2021|  AUDI|       Q5 E| Plug-in Hybrid El...|                             Not eligible due ...|            18|        0|                  21|     138909032|POINT (-122.33568...|PUGET SOUND ENERG...|      53061050300|\n",
      "|JTDKARFPXK| Thurston|   Olympia|   WA|      98501|      2019|TOYOTA|PRIUS PRIME| Plug-in Hybrid El...|                             Not eligible due ...|            25|        0|                  22|     272310279|POINT (-122.89691...|PUGET SOUND ENERG...|      53067010700|\n",
      "|1N4AZ1CP2J| Thurston|     Lacey|   WA|      98503|      2018|NISSAN|       LEAF| Battery Electric ...|                             Clean Alternative...|           151|        0|                  22|     235573929|POINT (-122.82849...|PUGET SOUND ENERG...|      53067011422|\n",
      "|KNDCE3LG2K| Thurston|   Olympia|   WA|      98501|      2019|   KIA|       NIRO| Battery Electric ...|                             Clean Alternative...|           239|        0|                  22|     100808571|POINT (-122.89691...|PUGET SOUND ENERG...|      53067010700|\n",
      "|5YJYGDEFXL|Snohomish|   Bothell|   WA|      98021|      2020| TESLA|    MODEL Y| Battery Electric ...|                             Clean Alternative...|           291|        0|                   1|     103095842|POINT (-122.17945...|PUGET SOUND ENERG...|      53061051937|\n",
      "|KNDCM3LD3K|     King|   Seattle|   WA|      98146|      2019|   KIA|       NIRO| Plug-in Hybrid El...|                             Not eligible due ...|            26|        0|                  34|       3267771|POINT (-122.35514...|CITY OF SEATTLE -...|      53033012000|\n",
      "|WBY1Z8C56H|   Kitsap| Hansville|   WA|      98340|      2017|   BMW|         I3| Plug-in Hybrid El...|                             Clean Alternative...|            97|        0|                  23|       2039698|POINT (-122.57780...|PUGET SOUND ENERG...|      53035090101|\n",
      "|3C3CFFGE4F|Snohomish|   Edmonds|   WA|      98020|      2015|  FIAT|        500| Battery Electric ...|                             Clean Alternative...|            87|        0|                  21|     326547609|POINT (-122.37507...|PUGET SOUND ENERG...|      53061050502|\n",
      "|5YJ3E1EB1J|Snohomish|   Woodway|   WA|      98020|      2018| TESLA|    MODEL 3| Battery Electric ...|                             Clean Alternative...|           215|        0|                  32|     337501195|POINT (-122.37507...|PUGET SOUND ENERG...|      53061050600|\n",
      "|3C3CFFGE6G|   Yakima|    Naches|   WA|      98937|      2016|  FIAT|        500| Battery Electric ...|                             Clean Alternative...|            84|        0|                  14|     202801616|POINT (-120.69917...|          PACIFICORP|      53077003002|\n",
      "|1N4AZ1CPXJ|   Chelan|  Cashmere|   WA|      98815|      2018|NISSAN|       LEAF| Battery Electric ...|                             Clean Alternative...|           151|        0|                  12|     475574935|POINT (-120.46869...|PUD NO 1 OF CHELA...|      53007960501|\n",
      "|5YJYGDEE3L|Snohomish|   Bothell|   WA|      98012|      2020| TESLA|    MODEL Y| Battery Electric ...|                             Clean Alternative...|           291|        0|                   1|     109167621|POINT (-122.1873 ...|PUGET SOUND ENERG...|      53061052009|\n",
      "|5YJ3E1EA0J| Thurston|  Tumwater|   WA|      98501|      2018| TESLA|    MODEL 3| Battery Electric ...|                             Clean Alternative...|           215|        0|                  35|     111617271|POINT (-122.89691...|PUGET SOUND ENERG...|      53067011720|\n",
      "+----------+---------+----------+-----+-----------+----------+------+-----------+---------------------+-------------------------------------------------+--------------+---------+--------------------+--------------+--------------------+--------------------+-----------------+\n",
      "only showing top 20 rows\n",
      "\n"
     ]
    }
   ],
   "source": [
    "# Importing all the csv in the folder \n",
    "# Dear Professor in order to check the pls change the path here \n",
    "path = \"/Users/shanmu/Desktop/Data Modeling/electric-vehicle-population-project/\"\n",
    "ds = spark.read.csv(path + \"Electric_Vehicle_Population_Data.csv\", header=True)\n",
    "dsReg = spark.read.csv(path + \"Electric_Vehicle_Title_and_Registration_Activity.csv\", header=True, inferSchema=True)\n",
    "dsWeather = spark.read.csv(path + \"washington-weather.csv\", header=True, inferSchema=True)\n",
    "ds.show()"
   ]
  },
  {
   "cell_type": "code",
   "execution_count": 5,
   "metadata": {},
   "outputs": [
    {
     "name": "stdout",
     "output_type": "stream",
     "text": [
      "+-----------------------------------+----------+--------------+----------+---------+-------+-------------------+--------------+----------------+--------------------+-------------------+----------+---------------+---------+--------------------+--------------------+----------------+------+------------+------------------+-----------+----------------------------------+--------------------------------------------------------------+---------------------------------------------+----------------------------------------+-----------------------------------------------+---------------------------------------+---------------------------------------+------------------------------------------+-------------------------+---------------------------------------+---------------------------------------+-----------------+--------------------+--------------------+\n",
      "|Clean Alternative Fuel Vehicle Type|VIN (1-10)|DOL Vehicle ID|Model Year|     Make|  Model|Vehicle Primary Use|Electric Range|Odometer Reading|       Odometer Code|New or Used Vehicle|Sale Price|      Sale Date|Base MSRP|    Transaction Type|DOL Transaction Date|Transaction Year|County|        City|State of Residence|Postal Code|2015 HB 2778 Exemption Eligibility|2019 HB 2042 Clean Alternative Fuel Vehicle (CAFV) Eligibility|Meets 2019 HB 2042 Electric Range Requirement|Meets 2019 HB 2042 Sale Date Requirement|Meets 2019 HB 2042 Sale Price/Value Requirement|2019 HB 2042: Battery Range Requirement|2019 HB 2042: Purchase Date Requirement|2019 HB 2042: Sale Price/Value Requirement|Electric Vehicle Fee Paid|Transportation Electrification Fee Paid|Hybrid Vehicle Electrification Fee Paid|2020 Census Tract|Legislative District|    Electric Utility|\n",
      "+-----------------------------------+----------+--------------+----------+---------+-------+-------------------+--------------+----------------+--------------------+-------------------+----------+---------------+---------+--------------------+--------------------+----------------+------+------------+------------------+-----------+----------------------------------+--------------------------------------------------------------+---------------------------------------------+----------------------------------------+-----------------------------------------------+---------------------------------------+---------------------------------------+------------------------------------------+-------------------------+---------------------------------------+---------------------------------------+-----------------+--------------------+--------------------+\n",
      "|               Plug-in Hybrid El...|1G1RD6E47C|     142240136|      2012|CHEVROLET|   Volt|          Passenger|            35|               0|Odometer reading ...|               Used|         0|           null|        0|Registration Renewal|        July 10 2020|            2020|  King|    BELLEVUE|                WA|      98007|              HB 2778 Eligiblit...|                                          HB 2042 Eligibili...|                                         true|                                   false|                                          false|                   Meets battery ran...|                   Non-sale, registr...|                      Non-sale, registr...|                      Yes|                                    Yes|                                     No|      53033023300|                  48|PUGET SOUND ENERG...|\n",
      "|               Plug-in Hybrid El...|1G1RD6E47C|     142240136|      2012|CHEVROLET|   Volt|          Passenger|            35|               0|Odometer reading ...|               Used|         0|           null|        0|Registration Renewal|        July 23 2021|            2021|  King|    BELLEVUE|                WA|      98007|              HB 2778 Eligiblit...|                                          HB 2042 Eligibili...|                                         true|                                   false|                                          false|                   Meets battery ran...|                   Non-sale, registr...|                      Non-sale, registr...|                      Yes|                                    Yes|                                     No|      53033023300|                  48|PUGET SOUND ENERG...|\n",
      "|               Battery Electric ...|5YJ3E1EA0J|     196972009|      2018|    TESLA|Model 3|          Passenger|           215|              50|      Actual Mileage|                New|     55000|    May 23 2018|        0|      Original Title|        June 06 2018|            2018|  King|     SEATTLE|                WA|      98105|              HB 2778 Eligiblit...|                                          HB 2042 Eligibili...|                                         true|                                   false|                                          false|                   Meets battery ran...|                   Sale before Augus...|                       Sale price too high|           Not Applicable|                         Not Applicable|                         Not Applicable|      53033004402|                  43|CITY OF SEATTLE -...|\n",
      "|               Battery Electric ...|5YJ3E1EA0J|     196972009|      2018|    TESLA|Model 3|          Passenger|           215|               0|Odometer reading ...|                New|         0|           null|        0|Original Registra...|        June 06 2018|            2018|  King|     SEATTLE|                WA|      98105|              HB 2778 Eligiblit...|                                          HB 2042 Eligibili...|                                         true|                                   false|                                          false|                   Meets battery ran...|                   Non-sale, registr...|                      Non-sale, registr...|                       No|                                     No|                                     No|      53033004402|                  43|CITY OF SEATTLE -...|\n",
      "|               Battery Electric ...|5YJ3E1EA0J|     196972009|      2018|    TESLA|Model 3|          Passenger|           215|               0|Odometer reading ...|               Used|         0|           null|        0|Registration Renewal|       April 18 2019|            2019|  King|     SEATTLE|                WA|      98105|              HB 2778 Eligiblit...|                                          HB 2042 Eligibili...|                                         true|                                   false|                                          false|                   Meets battery ran...|                   Non-sale, registr...|                      Non-sale, registr...|                      Yes|                                     No|                                     No|      53033004402|                  43|CITY OF SEATTLE -...|\n",
      "|               Battery Electric ...|KNDJX3AE4G|       2824944|      2016|      KIA|   Soul|          Passenger|            93|               0|Odometer reading ...|               Used|         0|           null|    31950|Registration at t...|    November 04 2022|            2022|Kitsap|PORT ORCHARD|                WA|      98367|              HB 2778 Eligiblit...|                                          HB 2042 Eligibili...|                                         true|                                   false|                                          false|                   Meets battery ran...|                   Non-sale, registr...|                      Non-sale, registr...|                      Yes|                                    Yes|                                     No|      53035092901|                  35|PUGET SOUND ENERG...|\n",
      "|               Plug-in Hybrid El...|1G1RB6S53H|     195316348|      2017|CHEVROLET|   Volt|          Passenger|            53|              75|      Actual Mileage|                New|     37570|January 13 2017|        0|      Original Title|    February 22 2017|            2017|  King|      RENTON|                WA|      98055|              HB 2778 Eligiblit...|                                          HB 2042 Eligibili...|                                         true|                                   false|                                           true|                   Meets battery ran...|                   Sale before Augus...|                      Meets title trans...|           Not Applicable|                         Not Applicable|                         Not Applicable|      53033029309|                  33|PUGET SOUND ENERG...|\n",
      "|               Plug-in Hybrid El...|1G1RB6S53H|     195316348|      2017|CHEVROLET|   Volt|          Passenger|            53|               0|Odometer reading ...|                New|         0|           null|        0|Original Registra...|    February 22 2017|            2017|  King|      RENTON|                WA|      98055|              HB 2778 Eligiblit...|                                          HB 2042 Eligibili...|                                         true|                                   false|                                          false|                   Meets battery ran...|                   Non-sale, registr...|                      Non-sale, registr...|                       No|                                     No|                                     No|      53033029309|                  33|PUGET SOUND ENERG...|\n",
      "|               Plug-in Hybrid El...|1G1RB6S53H|     195316348|      2017|CHEVROLET|   Volt|          Passenger|            53|               0|Odometer reading ...|               Used|         0|           null|        0|Registration Renewal|     January 31 2018|            2018|  King|      RENTON|                WA|      98055|              HB 2778 Eligiblit...|                                          HB 2042 Eligibili...|                                         true|                                   false|                                          false|                   Meets battery ran...|                   Non-sale, registr...|                      Non-sale, registr...|                      Yes|                                     No|                                     No|      53033029309|                  33|PUGET SOUND ENERG...|\n",
      "|               Plug-in Hybrid El...|1G1RB6S53H|     195316348|      2017|CHEVROLET|   Volt|          Passenger|            53|               0|Odometer reading ...|               Used|         0|           null|        0|Registration Renewal|     January 17 2019|            2019|  King|      RENTON|                WA|      98055|              HB 2778 Eligiblit...|                                          HB 2042 Eligibili...|                                         true|                                   false|                                          false|                   Meets battery ran...|                   Non-sale, registr...|                      Non-sale, registr...|                      Yes|                                     No|                                     No|      53033029309|                  33|PUGET SOUND ENERG...|\n",
      "|               Plug-in Hybrid El...|1G1RB6S53H|     195316348|      2017|CHEVROLET|   Volt|          Passenger|            53|               0|Odometer reading ...|               Used|         0|           null|        0|Registration Renewal|     January 17 2020|            2020|  King|      RENTON|                WA|      98055|              HB 2778 Eligiblit...|                                          HB 2042 Eligibili...|                                         true|                                   false|                                          false|                   Meets battery ran...|                   Non-sale, registr...|                      Non-sale, registr...|                      Yes|                                    Yes|                                     No|      53033029309|                  33|PUGET SOUND ENERG...|\n",
      "|               Plug-in Hybrid El...|1G1RB6S53H|     195316348|      2017|CHEVROLET|   Volt|          Passenger|            53|               0|Odometer reading ...|               Used|         0|           null|        0|Registration Renewal|     January 25 2021|            2021|  King|      RENTON|                WA|      98055|              HB 2778 Eligiblit...|                                          HB 2042 Eligibili...|                                         true|                                   false|                                          false|                   Meets battery ran...|                   Non-sale, registr...|                      Non-sale, registr...|                      Yes|                                    Yes|                                     No|      53033029309|                  33|PUGET SOUND ENERG...|\n",
      "|               Plug-in Hybrid El...|1G1RB6S53H|     195316348|      2017|CHEVROLET|   Volt|          Passenger|            53|               0|Odometer reading ...|               Used|         0|           null|        0|Registration Renewal|    December 29 2021|            2021|  King|      RENTON|                WA|      98055|              HB 2778 Eligiblit...|                                          HB 2042 Eligibili...|                                         true|                                   false|                                          false|                   Meets battery ran...|                   Non-sale, registr...|                      Non-sale, registr...|                      Yes|                                    Yes|                                     No|      53033029309|                  33|PUGET SOUND ENERG...|\n",
      "|               Plug-in Hybrid El...|1G1RB6S53H|     195316348|      2017|CHEVROLET|   Volt|          Passenger|            53|               0|Odometer reading ...|               Used|         0|           null|        0|Registration Renewal|     January 12 2023|            2023|  King|      RENTON|                WA|      98055|              HB 2778 Eligiblit...|                                          HB 2042 Eligibili...|                                         true|                                   false|                                          false|                   Meets battery ran...|                   Non-sale, registr...|                      Non-sale, registr...|                      Yes|                                    Yes|                                     No|      53033029309|                  33|PUGET SOUND ENERG...|\n",
      "|               Plug-in Hybrid El...|5UXKT0C55J|     348486148|      2018|      BMW|     X5|          Passenger|            13|               0|Odometer reading ...|               Used|         0|           null|        0|Registration Renewal|    February 02 2022|            2022|  King|      RENTON|                WA|      98055|              HB 2778 Eligiblit...|                                          HB 2042 Eligibili...|                                        false|                                   false|                                          false|                      Low battery range|                   Non-sale, registr...|                      Non-sale, registr...|                       No|                                     No|                                    Yes|      53033029309|                  33|PUGET SOUND ENERG...|\n",
      "|               Plug-in Hybrid El...|5UXKT0C55J|     348486148|      2018|      BMW|     X5|          Passenger|            13|           21068|      Actual Mileage|               Used|     46495|January 26 2021|        0|      Transfer Title|    February 23 2021|            2021|  King|      RENTON|                WA|      98055|              HB 2778 Eligiblit...|                                          HB 2042 Eligibili...|                                        false|                                    true|                                          false|                      Low battery range|                   Meets purchase da...|                       Sale price too high|           Not Applicable|                         Not Applicable|                         Not Applicable|      53033029309|                  33|PUGET SOUND ENERG...|\n",
      "|               Battery Electric ...|7SAXCAE51P|     224190844|      2023|    TESLA|Model X|          Passenger|             0|              15|      Actual Mileage|                New|    109790|October 15 2022|        0|      Original Title|    November 03 2022|            2022| Clark|   VANCOUVER|                WA|      98664|              HB 2778 Eligiblit...|                                          HB 2042 Eligibili...|                                        false|                                    true|                                          false|                       No battery range|                   Meets purchase da...|                       Sale price too high|           Not Applicable|                         Not Applicable|                         Not Applicable|      53011041206|                  49|BONNEVILLE POWER ...|\n",
      "|               Battery Electric ...|7SAXCAE51P|     224190844|      2023|    TESLA|Model X|          Passenger|             0|               0|Odometer reading ...|                New|         0|           null|        0|Original Registra...|    November 03 2022|            2022| Clark|   VANCOUVER|                WA|      98664|              HB 2778 Eligiblit...|                                          HB 2042 Eligibili...|                                        false|                                   false|                                          false|                       No battery range|                   Non-sale, registr...|                      Non-sale, registr...|                       No|                                     No|                                     No|      53011041206|                  49|BONNEVILLE POWER ...|\n",
      "|               Battery Electric ...|KNDC4DLC1P|     238416405|      2023|      KIA|    EV6|          Passenger|             0|              18|      Actual Mileage|                New|     59485|  April 18 2023|        0|      Original Title|         May 02 2023|            2023|  King|     SEATTLE|                WA|      98115|              HB 2778 Eligiblit...|                                          HB 2042 Eligibili...|                                        false|                                    true|                                          false|                       No battery range|                   Meets purchase da...|                       Sale price too high|           Not Applicable|                         Not Applicable|                         Not Applicable|      53033002000|                  46|CITY OF SEATTLE -...|\n",
      "|               Battery Electric ...|KNDC4DLC1P|     238416405|      2023|      KIA|    EV6|          Passenger|             0|               0|Odometer reading ...|                New|         0|           null|        0|Original Registra...|         May 02 2023|            2023|  King|     SEATTLE|                WA|      98115|              HB 2778 Eligiblit...|                                          HB 2042 Eligibili...|                                        false|                                   false|                                          false|                       No battery range|                   Non-sale, registr...|                      Non-sale, registr...|                       No|                                     No|                                     No|      53033002000|                  46|CITY OF SEATTLE -...|\n",
      "+-----------------------------------+----------+--------------+----------+---------+-------+-------------------+--------------+----------------+--------------------+-------------------+----------+---------------+---------+--------------------+--------------------+----------------+------+------------+------------------+-----------+----------------------------------+--------------------------------------------------------------+---------------------------------------------+----------------------------------------+-----------------------------------------------+---------------------------------------+---------------------------------------+------------------------------------------+-------------------------+---------------------------------------+---------------------------------------+-----------------+--------------------+--------------------+\n",
      "only showing top 20 rows\n",
      "\n"
     ]
    }
   ],
   "source": [
    "dsReg.show()"
   ]
  },
  {
   "cell_type": "code",
   "execution_count": 187,
   "metadata": {},
   "outputs": [
    {
     "name": "stdout",
     "output_type": "stream",
     "text": [
      "+----+----------+----+\n",
      "|YEAR|WASHINGTON|  US|\n",
      "+----+----------+----+\n",
      "|1929|       740| 700|\n",
      "|1930|       657| 621|\n",
      "|1931|       534| 529|\n",
      "|1932|       402| 403|\n",
      "|1933|       376| 376|\n",
      "|1934|       442| 428|\n",
      "|1935|       491| 478|\n",
      "|1936|       570| 540|\n",
      "|1937|       601| 579|\n",
      "|1938|       583| 532|\n",
      "|1939|       618| 562|\n",
      "|1940|       667| 601|\n",
      "|1941|       885| 734|\n",
      "|1942|      1233| 940|\n",
      "|1943|      1507|1142|\n",
      "|1944|      1557|1226|\n",
      "|1945|      1452|1256|\n",
      "|1946|      1432|1291|\n",
      "|1947|      1531|1349|\n",
      "|1948|      1678|1456|\n",
      "+----+----------+----+\n",
      "only showing top 20 rows\n",
      "\n"
     ]
    }
   ],
   "source": [
    "dsIncome = spark.read.csv(path + \"washington-income.csv\", header=True, inferSchema=True)\n",
    "dsIncome.show()"
   ]
  },
  {
   "cell_type": "code",
   "execution_count": 7,
   "metadata": {},
   "outputs": [
    {
     "name": "stdout",
     "output_type": "stream",
     "text": [
      "+----+-----+-------+\n",
      "|Date|Value|Anomaly|\n",
      "+----+-----+-------+\n",
      "|1895| 45.2|   -0.9|\n",
      "|1896| 45.4|   -0.7|\n",
      "|1897| 45.3|   -0.8|\n",
      "|1898| 45.7|   -0.4|\n",
      "|1899| 45.1|   -1.0|\n",
      "|1900| 47.0|    0.9|\n",
      "|1901| 45.8|   -0.3|\n",
      "|1902| 45.3|   -0.8|\n",
      "|1903| 44.9|   -1.2|\n",
      "|1904| 46.6|    0.5|\n",
      "|1905| 45.9|   -0.2|\n",
      "|1906| 46.9|    0.8|\n",
      "|1907| 45.2|   -0.9|\n",
      "|1908| 45.9|   -0.2|\n",
      "|1909| 44.3|   -1.8|\n",
      "|1910| 46.0|   -0.1|\n",
      "|1911| 44.7|   -1.4|\n",
      "|1912| 45.5|   -0.6|\n",
      "|1913| 44.7|   -1.4|\n",
      "|1914| 46.5|    0.4|\n",
      "+----+-----+-------+\n",
      "only showing top 20 rows\n",
      "\n"
     ]
    }
   ],
   "source": [
    "dsWeather.show()"
   ]
  },
  {
   "attachments": {},
   "cell_type": "markdown",
   "metadata": {},
   "source": [
    "####  `Exploratory Data Analysis` <br>\n",
    "`Diving deep into the dataset to gain insights`"
   ]
  },
  {
   "attachments": {},
   "cell_type": "markdown",
   "metadata": {},
   "source": [
    "##### <u>`Analysing the Data Set 1 - EV Population` </u>"
   ]
  },
  {
   "cell_type": "code",
   "execution_count": 8,
   "metadata": {},
   "outputs": [
    {
     "name": "stdout",
     "output_type": "stream",
     "text": [
      "The total number of rows are 135038 and the Total Number of Columns are 17\n"
     ]
    }
   ],
   "source": [
    "# Printing the number of rows and columns \n",
    "print(\"The total number of rows are {} and the Total Number of Columns are {}\".format(ds.count(), len(ds.columns)))"
   ]
  },
  {
   "cell_type": "code",
   "execution_count": 9,
   "metadata": {},
   "outputs": [
    {
     "name": "stdout",
     "output_type": "stream",
     "text": [
      "root\n",
      " |-- VIN (1-10): string (nullable = true)\n",
      " |-- County: string (nullable = true)\n",
      " |-- City: string (nullable = true)\n",
      " |-- State: string (nullable = true)\n",
      " |-- Postal Code: string (nullable = true)\n",
      " |-- Model Year: string (nullable = true)\n",
      " |-- Make: string (nullable = true)\n",
      " |-- Model: string (nullable = true)\n",
      " |-- Electric Vehicle Type: string (nullable = true)\n",
      " |-- Clean Alternative Fuel Vehicle (CAFV) Eligibility: string (nullable = true)\n",
      " |-- Electric Range: string (nullable = true)\n",
      " |-- Base MSRP: string (nullable = true)\n",
      " |-- Legislative District: string (nullable = true)\n",
      " |-- DOL Vehicle ID: string (nullable = true)\n",
      " |-- Vehicle Location: string (nullable = true)\n",
      " |-- Electric Utility: string (nullable = true)\n",
      " |-- 2020 Census Tract: string (nullable = true)\n",
      "\n"
     ]
    }
   ],
   "source": [
    "# Printing the Schema of the Dataset\n",
    "ds.printSchema()"
   ]
  },
  {
   "cell_type": "code",
   "execution_count": 10,
   "metadata": {},
   "outputs": [
    {
     "data": {
      "text/plain": [
       "['VIN (1-10)',\n",
       " 'County',\n",
       " 'City',\n",
       " 'State',\n",
       " 'Postal Code',\n",
       " 'Model Year',\n",
       " 'Make',\n",
       " 'Model',\n",
       " 'Electric Vehicle Type',\n",
       " 'Clean Alternative Fuel Vehicle (CAFV) Eligibility',\n",
       " 'Electric Range',\n",
       " 'Base MSRP',\n",
       " 'Legislative District',\n",
       " 'DOL Vehicle ID',\n",
       " 'Vehicle Location',\n",
       " 'Electric Utility',\n",
       " '2020 Census Tract']"
      ]
     },
     "execution_count": 10,
     "metadata": {},
     "output_type": "execute_result"
    }
   ],
   "source": [
    "# Listing only the columns\n",
    "ds.columns"
   ]
  },
  {
   "cell_type": "code",
   "execution_count": 11,
   "metadata": {},
   "outputs": [
    {
     "name": "stdout",
     "output_type": "stream",
     "text": [
      "root\n",
      " |-- VIN (1-10): string (nullable = true)\n",
      " |-- County: string (nullable = true)\n",
      " |-- City: string (nullable = true)\n",
      " |-- State: string (nullable = true)\n",
      " |-- Postal Code: integer (nullable = true)\n",
      " |-- Model Year: integer (nullable = true)\n",
      " |-- Make: string (nullable = true)\n",
      " |-- Model: string (nullable = true)\n",
      " |-- Electric Vehicle Type: string (nullable = true)\n",
      " |-- Clean Alternative Fuel Vehicle (CAFV) Eligibility: string (nullable = true)\n",
      " |-- Electric Range: integer (nullable = true)\n",
      " |-- Base MSRP: integer (nullable = true)\n",
      " |-- Legislative District: integer (nullable = true)\n",
      " |-- DOL Vehicle ID: string (nullable = true)\n",
      " |-- Vehicle Location: string (nullable = true)\n",
      " |-- Electric Utility: string (nullable = true)\n",
      " |-- 2020 Census Tract: string (nullable = true)\n",
      "\n"
     ]
    }
   ],
   "source": [
    "# Converting the columns to Integer\n",
    "\n",
    "ds = ds.withColumn(\"Postal Code\", col(\"Postal Code\").cast(IntegerType()))\n",
    "ds = ds.withColumn(\"Model Year\", col(\"Model Year\").cast(IntegerType()))\n",
    "ds = ds.withColumn(\"Electric Range\", col(\"Electric Range\").cast(IntegerType()))\n",
    "ds = ds.withColumn(\"Base MSRP\", col(\"Base MSRP\").cast(IntegerType()))\n",
    "ds = ds.withColumn(\"Postal Code\", col(\"Postal Code\").cast(IntegerType()))\n",
    "ds = ds.withColumn(\"Legislative District\", col(\"Legislative District\").cast(IntegerType()))\n",
    "\n",
    "ds.printSchema()"
   ]
  },
  {
   "cell_type": "code",
   "execution_count": 12,
   "metadata": {},
   "outputs": [
    {
     "name": "stdout",
     "output_type": "stream",
     "text": [
      "The count of the null values in the each columns are as follows:\n",
      " 'VIN (1-10)': 0\n",
      " 'County': 8\n",
      " 'City': 8\n",
      " 'State': 0\n",
      " 'Postal Code': 8\n",
      " 'Model Year': 0\n",
      " 'Make': 0\n",
      " 'Model': 249\n",
      " 'Electric Vehicle Type': 0\n",
      " 'Clean Alternative Fuel Vehicle (CAFV) Eligibility': 0\n",
      " 'Electric Range': 1\n",
      " 'Base MSRP': 1\n",
      " 'Legislative District': 312\n",
      " 'DOL Vehicle ID': 0\n",
      " 'Vehicle Location': 10\n",
      " 'Electric Utility': 8\n",
      " '2020 Census Tract': 8\n"
     ]
    }
   ],
   "source": [
    "# Finding the Null Values \n",
    "# Counting null values in each column\n",
    "null_counts = ds.select([sum(col(c).isNull().cast(\"int\")).alias(c) for c in ds.columns])\n",
    "\n",
    "# Converting the result to a dictionary for better display\n",
    "null_counts_dict = null_counts.first().asDict()\n",
    "\n",
    "print(\"The count of the null values in the each columns are as follows:\")\n",
    "for column, count in null_counts_dict.items():\n",
    "    print(f\" '{column}': {count}\")"
   ]
  },
  {
   "cell_type": "code",
   "execution_count": 13,
   "metadata": {},
   "outputs": [
    {
     "name": "stdout",
     "output_type": "stream",
     "text": [
      "+----------+---------+-----------+-----+-----------+----------+-------+--------+---------------------+-------------------------------------------------+--------------+---------+--------------------+--------------+--------------------+--------------------+-----------------+\n",
      "|VIN (1-10)|   County|       City|State|Postal Code|Model Year|   Make|   Model|Electric Vehicle Type|Clean Alternative Fuel Vehicle (CAFV) Eligibility|Electric Range|Base MSRP|Legislative District|DOL Vehicle ID|    Vehicle Location|    Electric Utility|2020 Census Tract|\n",
      "+----------+---------+-----------+-----+-----------+----------+-------+--------+---------------------+-------------------------------------------------+--------------+---------+--------------------+--------------+--------------------+--------------------+-----------------+\n",
      "|WP0BE2A7XP|Jefferson|Port Ludlow|   WA|      98365|      2023|PORSCHE|PANAMERA| Plug-in Hybrid El...|                             Clean Alternative...|          null|     null|                  24|     238952402|POINT (-122.68722...|BONNEVILLE POWER ...|      53031950302|\n",
      "+----------+---------+-----------+-----+-----------+----------+-------+--------+---------------------+-------------------------------------------------+--------------+---------+--------------------+--------------+--------------------+--------------------+-----------------+\n",
      "\n"
     ]
    }
   ],
   "source": [
    "# Confirming the data which are having 8 missing values are in the same row\n",
    "# ds.filter(ds[\"County\"].isNull()).show()\n",
    "ds.filter(ds[\"Electric Range\"].isNull()).show()"
   ]
  },
  {
   "cell_type": "code",
   "execution_count": 14,
   "metadata": {},
   "outputs": [],
   "source": [
    "\"\"\" After Confirmation, Handling the Null Values for the Colums\n",
    " County, City, Postal Code, Electric Utiliy, 2020 Census Tract \"\"\"\n",
    "\n",
    "ds = ds.fillna('No Data', subset=['County', 'City', 'Electric Utility', '2020 Census Tract'])\n",
    "ds = ds.fillna(0, subset=['Postal Code'])"
   ]
  },
  {
   "cell_type": "code",
   "execution_count": 15,
   "metadata": {},
   "outputs": [],
   "source": [
    "# Replacing the Data with Mean \n",
    "# Calculating the mean value of 'Electric Range' column\n",
    "electricRangeMean = ds.select(mean(col('Electric Range'))).first()[0]\n",
    "\n",
    "# Calculating the mean value of 'Base MSRP' column\n",
    "baseMsrpMean = ds.select(mean(col('Base MSRP'))).first()[0]\n",
    "\n",
    "ds = ds.fillna(electricRangeMean, subset=['Electric Range'])\n",
    "ds = ds.fillna(baseMsrpMean, subset=['Base MSRP'])"
   ]
  },
  {
   "cell_type": "code",
   "execution_count": 16,
   "metadata": {},
   "outputs": [
    {
     "name": "stdout",
     "output_type": "stream",
     "text": [
      "+-------+-----------------+-----------------+--------------------+\n",
      "|summary|   Electric Range|        Base MSRP|Legislative District|\n",
      "+-------+-----------------+-----------------+--------------------+\n",
      "|  count|           135038|           135038|              134726|\n",
      "|   mean|74.59195930034508|1448.407322383329|  29.504379258643468|\n",
      "| stddev|98.74375409698548| 9683.62228219301|  14.783779638721953|\n",
      "|    min|                0|                0|                   1|\n",
      "|    max|              337|           845000|                  49|\n",
      "+-------+-----------------+-----------------+--------------------+\n",
      "\n"
     ]
    }
   ],
   "source": [
    "# Describe using Spark\n",
    "ds.select('Electric Range', 'Base MSRP', 'Legislative District').describe().show()"
   ]
  },
  {
   "cell_type": "code",
   "execution_count": 17,
   "metadata": {},
   "outputs": [
    {
     "name": "stdout",
     "output_type": "stream",
     "text": [
      "+-------+-----------------+-----------------+--------------------+\n",
      "|summary|   Electric Range|        Base MSRP|Legislative District|\n",
      "+-------+-----------------+-----------------+--------------------+\n",
      "|  count|           135038|           135038|              134726|\n",
      "|   mean|74.59195930034508|1448.407322383329|  29.504379258643468|\n",
      "| stddev|98.74375409698548| 9683.62228219301|  14.783779638721953|\n",
      "|    min|                0|                0|                   1|\n",
      "|    25%|                0|                0|                  18|\n",
      "|    50%|               21|                0|                  34|\n",
      "|    75%|              150|                0|                  43|\n",
      "|    max|              337|           845000|                  49|\n",
      "+-------+-----------------+-----------------+--------------------+\n",
      "\n"
     ]
    }
   ],
   "source": [
    "# We didnt get the values of median, 25% and 75% we tried summary to get those stats\n",
    "ds.select('Electric Range', 'Base MSRP', 'Legislative District').summary(\"count\", \"mean\", \"stddev\", \"min\", \"25%\", \"50%\", \"75%\", \"max\").show()"
   ]
  },
  {
   "cell_type": "code",
   "execution_count": 18,
   "metadata": {},
   "outputs": [
    {
     "name": "stdout",
     "output_type": "stream",
     "text": [
      "'VIN (1-10)': 9365 unique values\n",
      "'County': 166 unique values\n",
      "'City': 694 unique values\n",
      "'State': 47 unique values\n",
      "'Postal Code': 802 unique values\n",
      "'Model Year': 21 unique values\n",
      "'Make': 32 unique values\n",
      "'Model': 125 unique values\n",
      "'Electric Vehicle Type': 2 unique values\n",
      "'Clean Alternative Fuel Vehicle (CAFV) Eligibility': 3 unique values\n",
      "'Electric Range': 105 unique values\n",
      "'Base MSRP': 33 unique values\n",
      "'Legislative District': 49 unique values\n",
      "'DOL Vehicle ID': 135319 unique values\n",
      "'Vehicle Location': 739 unique values\n",
      "'Electric Utility': 83 unique values\n",
      "'2020 Census Tract': 1896 unique values\n"
     ]
    }
   ],
   "source": [
    "unique_counts = []\n",
    "for column in ds.columns:\n",
    "    unique_count = ds.select(approx_count_distinct(col(column))).first()[0]\n",
    "    unique_counts.append((column, unique_count))\n",
    "\n",
    "# Display the number of unique values in each column\n",
    "for column, count in unique_counts:\n",
    "    print(f\"'{column}': {count} unique values\")"
   ]
  },
  {
   "cell_type": "code",
   "execution_count": 19,
   "metadata": {},
   "outputs": [
    {
     "name": "stdout",
     "output_type": "stream",
     "text": [
      "+----------+-----+\n",
      "|Model Year|count|\n",
      "+----------+-----+\n",
      "|      1997|    1|\n",
      "|      1998|    1|\n",
      "|      1999|    4|\n",
      "|      2000|    9|\n",
      "|      2002|    2|\n",
      "|      2003|    1|\n",
      "|      2008|   20|\n",
      "|      2010|   23|\n",
      "|      2011|  815|\n",
      "|      2012| 1657|\n",
      "|      2013| 4598|\n",
      "|      2014| 3601|\n",
      "|      2015| 4925|\n",
      "|      2016| 5688|\n",
      "|      2017| 8579|\n",
      "|      2018|14343|\n",
      "|      2019|10577|\n",
      "|      2020|11151|\n",
      "|      2021|18554|\n",
      "|      2022|27983|\n",
      "+----------+-----+\n",
      "only showing top 20 rows\n",
      "\n"
     ]
    }
   ],
   "source": [
    "# Unique Years and Its Count \n",
    "ds.groupBy('Model Year').count().orderBy(col('Model Year')).show()\n",
    "\n"
   ]
  },
  {
   "cell_type": "code",
   "execution_count": 20,
   "metadata": {},
   "outputs": [
    {
     "name": "stdout",
     "output_type": "stream",
     "text": [
      "+------------+-----+\n",
      "|      County|count|\n",
      "+------------+-----+\n",
      "|        King|70842|\n",
      "|   Snohomish|15258|\n",
      "|      Pierce|10410|\n",
      "|       Clark| 7997|\n",
      "|    Thurston| 4851|\n",
      "|      Kitsap| 4461|\n",
      "|     Spokane| 3326|\n",
      "|     Whatcom| 3315|\n",
      "|      Benton| 1688|\n",
      "|      Skagit| 1504|\n",
      "|      Island| 1496|\n",
      "|     Clallam|  830|\n",
      "|   Jefferson|  828|\n",
      "|    San Juan|  802|\n",
      "|      Chelan|  796|\n",
      "|      Yakima|  735|\n",
      "|     Cowlitz|  664|\n",
      "|       Mason|  639|\n",
      "|       Lewis|  515|\n",
      "|Grays Harbor|  476|\n",
      "+------------+-----+\n",
      "only showing top 20 rows\n",
      "\n"
     ]
    }
   ],
   "source": [
    "# County and Its Count \n",
    "ds.groupBy('County').count().orderBy(col('count').desc()).show()\n"
   ]
  },
  {
   "cell_type": "code",
   "execution_count": 21,
   "metadata": {},
   "outputs": [
    {
     "name": "stdout",
     "output_type": "stream",
     "text": [
      "+-------------+-----+\n",
      "|         City|count|\n",
      "+-------------+-----+\n",
      "|      Seattle|23489|\n",
      "|     Bellevue| 6960|\n",
      "|      Redmond| 4965|\n",
      "|    Vancouver| 4819|\n",
      "|     Kirkland| 4201|\n",
      "|      Bothell| 4196|\n",
      "|    Sammamish| 3950|\n",
      "|       Renton| 3516|\n",
      "|      Olympia| 3228|\n",
      "|       Tacoma| 2846|\n",
      "|   Bellingham| 2281|\n",
      "|     Issaquah| 2108|\n",
      "|      Spokane| 1999|\n",
      "|Mercer Island| 1943|\n",
      "|         Kent| 1942|\n",
      "|     Lynnwood| 1895|\n",
      "|  Woodinville| 1873|\n",
      "|      Everett| 1804|\n",
      "|    Snohomish| 1567|\n",
      "|   Gig Harbor| 1525|\n",
      "+-------------+-----+\n",
      "only showing top 20 rows\n",
      "\n"
     ]
    }
   ],
   "source": [
    "# City and Its Count \n",
    "ds.groupBy('City').count().orderBy(col('count').desc()).show()\n"
   ]
  },
  {
   "cell_type": "code",
   "execution_count": 22,
   "metadata": {},
   "outputs": [
    {
     "name": "stdout",
     "output_type": "stream",
     "text": [
      "+----------+---------+----------------+-----+-----------+----------+-----+-------+---------------------+-------------------------------------------------+--------------+---------+--------------------+--------------+--------------------+--------------------+-----------------+\n",
      "|VIN (1-10)|   County|            City|State|Postal Code|Model Year| Make|  Model|Electric Vehicle Type|Clean Alternative Fuel Vehicle (CAFV) Eligibility|Electric Range|Base MSRP|Legislative District|DOL Vehicle ID|    Vehicle Location|    Electric Utility|2020 Census Tract|\n",
      "+----------+---------+----------------+-----+-----------+----------+-----+-------+---------------------+-------------------------------------------------+--------------+---------+--------------------+--------------+--------------------+--------------------+-----------------+\n",
      "|WMW13DJ01R|     King|        Bellevue|   WA|      98008|      2024| MINI|HARDTOP| Battery Electric ...|                             Eligibility unkno...|             0|        0|                  48|     239938828|POINT (-122.11831...|PUGET SOUND ENERG...|      53033023300|\n",
      "|JM3KKEHA4R| Franklin|           Pasco|   WA|      99301|      2024|MAZDA|  CX-90| Plug-in Hybrid El...|                             Not eligible due ...|            26|        0|                  16|     240714211|POINT (-119.09819...|BONNEVILLE POWER ...|      53021020504|\n",
      "|JM3KKEHA5R|    Clark|       Vancouver|   WA|      98662|      2024|MAZDA|  CX-90| Plug-in Hybrid El...|                             Not eligible due ...|            26|        0|                  17|     240488895|POINT (-122.59184...|BONNEVILLE POWER ...|      53011041104|\n",
      "|WMW13DJ00R|    Clark|           Camas|   WA|      98607|      2024| MINI|HARDTOP| Battery Electric ...|                             Eligibility unkno...|             0|        0|                  18|     239950112|POINT (-122.40556...|BONNEVILLE POWER ...|      53011040608|\n",
      "|JM3KKEHAXR|  Spokane|         Spokane|   WA|      99207|      2024|MAZDA|  CX-90| Plug-in Hybrid El...|                             Not eligible due ...|            26|        0|                   3|     240730199|POINT (-117.39786...|MODERN ELECTRIC W...|      53063001400|\n",
      "|JM3KKEHA6R|Snohomish|         Everett|   WA|      98204|      2024|MAZDA|  CX-90| Plug-in Hybrid El...|                             Not eligible due ...|            26|        0|                  21|     241533876|POINT (-122.24128...|PUGET SOUND ENERG...|      53061041809|\n",
      "|WMW13DJ01R|  Whitman|         Pullman|   WA|      99163|      2024| MINI|HARDTOP| Battery Electric ...|                             Eligibility unkno...|             0|        0|                   9|     237950849|POINT (-117.17911...|         AVISTA CORP|      53075000300|\n",
      "|WMW13DJ03R|     King|Lake Forest Park|   WA|      98155|      2024| MINI|HARDTOP| Battery Electric ...|                             Eligibility unkno...|             0|        0|                  46|     238286205|POINT (-122.31749...|CITY OF SEATTLE -...|      53033021400|\n",
      "|JM3KKDHA7R|     King|    Maple Valley|   WA|      98038|      2024|MAZDA|  CX-90| Plug-in Hybrid El...|                             Not eligible due ...|            26|        0|                   5|     238701158|POINT (-122.05190...|PUGET SOUND ENERG...|      53033032008|\n",
      "|WMW13DJ05R|     King|         Seattle|   WA|      98119|      2024| MINI|HARDTOP| Battery Electric ...|                             Eligibility unkno...|             0|        0|                  36|     236311771|POINT (-122.36381...|CITY OF SEATTLE -...|      53033005804|\n",
      "|JM3KKEHA8R| Thurston|         Olympia|   WA|      98502|      2024|MAZDA|  CX-90| Plug-in Hybrid El...|                             Not eligible due ...|            26|        0|                  22|     240454595|POINT (-122.92145...|PUGET SOUND ENERG...|      53067010520|\n",
      "|5UX43EU06R|Snohomish|         Bothell|   WA|      98021|      2024|  BMW|     X5| Plug-in Hybrid El...|                             Clean Alternative...|            39|        0|                   1|     240672211|POINT (-122.17945...|PUGET SOUND ENERG...|      53061051918|\n",
      "|5UX43EU02R|   Benton|       Kennewick|   WA|      99338|      2024|  BMW|     X5| Plug-in Hybrid El...|                             Clean Alternative...|            39|        0|                  16|     238632544|POINT (-119.19730...|BONNEVILLE POWER ...|      53005010814|\n",
      "|WA16ABGE4R|    Clark|           Camas|   WA|      98607|      2024| AUDI|     Q8| Battery Electric ...|                             Eligibility unkno...|             0|        0|                  18|     240816887|POINT (-122.40556...|BONNEVILLE POWER ...|      53011041325|\n",
      "|JM3KKEHA0R|   Kitsap|         Seabeck|   WA|      98380|      2024|MAZDA|  CX-90| Plug-in Hybrid El...|                             Not eligible due ...|            26|        0|                  35|     240374816|POINT (-122.84746...|PUGET SOUND ENERG...|      53035091301|\n",
      "|JTJKKCFZ7R| Franklin|           Pasco|   WA|      99301|      2024|LEXUS|     NX| Plug-in Hybrid El...|                             Clean Alternative...|            37|        0|                   9|     241040509|POINT (-119.09819...|BONNEVILLE POWER ...|      53021020501|\n",
      "|WMW13DJ07R|     King|         Seattle|   WA|      98109|      2024| MINI|HARDTOP| Battery Electric ...|                             Eligibility unkno...|             0|        0|                  36|     237761443|POINT (-122.34848...|CITY OF SEATTLE -...|      53033007002|\n",
      "|JM3KKEHA1R|Snohomish|          Monroe|   WA|      98272|      2024|MAZDA|  CX-90| Plug-in Hybrid El...|                             Not eligible due ...|            26|        0|                  39|     240575303|POINT (-121.97221...|PUGET SOUND ENERG...|      53061052208|\n",
      "|WB523CF03R|   Pierce|      Gig Harbor|   WA|      98329|      2024|  BMW|     IX| Battery Electric ...|                             Eligibility unkno...|             0|        0|                  26|     240721302|POINT (-122.66579...|BONNEVILLE POWER ...|      53053072503|\n",
      "|WMW13DJ04R|     King|         Seattle|   WA|      98108|      2024| MINI|HARDTOP| Battery Electric ...|                             Eligibility unkno...|             0|        0|                  11|     240074698|POINT (-122.32689...|CITY OF SEATTLE -...|      53033009300|\n",
      "+----------+---------+----------------+-----+-----------+----------+-----+-------+---------------------+-------------------------------------------------+--------------+---------+--------------------+--------------+--------------------+--------------------+-----------------+\n",
      "only showing top 20 rows\n",
      "\n"
     ]
    }
   ],
   "source": [
    "ds.filter(ds[\"Model Year\"]==2024).show()"
   ]
  },
  {
   "attachments": {},
   "cell_type": "markdown",
   "metadata": {},
   "source": [
    "##### `Visualiztion(s) - DataSet 1 (EV Population)`"
   ]
  },
  {
   "cell_type": "code",
   "execution_count": 23,
   "metadata": {},
   "outputs": [
    {
     "data": {
      "image/png": "[encoded data removed]",
      "text/plain": [
       "<Figure size 1000x600 with 1 Axes>"
      ]
     },
     "metadata": {},
     "output_type": "display_data"
    }
   ],
   "source": [
    "#Counts of Each Make in the Dataset\n",
    "makeCounts = ds.groupBy('Make').count().orderBy('count', ascending=False)\n",
    "\n",
    "# Create a bar chart using Seaborn\n",
    "plt.figure(figsize=(10, 6))  # Adjust the figure size as needed\n",
    "ax = sns.barplot(data=makeCounts.limit(20).toPandas(), x='count', y='Make')\n",
    "plt.xlabel('Count')\n",
    "plt.ylabel('Make')\n",
    "plt.title('Counts of Each Make in the Dataset (Top 20)')\n",
    "\n",
    "# Add count labels to the bars\n",
    "for i, count in enumerate(makeCounts.limit(20).select('count').toPandas()['count']):\n",
    "    ax.text(count + 1, i, str(count), va='center')\n",
    "\n",
    "plt.show()"
   ]
  },
  {
   "attachments": {},
   "cell_type": "markdown",
   "metadata": {},
   "source": [
    "`In the above graph we are just listing the top 20 because, these models hold the majority and the others were a very little portion`"
   ]
  },
  {
   "cell_type": "code",
   "execution_count": 24,
   "metadata": {},
   "outputs": [
    {
     "data": {
      "image/png": "[encoded data removed]",
      "text/plain": [
       "<Figure size 1000x600 with 1 Axes>"
      ]
     },
     "metadata": {},
     "output_type": "display_data"
    }
   ],
   "source": [
    "# Group the DataFrame by 'Model Year' and calculate the count\n",
    "yearCountsC2 = ds.groupBy('Model Year').count().orderBy('Model Year')\n",
    "\n",
    "# Create a new column 'Year Group' to group 'Model Year' values\n",
    "yearCountsC2 = yearCountsC2.withColumn('Year Group',\n",
    "                                     when((yearCountsC2['Model Year'] >= 1997) & (yearCountsC2['Model Year'] <= 2010),\n",
    "                                          '1997-2010').otherwise(yearCountsC2['Model Year']))\n",
    "\n",
    "# Group the DataFrame by 'Year Group' and sum the counts\n",
    "groupedCountsC2 = yearCountsC2.groupBy('Year Group').sum('count').orderBy('Year Group')\n",
    "\n",
    "# Create a line graph using Seaborn\n",
    "plt.figure(figsize=(10, 6))  # Adjust the figure size as needed\n",
    "\n",
    "# Plot the line graph\n",
    "sns.lineplot(data=groupedCountsC2.toPandas(), x='Year Group', y='sum(count)')\n",
    "\n",
    "# Add colored dots and labels for each year\n",
    "for index, row in groupedCountsC2.toPandas().iterrows():\n",
    "    plt.plot(row['Year Group'], row['sum(count)'], 'o', markersize=5, color='green')  \n",
    "    # Add colored dot for each year\n",
    "    plt.text(row['Year Group'], row['sum(count)'], row['sum(count)'], ha='center', va='bottom')  \n",
    "    # Add label for each year\n",
    "\n",
    "plt.xlabel('Year')\n",
    "plt.ylabel('Count')\n",
    "plt.title('Population of Electronic Vehicle by Year')\n",
    "\n",
    "plt.show()"
   ]
  },
  {
   "attachments": {},
   "cell_type": "markdown",
   "metadata": {},
   "source": [
    "`Here we have grouped the 1997 - 2010 as a single column for beter visualization and also we assume the 2024 is a projected population or it have a delivery date by 2024. But when we go to the Registration dataset we can interpret better. Also we can notice that there is a constant growth happening in the EV population over the years. The 2023 is less because it is having just partial data` "
   ]
  },
  {
   "cell_type": "code",
   "execution_count": 25,
   "metadata": {},
   "outputs": [
    {
     "data": {
      "image/png": "[encoded data removed]",
      "text/plain": [
       "<Figure size 1000x600 with 1 Axes>"
      ]
     },
     "metadata": {},
     "output_type": "display_data"
    }
   ],
   "source": [
    "# Grouping the DataFrame by 'County' and calculate the count\n",
    "countyCountsC3 = ds.groupBy('County').count().orderBy(col('count').desc())\n",
    "\n",
    "# Now the top 19 counties as a separate variable\n",
    "top19Counties = countyCountsC3.limit(19)\n",
    "\n",
    "# count for remaining counties\n",
    "otherCountC3 = countyCountsC3.agg({'count': 'sum'}).collect()[0][0] - top19Counties.agg({'count': 'sum'}).collect()[0][0]\n",
    "\n",
    "# Create a new DataFrame for the top 19 counties and \"Others\"\n",
    "countyCountsFiltered = top19Counties.union(spark.createDataFrame([(\"Others\", otherCountC3)], [\"County\", \"count\"]))\n",
    "\n",
    "# Create a bar graph using Seaborn\n",
    "plt.figure(figsize=(10, 6))  # Adjust the figure size as needed\n",
    "\n",
    "# Plot the bar graph\n",
    "sns.barplot(data=countyCountsFiltered.toPandas(), x='count', y='County', color='steelblue')\n",
    "\n",
    "plt.xlabel('Count')\n",
    "plt.ylabel('County')\n",
    "plt.title('Vehicle Counts by County (Top 19 and Others)')\n",
    "\n",
    "plt.show()"
   ]
  },
  {
   "attachments": {},
   "cell_type": "markdown",
   "metadata": {},
   "source": [
    "`in All the charts we are limiting the count for effective visualizations and here in this graph we are listing the top 19 and grouping the rest of county as others . The King coutry tops the list with an ~70K in total`"
   ]
  },
  {
   "cell_type": "code",
   "execution_count": 26,
   "metadata": {},
   "outputs": [
    {
     "data": {
      "image/png": "[encoded data removed]",
      "text/plain": [
       "<Figure size 800x800 with 1 Axes>"
      ]
     },
     "metadata": {},
     "output_type": "display_data"
    }
   ],
   "source": [
    "# Group the DataFrame by 'Electric Vehicle Type' and calculate the count\n",
    "vehicleTypeCountsC4 = ds.groupBy('Electric Vehicle Type').count()\n",
    "\n",
    "# Convert the DataFrame to a Pandas DataFrame\n",
    "vehicleTypeCountsPandasC4 = vehicleTypeCountsC4.toPandas()\n",
    "\n",
    "# Plot the pie chart\n",
    "plt.figure(figsize=(8, 8))  # Adjust the figure size as needed\n",
    "plt.pie(vehicleTypeCountsPandasC4['count'], labels=vehicleTypeCountsPandasC4['Electric Vehicle Type'], autopct='%1.1f%%', startangle=90)\n",
    "\n",
    "plt.axis('equal')  # Ensure the pie is drawn as a circle\n",
    "plt.title('Distribution of Vehicle Types')\n",
    "\n",
    "plt.show()"
   ]
  },
  {
   "attachments": {},
   "cell_type": "markdown",
   "metadata": {},
   "source": [
    "`Here battery Electric Vehicle is holding 76% of the Market Share `"
   ]
  },
  {
   "cell_type": "code",
   "execution_count": 27,
   "metadata": {},
   "outputs": [
    {
     "data": {
      "image/png": "[encoded data removed]",
      "text/plain": [
       "<Figure size 800x800 with 1 Axes>"
      ]
     },
     "metadata": {},
     "output_type": "display_data"
    }
   ],
   "source": [
    "# Group the DataFrame by 'Electric Vehicle Type' and 'Clean Alternative Fuel Vehicle (CAFV) Eligibility' and calculate the count\n",
    "vehicle_type_cafv_counts = ds.groupBy('Electric Vehicle Type', 'Clean Alternative Fuel Vehicle (CAFV) Eligibility').count()\n",
    "\n",
    "# Convert the DataFrame to a Pandas DataFrame\n",
    "vehicle_type_cafv_counts_pandas = vehicle_type_cafv_counts.toPandas()\n",
    "\n",
    "# Pivot the DataFrame to create columns for each CAFV eligibility\n",
    "pivoted_counts = vehicle_type_cafv_counts_pandas.pivot(index='Electric Vehicle Type', columns='Clean Alternative Fuel Vehicle (CAFV) Eligibility', values='count')\n",
    "\n",
    "# Plot the donut chart\n",
    "plt.figure(figsize=(8, 8))  # Adjust the figure size as needed\n",
    "plt.pie(pivoted_counts.sum(), labels=pivoted_counts.columns, autopct='%1.1f%%', startangle=90, wedgeprops=dict(width=0.3))\n",
    "\n",
    "plt.axis('equal')  # Ensure the pie is drawn as a circle\n",
    "plt.title('Distribution of Vehicle Types by CAFV Eligibility')\n",
    "\n",
    "plt.show()"
   ]
  },
  {
   "cell_type": "code",
   "execution_count": 28,
   "metadata": {},
   "outputs": [
    {
     "name": "stdout",
     "output_type": "stream",
     "text": [
      "+-------------+-----+\n",
      "|Make         |count|\n",
      "+-------------+-----+\n",
      "|AUDI         |11   |\n",
      "|BMW          |11   |\n",
      "|MERCEDES-BENZ|9    |\n",
      "|HYUNDAI      |8    |\n",
      "|FORD         |8    |\n",
      "|VOLVO        |8    |\n",
      "|KIA          |7    |\n",
      "|TOYOTA       |6    |\n",
      "|CHEVROLET    |5    |\n",
      "|TESLA        |5    |\n",
      "|PORSCHE      |4    |\n",
      "|SMART        |3    |\n",
      "|CADILLAC     |3    |\n",
      "|GENESIS      |3    |\n",
      "|RIVIAN       |3    |\n",
      "|SUBARU       |2    |\n",
      "|NISSAN       |2    |\n",
      "|BENTLEY      |2    |\n",
      "|MINI         |2    |\n",
      "|LEXUS        |2    |\n",
      "+-------------+-----+\n",
      "only showing top 20 rows\n",
      "\n"
     ]
    }
   ],
   "source": [
    "# Lets see how many models each brand have \n",
    "ds.groupBy('Make', 'Model').count().groupBy('Make').count().orderBy('count', ascending=False).show(truncate=False)"
   ]
  },
  {
   "cell_type": "code",
   "execution_count": 48,
   "metadata": {},
   "outputs": [
    {
     "data": {
      "image/png": "[encoded data removed]",
      "text/plain": [
       "<Figure size 1000x600 with 1 Axes>"
      ]
     },
     "metadata": {},
     "output_type": "display_data"
    }
   ],
   "source": [
    "# Group the DataFrame by 'Make', 'Model', and count the occurrences\n",
    "makeModelCounts = ds.groupBy('Make', 'Model').count()\n",
    "\n",
    "# Group the DataFrame by 'Make' and count the number of unique models for each make\n",
    "makeCounts = makeModelCounts.groupBy('Make').count().orderBy('count', ascending=False)\n",
    "\n",
    "# Convert the DataFrame to Pandas for plotting\n",
    "makeCountsPandas = makeCounts.toPandas()\n",
    "\n",
    "# Create a bar plot using Seaborn\n",
    "plt.figure(figsize=(10, 6))  # Adjust the figure size as needed\n",
    "ax = sns.barplot(data=makeCountsPandas, x='Make', y='count')\n",
    "plt.xlabel('Brands')\n",
    "plt.ylabel('Number of Models')\n",
    "plt.title('Number of Unique Models by Make')\n",
    "\n",
    "# Rotate the x-axis labels for better readability\n",
    "plt.xticks(rotation=90)\n",
    "\n",
    "# Display the plot\n",
    "plt.show()"
   ]
  },
  {
   "cell_type": "code",
   "execution_count": 41,
   "metadata": {},
   "outputs": [
    {
     "name": "stdout",
     "output_type": "stream",
     "text": [
      "+-------------+-------------+-------------+----------+------------+----------+-----+\n",
      "|         Make|Minimum Range|Maximum Range|Mean Range|Median Range|Mode Range|count|\n",
      "+-------------+-------------+-------------+----------+------------+----------+-----+\n",
      "|        TESLA|          200|          337|    240.49|       220.0|        18|25876|\n",
      "|       NISSAN|           73|          215|    103.35|        84.0|         8|11053|\n",
      "|    CHEVROLET|           35|          259|    127.62|        53.0|         7| 8697|\n",
      "|          BMW|           13|          153|     47.38|        30.0|        17| 5002|\n",
      "|       TOYOTA|            6|          103|     27.06|        25.0|         6| 4827|\n",
      "|         FORD|           19|          100|     24.99|        19.0|        10| 3927|\n",
      "|          KIA|           26|          239|     97.14|        34.0|         9| 3219|\n",
      "|         JEEP|           21|           25|     22.25|        21.0|         3| 2615|\n",
      "|     CHRYSLER|           32|           33|     32.29|        32.0|         2| 2237|\n",
      "|        VOLVO|           13|           41|     22.74|        18.0|        10| 2203|\n",
      "|         AUDI|           16|          222|     79.88|        20.0|        11| 1919|\n",
      "|   VOLKSWAGEN|           83|          125|    107.09|       125.0|         2| 1046|\n",
      "|         FIAT|           84|           87|     85.65|        87.0|         2|  807|\n",
      "|        HONDA|           13|           48|     46.62|        47.0|         3|  787|\n",
      "|   MITSUBISHI|           22|           62|     28.83|        22.0|         5|  748|\n",
      "|      PORSCHE|           12|          203|     69.72|        15.0|        11|  665|\n",
      "|      HYUNDAI|           27|          258|    109.16|        33.0|         9|  642|\n",
      "|MERCEDES-BENZ|            8|           87|     29.96|        10.0|         8|  360|\n",
      "|         MINI|           12|          110|     50.84|        17.0|         3|  327|\n",
      "|        SMART|           57|           68|     62.47|        58.0|         3|  277|\n",
      "+-------------+-------------+-------------+----------+------------+----------+-----+\n",
      "only showing top 20 rows\n",
      "\n"
     ]
    }
   ],
   "source": [
    "# Checking & Comparing the Electric Range between the models\n",
    "# Filter out the unwanted value from 'Clean Alternative Fuel Vehicle (CAFV) Eligibility' column\n",
    "filteredDSForAnalysis = ds.filter(col('Electric Range') != 0)\n",
    "\n",
    "# Calculate the statistics for Electric Range by Make\n",
    "electricRangeStats = filteredDSForAnalysis.groupBy('Make').agg(\n",
    "    min('Electric Range').alias('Minimum Range'),\n",
    "    max('Electric Range').alias('Maximum Range'),\n",
    "    format_number(mean('Electric Range'), 2).alias('Mean Range'),\n",
    "    median('Electric Range').alias('Median Range'),\n",
    "    approx_count_distinct('Electric Range').alias('Mode Range')\n",
    ")\n",
    "\n",
    "# Calculate the count of each make in the whole dataset\n",
    "makeCounts = filteredDSForAnalysis.groupBy('Make').count()\n",
    "\n",
    "# Join electricRangeStats with makeCounts\n",
    "electricRangeStats = electricRangeStats.join(makeCounts, 'Make')\n",
    "\n",
    "# Sort the DataFrame by the count in descending order\n",
    "sortedMakeRangeStats = electricRangeStats.orderBy(desc('count'))\n",
    "\n",
    "# Display the sorted DataFrame\n",
    "sortedMakeRangeStats.show()"
   ]
  },
  {
   "attachments": {},
   "cell_type": "markdown",
   "metadata": {},
   "source": [
    "##### `Now this table gives us a meaningful insights because we have filtered the CAFV column which has unknown columns battery range because of no research done`"
   ]
  },
  {
   "cell_type": "code",
   "execution_count": 50,
   "metadata": {},
   "outputs": [
    {
     "data": {
      "text/plain": [
       "78055"
      ]
     },
     "execution_count": 50,
     "metadata": {},
     "output_type": "execute_result"
    }
   ],
   "source": [
    "# Checking Column\n",
    "# ds.filter((ds['Electric Range'] > 0) & (ds['Electric Vehicle Type']=='Plug-in Hybrid Electric Vehicle (PHEV)')).show(truncate=False)\n",
    "# ds.filter((ds['Electric Range'] > 0) & (ds['Electric Vehicle Type']=='Battery Electric Vehicle (BEV)')).select('Clean Alternative Fuel Vehicle (CAFV) Eligibility').distinct().show(truncate=False)\n",
    "# ds.filter((ds['Electric Range'] > 0)).select('Electric Vehicle Type').distinct().show(truncate=False)\n",
    "# ds.filter((ds['Electric Range'] == 0) & (ds['Make']=='TESLA')).select('Electric Vehicle Type').distinct().show()\n",
    "# testing.select('Electric Vehicle Type').distinct().show()\n",
    "# ds.filter(ds['Electric Range'] == 0).select('Model').distinct().show()\n",
    "ds.filter((ds['Electric Range'] != 0)).count()"
   ]
  },
  {
   "attachments": {},
   "cell_type": "markdown",
   "metadata": {},
   "source": [
    "##### <u>`Analysing the Data Set 2 - EV Registration` </u>"
   ]
  },
  {
   "cell_type": "code",
   "execution_count": 32,
   "metadata": {},
   "outputs": [
    {
     "name": "stdout",
     "output_type": "stream",
     "text": [
      "+-----------------------------------+----------+--------------+----------+---------+-------+-------------------+--------------+----------------+--------------------+-------------------+----------+---------------+---------+--------------------+--------------------+----------------+------+------------+------------------+-----------+----------------------------------+--------------------------------------------------------------+---------------------------------------------+----------------------------------------+-----------------------------------------------+---------------------------------------+---------------------------------------+------------------------------------------+-------------------------+---------------------------------------+---------------------------------------+-----------------+--------------------+--------------------+\n",
      "|Clean Alternative Fuel Vehicle Type|VIN (1-10)|DOL Vehicle ID|Model Year|     Make|  Model|Vehicle Primary Use|Electric Range|Odometer Reading|       Odometer Code|New or Used Vehicle|Sale Price|      Sale Date|Base MSRP|    Transaction Type|DOL Transaction Date|Transaction Year|County|        City|State of Residence|Postal Code|2015 HB 2778 Exemption Eligibility|2019 HB 2042 Clean Alternative Fuel Vehicle (CAFV) Eligibility|Meets 2019 HB 2042 Electric Range Requirement|Meets 2019 HB 2042 Sale Date Requirement|Meets 2019 HB 2042 Sale Price/Value Requirement|2019 HB 2042: Battery Range Requirement|2019 HB 2042: Purchase Date Requirement|2019 HB 2042: Sale Price/Value Requirement|Electric Vehicle Fee Paid|Transportation Electrification Fee Paid|Hybrid Vehicle Electrification Fee Paid|2020 Census Tract|Legislative District|    Electric Utility|\n",
      "+-----------------------------------+----------+--------------+----------+---------+-------+-------------------+--------------+----------------+--------------------+-------------------+----------+---------------+---------+--------------------+--------------------+----------------+------+------------+------------------+-----------+----------------------------------+--------------------------------------------------------------+---------------------------------------------+----------------------------------------+-----------------------------------------------+---------------------------------------+---------------------------------------+------------------------------------------+-------------------------+---------------------------------------+---------------------------------------+-----------------+--------------------+--------------------+\n",
      "|               Plug-in Hybrid El...|1G1RD6E47C|     142240136|      2012|CHEVROLET|   Volt|          Passenger|            35|               0|Odometer reading ...|               Used|         0|           null|        0|Registration Renewal|        July 10 2020|            2020|  King|    BELLEVUE|                WA|      98007|              HB 2778 Eligiblit...|                                          HB 2042 Eligibili...|                                         true|                                   false|                                          false|                   Meets battery ran...|                   Non-sale, registr...|                      Non-sale, registr...|                      Yes|                                    Yes|                                     No|      53033023300|                  48|PUGET SOUND ENERG...|\n",
      "|               Plug-in Hybrid El...|1G1RD6E47C|     142240136|      2012|CHEVROLET|   Volt|          Passenger|            35|               0|Odometer reading ...|               Used|         0|           null|        0|Registration Renewal|        July 23 2021|            2021|  King|    BELLEVUE|                WA|      98007|              HB 2778 Eligiblit...|                                          HB 2042 Eligibili...|                                         true|                                   false|                                          false|                   Meets battery ran...|                   Non-sale, registr...|                      Non-sale, registr...|                      Yes|                                    Yes|                                     No|      53033023300|                  48|PUGET SOUND ENERG...|\n",
      "|               Battery Electric ...|5YJ3E1EA0J|     196972009|      2018|    TESLA|Model 3|          Passenger|           215|              50|      Actual Mileage|                New|     55000|    May 23 2018|        0|      Original Title|        June 06 2018|            2018|  King|     SEATTLE|                WA|      98105|              HB 2778 Eligiblit...|                                          HB 2042 Eligibili...|                                         true|                                   false|                                          false|                   Meets battery ran...|                   Sale before Augus...|                       Sale price too high|           Not Applicable|                         Not Applicable|                         Not Applicable|      53033004402|                  43|CITY OF SEATTLE -...|\n",
      "|               Battery Electric ...|5YJ3E1EA0J|     196972009|      2018|    TESLA|Model 3|          Passenger|           215|               0|Odometer reading ...|                New|         0|           null|        0|Original Registra...|        June 06 2018|            2018|  King|     SEATTLE|                WA|      98105|              HB 2778 Eligiblit...|                                          HB 2042 Eligibili...|                                         true|                                   false|                                          false|                   Meets battery ran...|                   Non-sale, registr...|                      Non-sale, registr...|                       No|                                     No|                                     No|      53033004402|                  43|CITY OF SEATTLE -...|\n",
      "|               Battery Electric ...|5YJ3E1EA0J|     196972009|      2018|    TESLA|Model 3|          Passenger|           215|               0|Odometer reading ...|               Used|         0|           null|        0|Registration Renewal|       April 18 2019|            2019|  King|     SEATTLE|                WA|      98105|              HB 2778 Eligiblit...|                                          HB 2042 Eligibili...|                                         true|                                   false|                                          false|                   Meets battery ran...|                   Non-sale, registr...|                      Non-sale, registr...|                      Yes|                                     No|                                     No|      53033004402|                  43|CITY OF SEATTLE -...|\n",
      "|               Battery Electric ...|KNDJX3AE4G|       2824944|      2016|      KIA|   Soul|          Passenger|            93|               0|Odometer reading ...|               Used|         0|           null|    31950|Registration at t...|    November 04 2022|            2022|Kitsap|PORT ORCHARD|                WA|      98367|              HB 2778 Eligiblit...|                                          HB 2042 Eligibili...|                                         true|                                   false|                                          false|                   Meets battery ran...|                   Non-sale, registr...|                      Non-sale, registr...|                      Yes|                                    Yes|                                     No|      53035092901|                  35|PUGET SOUND ENERG...|\n",
      "|               Plug-in Hybrid El...|1G1RB6S53H|     195316348|      2017|CHEVROLET|   Volt|          Passenger|            53|              75|      Actual Mileage|                New|     37570|January 13 2017|        0|      Original Title|    February 22 2017|            2017|  King|      RENTON|                WA|      98055|              HB 2778 Eligiblit...|                                          HB 2042 Eligibili...|                                         true|                                   false|                                           true|                   Meets battery ran...|                   Sale before Augus...|                      Meets title trans...|           Not Applicable|                         Not Applicable|                         Not Applicable|      53033029309|                  33|PUGET SOUND ENERG...|\n",
      "|               Plug-in Hybrid El...|1G1RB6S53H|     195316348|      2017|CHEVROLET|   Volt|          Passenger|            53|               0|Odometer reading ...|                New|         0|           null|        0|Original Registra...|    February 22 2017|            2017|  King|      RENTON|                WA|      98055|              HB 2778 Eligiblit...|                                          HB 2042 Eligibili...|                                         true|                                   false|                                          false|                   Meets battery ran...|                   Non-sale, registr...|                      Non-sale, registr...|                       No|                                     No|                                     No|      53033029309|                  33|PUGET SOUND ENERG...|\n",
      "|               Plug-in Hybrid El...|1G1RB6S53H|     195316348|      2017|CHEVROLET|   Volt|          Passenger|            53|               0|Odometer reading ...|               Used|         0|           null|        0|Registration Renewal|     January 31 2018|            2018|  King|      RENTON|                WA|      98055|              HB 2778 Eligiblit...|                                          HB 2042 Eligibili...|                                         true|                                   false|                                          false|                   Meets battery ran...|                   Non-sale, registr...|                      Non-sale, registr...|                      Yes|                                     No|                                     No|      53033029309|                  33|PUGET SOUND ENERG...|\n",
      "|               Plug-in Hybrid El...|1G1RB6S53H|     195316348|      2017|CHEVROLET|   Volt|          Passenger|            53|               0|Odometer reading ...|               Used|         0|           null|        0|Registration Renewal|     January 17 2019|            2019|  King|      RENTON|                WA|      98055|              HB 2778 Eligiblit...|                                          HB 2042 Eligibili...|                                         true|                                   false|                                          false|                   Meets battery ran...|                   Non-sale, registr...|                      Non-sale, registr...|                      Yes|                                     No|                                     No|      53033029309|                  33|PUGET SOUND ENERG...|\n",
      "|               Plug-in Hybrid El...|1G1RB6S53H|     195316348|      2017|CHEVROLET|   Volt|          Passenger|            53|               0|Odometer reading ...|               Used|         0|           null|        0|Registration Renewal|     January 17 2020|            2020|  King|      RENTON|                WA|      98055|              HB 2778 Eligiblit...|                                          HB 2042 Eligibili...|                                         true|                                   false|                                          false|                   Meets battery ran...|                   Non-sale, registr...|                      Non-sale, registr...|                      Yes|                                    Yes|                                     No|      53033029309|                  33|PUGET SOUND ENERG...|\n",
      "|               Plug-in Hybrid El...|1G1RB6S53H|     195316348|      2017|CHEVROLET|   Volt|          Passenger|            53|               0|Odometer reading ...|               Used|         0|           null|        0|Registration Renewal|     January 25 2021|            2021|  King|      RENTON|                WA|      98055|              HB 2778 Eligiblit...|                                          HB 2042 Eligibili...|                                         true|                                   false|                                          false|                   Meets battery ran...|                   Non-sale, registr...|                      Non-sale, registr...|                      Yes|                                    Yes|                                     No|      53033029309|                  33|PUGET SOUND ENERG...|\n",
      "|               Plug-in Hybrid El...|1G1RB6S53H|     195316348|      2017|CHEVROLET|   Volt|          Passenger|            53|               0|Odometer reading ...|               Used|         0|           null|        0|Registration Renewal|    December 29 2021|            2021|  King|      RENTON|                WA|      98055|              HB 2778 Eligiblit...|                                          HB 2042 Eligibili...|                                         true|                                   false|                                          false|                   Meets battery ran...|                   Non-sale, registr...|                      Non-sale, registr...|                      Yes|                                    Yes|                                     No|      53033029309|                  33|PUGET SOUND ENERG...|\n",
      "|               Plug-in Hybrid El...|1G1RB6S53H|     195316348|      2017|CHEVROLET|   Volt|          Passenger|            53|               0|Odometer reading ...|               Used|         0|           null|        0|Registration Renewal|     January 12 2023|            2023|  King|      RENTON|                WA|      98055|              HB 2778 Eligiblit...|                                          HB 2042 Eligibili...|                                         true|                                   false|                                          false|                   Meets battery ran...|                   Non-sale, registr...|                      Non-sale, registr...|                      Yes|                                    Yes|                                     No|      53033029309|                  33|PUGET SOUND ENERG...|\n",
      "|               Plug-in Hybrid El...|5UXKT0C55J|     348486148|      2018|      BMW|     X5|          Passenger|            13|               0|Odometer reading ...|               Used|         0|           null|        0|Registration Renewal|    February 02 2022|            2022|  King|      RENTON|                WA|      98055|              HB 2778 Eligiblit...|                                          HB 2042 Eligibili...|                                        false|                                   false|                                          false|                      Low battery range|                   Non-sale, registr...|                      Non-sale, registr...|                       No|                                     No|                                    Yes|      53033029309|                  33|PUGET SOUND ENERG...|\n",
      "|               Plug-in Hybrid El...|5UXKT0C55J|     348486148|      2018|      BMW|     X5|          Passenger|            13|           21068|      Actual Mileage|               Used|     46495|January 26 2021|        0|      Transfer Title|    February 23 2021|            2021|  King|      RENTON|                WA|      98055|              HB 2778 Eligiblit...|                                          HB 2042 Eligibili...|                                        false|                                    true|                                          false|                      Low battery range|                   Meets purchase da...|                       Sale price too high|           Not Applicable|                         Not Applicable|                         Not Applicable|      53033029309|                  33|PUGET SOUND ENERG...|\n",
      "|               Battery Electric ...|7SAXCAE51P|     224190844|      2023|    TESLA|Model X|          Passenger|             0|              15|      Actual Mileage|                New|    109790|October 15 2022|        0|      Original Title|    November 03 2022|            2022| Clark|   VANCOUVER|                WA|      98664|              HB 2778 Eligiblit...|                                          HB 2042 Eligibili...|                                        false|                                    true|                                          false|                       No battery range|                   Meets purchase da...|                       Sale price too high|           Not Applicable|                         Not Applicable|                         Not Applicable|      53011041206|                  49|BONNEVILLE POWER ...|\n",
      "|               Battery Electric ...|7SAXCAE51P|     224190844|      2023|    TESLA|Model X|          Passenger|             0|               0|Odometer reading ...|                New|         0|           null|        0|Original Registra...|    November 03 2022|            2022| Clark|   VANCOUVER|                WA|      98664|              HB 2778 Eligiblit...|                                          HB 2042 Eligibili...|                                        false|                                   false|                                          false|                       No battery range|                   Non-sale, registr...|                      Non-sale, registr...|                       No|                                     No|                                     No|      53011041206|                  49|BONNEVILLE POWER ...|\n",
      "|               Battery Electric ...|KNDC4DLC1P|     238416405|      2023|      KIA|    EV6|          Passenger|             0|              18|      Actual Mileage|                New|     59485|  April 18 2023|        0|      Original Title|         May 02 2023|            2023|  King|     SEATTLE|                WA|      98115|              HB 2778 Eligiblit...|                                          HB 2042 Eligibili...|                                        false|                                    true|                                          false|                       No battery range|                   Meets purchase da...|                       Sale price too high|           Not Applicable|                         Not Applicable|                         Not Applicable|      53033002000|                  46|CITY OF SEATTLE -...|\n",
      "|               Battery Electric ...|KNDC4DLC1P|     238416405|      2023|      KIA|    EV6|          Passenger|             0|               0|Odometer reading ...|                New|         0|           null|        0|Original Registra...|         May 02 2023|            2023|  King|     SEATTLE|                WA|      98115|              HB 2778 Eligiblit...|                                          HB 2042 Eligibili...|                                        false|                                   false|                                          false|                       No battery range|                   Non-sale, registr...|                      Non-sale, registr...|                       No|                                     No|                                     No|      53033002000|                  46|CITY OF SEATTLE -...|\n",
      "+-----------------------------------+----------+--------------+----------+---------+-------+-------------------+--------------+----------------+--------------------+-------------------+----------+---------------+---------+--------------------+--------------------+----------------+------+------------+------------------+-----------+----------------------------------+--------------------------------------------------------------+---------------------------------------------+----------------------------------------+-----------------------------------------------+---------------------------------------+---------------------------------------+------------------------------------------+-------------------------+---------------------------------------+---------------------------------------+-----------------+--------------------+--------------------+\n",
      "only showing top 20 rows\n",
      "\n"
     ]
    }
   ],
   "source": [
    "dsReg.show()"
   ]
  },
  {
   "cell_type": "code",
   "execution_count": 33,
   "metadata": {},
   "outputs": [
    {
     "name": "stdout",
     "output_type": "stream",
     "text": [
      "+--------------------------------+\n",
      "|Transaction Type                |\n",
      "+--------------------------------+\n",
      "|Original Registration           |\n",
      "|Original Title                  |\n",
      "|Registration Renewal            |\n",
      "|Registration at time of Transfer|\n",
      "|Transfer Title                  |\n",
      "+--------------------------------+\n",
      "\n"
     ]
    }
   ],
   "source": [
    "# Types of Uses \n",
    "dsReg.select('Transaction Type').distinct().show(truncate=False)"
   ]
  },
  {
   "cell_type": "code",
   "execution_count": 34,
   "metadata": {},
   "outputs": [
    {
     "data": {
      "text/plain": [
       "135038"
      ]
     },
     "execution_count": 34,
     "metadata": {},
     "output_type": "execute_result"
    }
   ],
   "source": [
    "ds.count()"
   ]
  },
  {
   "cell_type": "code",
   "execution_count": 35,
   "metadata": {},
   "outputs": [
    {
     "data": {
      "text/plain": [
       "740274"
      ]
     },
     "execution_count": 35,
     "metadata": {},
     "output_type": "execute_result"
    }
   ],
   "source": [
    "dsReg.count()"
   ]
  },
  {
   "cell_type": "code",
   "execution_count": 36,
   "metadata": {},
   "outputs": [
    {
     "data": {
      "text/plain": [
       "164177"
      ]
     },
     "execution_count": 36,
     "metadata": {},
     "output_type": "execute_result"
    }
   ],
   "source": [
    "# Here we need only the Original Registration for this analysis so lets create a new dataset based on that\n",
    "\n",
    "dsRegOrginal = dsReg.filter(dsReg['Transaction Type'] == 'Original Registration')\n",
    "dsRegOrginal.count()"
   ]
  },
  {
   "cell_type": "code",
   "execution_count": 37,
   "metadata": {},
   "outputs": [
    {
     "name": "stdout",
     "output_type": "stream",
     "text": [
      "The count of the null values in the each columns are as follows:\n",
      " 'Clean Alternative Fuel Vehicle Type': 0\n",
      " 'VIN (1-10)': 0\n",
      " 'DOL Vehicle ID': 0\n",
      " 'Model Year': 0\n",
      " 'Make': 0\n",
      " 'Model': 248\n",
      " 'Vehicle Primary Use': 0\n",
      " 'Electric Range': 1\n",
      " 'Odometer Reading': 0\n",
      " 'Odometer Code': 0\n",
      " 'New or Used Vehicle': 0\n",
      " 'Sale Price': 0\n",
      " 'Sale Date': 142096\n",
      " 'Base MSRP': 1\n",
      " 'Transaction Type': 0\n",
      " 'DOL Transaction Date': 0\n",
      " 'Transaction Year': 0\n",
      " 'County': 11\n",
      " 'City': 21\n",
      " 'State of Residence': 0\n",
      " 'Postal Code': 13\n",
      " '2015 HB 2778 Exemption Eligibility': 0\n",
      " '2019 HB 2042 Clean Alternative Fuel Vehicle (CAFV) Eligibility': 0\n",
      " 'Meets 2019 HB 2042 Electric Range Requirement': 0\n",
      " 'Meets 2019 HB 2042 Sale Date Requirement': 0\n",
      " 'Meets 2019 HB 2042 Sale Price/Value Requirement': 0\n",
      " '2019 HB 2042: Battery Range Requirement': 0\n",
      " '2019 HB 2042: Purchase Date Requirement': 0\n",
      " '2019 HB 2042: Sale Price/Value Requirement': 0\n",
      " 'Electric Vehicle Fee Paid': 0\n",
      " 'Transportation Electrification Fee Paid': 24564\n",
      " 'Hybrid Vehicle Electrification Fee Paid': 24564\n",
      " '2020 Census Tract': 11\n",
      " 'Legislative District': 637\n",
      " 'Electric Utility': 11\n"
     ]
    }
   ],
   "source": [
    "# Finding the Null Values \n",
    "# Counting null values in each column\n",
    "null_counts = dsRegOrginal.select([sum(col(c).isNull().cast(\"int\")).alias(c) for c in dsRegOrginal.columns])\n",
    "\n",
    "# Converting the result to a dictionary for better display\n",
    "null_counts_dict = null_counts.first().asDict()\n",
    "\n",
    "print(\"The count of the null values in the each columns are as follows:\")\n",
    "for column, count in null_counts_dict.items():\n",
    "    print(f\" '{column}': {count}\")"
   ]
  },
  {
   "cell_type": "code",
   "execution_count": 86,
   "metadata": {},
   "outputs": [],
   "source": [
    "dsRegOrginal = dsRegOrginal.fillna(0, subset=['Postal Code', '2020 Census Tract'])\n",
    "dsRegOrginal = dsRegOrginal.fillna('No Data', subset=['County', 'City', 'Postal Code', 'Electric Utility'])"
   ]
  },
  {
   "cell_type": "code",
   "execution_count": 88,
   "metadata": {},
   "outputs": [],
   "source": [
    "# Replacing the Data with Mean \n",
    "# Calculating the mean value of 'Electric Range' column\n",
    "electricRangeMeanDs2 = dsRegOrginal.select(mean(col('Electric Range'))).first()[0]\n",
    "\n",
    "# Calculating the mean value of 'Base MSRP' column\n",
    "baseMsrpMeanDs2 = dsRegOrginal.select(mean(col('Base MSRP'))).first()[0]\n",
    "\n",
    "dsRegOrginal = dsRegOrginal.fillna(electricRangeMeanDs2, subset=['Electric Range'])\n",
    "dsRegOrginal = dsRegOrginal.fillna(baseMsrpMeanDs2, subset=['Base MSRP'])"
   ]
  },
  {
   "cell_type": "code",
   "execution_count": 98,
   "metadata": {},
   "outputs": [],
   "source": [
    "dsRegOrginal = dsRegOrginal.fillna('Volvo - No Model', subset=['Model'])"
   ]
  },
  {
   "cell_type": "code",
   "execution_count": 99,
   "metadata": {},
   "outputs": [
    {
     "name": "stdout",
     "output_type": "stream",
     "text": [
      "The count of the null values in each column greater than 0 are as follows:\n",
      " 'Sale Date': 142096\n",
      " 'Transportation Electrification Fee Paid': 24564\n",
      " 'Hybrid Vehicle Electrification Fee Paid': 24564\n",
      " 'Legislative District': 637\n"
     ]
    }
   ],
   "source": [
    "# Finding the Null Values\n",
    "# Counting null values in each column\n",
    "null_counts = dsRegOrginal.select([sum(col(c).isNull().cast(\"int\")).alias(c) for c in dsRegOrginal.columns])\n",
    "\n",
    "# Converting the result to a dictionary for better display\n",
    "null_counts_dict = null_counts.first().asDict()\n",
    "\n",
    "print(\"The count of the null values in each column greater than 0 are as follows:\")\n",
    "for column, count in null_counts_dict.items():\n",
    "    if count > 0:\n",
    "        print(f\" '{column}': {count}\")\n"
   ]
  },
  {
   "cell_type": "code",
   "execution_count": 97,
   "metadata": {},
   "outputs": [
    {
     "name": "stdout",
     "output_type": "stream",
     "text": [
      "+-----------------------------------+----------+--------------+----------+-----+-----+-------------------+--------------+----------------+--------------------+-------------------+----------+---------+---------+--------------------+--------------------+----------------+---------+-----------+------------------+-----------+----------------------------------+--------------------------------------------------------------+---------------------------------------------+----------------------------------------+-----------------------------------------------+---------------------------------------+---------------------------------------+------------------------------------------+-------------------------+---------------------------------------+---------------------------------------+-----------------+--------------------+--------------------+\n",
      "|Clean Alternative Fuel Vehicle Type|VIN (1-10)|DOL Vehicle ID|Model Year| Make|Model|Vehicle Primary Use|Electric Range|Odometer Reading|       Odometer Code|New or Used Vehicle|Sale Price|Sale Date|Base MSRP|    Transaction Type|DOL Transaction Date|Transaction Year|   County|       City|State of Residence|Postal Code|2015 HB 2778 Exemption Eligibility|2019 HB 2042 Clean Alternative Fuel Vehicle (CAFV) Eligibility|Meets 2019 HB 2042 Electric Range Requirement|Meets 2019 HB 2042 Sale Date Requirement|Meets 2019 HB 2042 Sale Price/Value Requirement|2019 HB 2042: Battery Range Requirement|2019 HB 2042: Purchase Date Requirement|2019 HB 2042: Sale Price/Value Requirement|Electric Vehicle Fee Paid|Transportation Electrification Fee Paid|Hybrid Vehicle Electrification Fee Paid|2020 Census Tract|Legislative District|    Electric Utility|\n",
      "+-----------------------------------+----------+--------------+----------+-----+-----+-------------------+--------------+----------------+--------------------+-------------------+----------+---------+---------+--------------------+--------------------+----------------+---------+-----------+------------------+-----------+----------------------------------+--------------------------------------------------------------+---------------------------------------------+----------------------------------------+-----------------------------------------------+---------------------------------------+---------------------------------------+------------------------------------------+-------------------------+---------------------------------------+---------------------------------------+-----------------+--------------------+--------------------+\n",
      "|               Battery Electric ...|YV4ED3UMXP|     235531117|      2023|VOLVO| null|          Passenger|             0|               0|Odometer reading ...|                New|         0|     null|        0|Original Registra...|       March 14 2023|            2023|     King|   BELLEVUE|                WA|      98004|              HB 2778 Eligiblit...|                                          HB 2042 Eligibili...|                                        false|                                   false|                                          false|                       No battery range|                   Non-sale, registr...|                      Non-sale, registr...|                       No|                                     No|                                     No|      53033023901|                  41|PUGET SOUND ENERG...|\n",
      "|               Battery Electric ...|YV4ED3UW1P|     227240163|      2023|VOLVO| null|          Passenger|             0|               0|Odometer reading ...|                New|         0|     null|        0|Original Registra...|     January 09 2023|            2023|     King|    SEATTLE|                WA|      98146|              HB 2778 Eligiblit...|                                          HB 2042 Eligibili...|                                        false|                                   false|                                          false|                       No battery range|                   Non-sale, registr...|                      Non-sale, registr...|                       No|                                     No|                                     No|      53033012100|                  34|CITY OF SEATTLE -...|\n",
      "|               Battery Electric ...|YV4ED3UM3P|     236408882|      2023|VOLVO| null|          Passenger|             0|               0|Odometer reading ...|                New|         0|     null|        0|Original Registra...|       April 25 2023|            2023|     King|   KIRKLAND|                WA|      98033|              HB 2778 Eligiblit...|                                          HB 2042 Eligibili...|                                        false|                                   false|                                          false|                       No battery range|                   Non-sale, registr...|                      Non-sale, registr...|                       No|                                     No|                                     No|      53033022603|                  45|PUGET SOUND ENERG...|\n",
      "|               Battery Electric ...|YV4ED3UM1P|     240569206|      2023|VOLVO| null|          Passenger|             0|               0|Odometer reading ...|                New|         0|     null|        0|Original Registra...|         May 25 2023|            2023|     King|    SEATTLE|                WA|      98102|              HB 2778 Eligiblit...|                                          HB 2042 Eligibili...|                                        false|                                   false|                                          false|                       No battery range|                   Non-sale, registr...|                      Non-sale, registr...|                       No|                                     No|                                     No|      53033006500|                  43|CITY OF SEATTLE -...|\n",
      "|               Battery Electric ...|YV4ED3UM7P|     231074630|      2023|VOLVO| null|          Passenger|             0|               0|Odometer reading ...|                New|         0|     null|        0|Original Registra...|       March 14 2023|            2023|Snohomish|    EDMONDS|                WA|      98026|              HB 2778 Eligiblit...|                                          HB 2042 Eligibili...|                                        false|                                   false|                                          false|                       No battery range|                   Non-sale, registr...|                      Non-sale, registr...|                       No|                                     No|                                     No|      53061050300|                  21|PUGET SOUND ENERG...|\n",
      "|               Battery Electric ...|YV4ED3UM8P|     231122867|      2023|VOLVO| null|          Passenger|             0|               0|Odometer reading ...|                New|         0|     null|        0|Original Registra...|       March 10 2023|            2023| Thurston|    OLYMPIA|                WA|      98506|              HB 2778 Eligiblit...|                                          HB 2042 Eligibili...|                                        false|                                   false|                                          false|                       No battery range|                   Non-sale, registr...|                      Non-sale, registr...|                       No|                                     No|                                     No|      53067012223|                  22|PUGET SOUND ENERG...|\n",
      "|               Battery Electric ...|YV4ED3UM8P|     227239715|      2023|VOLVO| null|          Passenger|             0|               0|Odometer reading ...|                New|         0|     null|        0|Original Registra...|    December 27 2022|            2022|   Kitsap|    POULSBO|                WA|      98370|              HB 2778 Eligiblit...|                                          HB 2042 Eligibili...|                                        false|                                   false|                                          false|                       No battery range|                   Non-sale, registr...|                      Non-sale, registr...|                       No|                                     No|                                     No|      53035090202|                  23|PUGET SOUND ENERG...|\n",
      "|               Battery Electric ...|YV4ED3UW3P|     229283484|      2023|VOLVO| null|          Passenger|             0|               0|Odometer reading ...|                New|         0|     null|        0|Original Registra...|    February 21 2023|            2023|     King|    SEATTLE|                WA|      98103|              HB 2778 Eligiblit...|                                          HB 2042 Eligibili...|                                        false|                                   false|                                          false|                       No battery range|                   Non-sale, registr...|                      Non-sale, registr...|                       No|                                     No|                                     No|      53033002700|                  46|CITY OF SEATTLE -...|\n",
      "|               Battery Electric ...|YV4ED3UM9P|     235144990|      2023|VOLVO| null|          Passenger|             0|               0|Odometer reading ...|                New|         0|     null|        0|Original Registra...|       March 31 2023|            2023|     King|   BELLEVUE|                WA|      98008|              HB 2778 Eligiblit...|                                          HB 2042 Eligibili...|                                        false|                                   false|                                          false|                       No battery range|                   Non-sale, registr...|                      Non-sale, registr...|                       No|                                     No|                                     No|      53033023403|                  48|PUGET SOUND ENERG...|\n",
      "|               Battery Electric ...|YV4ED3UL9P|     233585838|      2023|VOLVO| null|          Passenger|             0|               0|Odometer reading ...|                New|         0|     null|        0|Original Registra...|       March 27 2023|            2023|     King|WOODINVILLE|                WA|      98072|              HB 2778 Eligiblit...|                                          HB 2042 Eligibili...|                                        false|                                   false|                                          false|                       No battery range|                   Non-sale, registr...|                      Non-sale, registr...|                       No|                                     No|                                     No|      53033021906|                  45|PUGET SOUND ENERG...|\n",
      "|               Battery Electric ...|YV4ED3UW2P|     224685695|      2023|VOLVO| null|          Passenger|             0|               0|Odometer reading ...|                New|         0|     null|        0|Original Registra...|    December 13 2022|            2022|     King|   BELLEVUE|                WA|      98005|              HB 2778 Eligiblit...|                                          HB 2042 Eligibili...|                                        false|                                   false|                                          false|                       No battery range|                   Non-sale, registr...|                      Non-sale, registr...|                       No|                                     No|                                     No|      53033023500|                  41|PUGET SOUND ENERG...|\n",
      "|               Battery Electric ...|YV4ED3UW4P|     226044115|      2023|VOLVO| null|          Passenger|             0|               0|Odometer reading ...|                New|         0|     null|        0|Original Registra...|    December 12 2022|            2022|Snohomish|    BOTHELL|                WA|      98021|              HB 2778 Eligiblit...|                                          HB 2042 Eligibili...|                                        false|                                   false|                                          false|                       No battery range|                   Non-sale, registr...|                      Non-sale, registr...|                       No|                                     No|                                     No|      53061051917|                   1|PUGET SOUND ENERG...|\n",
      "|               Battery Electric ...|YV4ED3UL8P|     230611356|      2023|VOLVO| null|          Passenger|             0|               0|Odometer reading ...|                New|         0|     null|        0|Original Registra...|       March 14 2023|            2023|Snohomish|    BOTHELL|                WA|      98021|              HB 2778 Eligiblit...|                                          HB 2042 Eligibili...|                                        false|                                   false|                                          false|                       No battery range|                   Non-sale, registr...|                      Non-sale, registr...|                       No|                                     No|                                     No|      53061051926|                   1|PUGET SOUND ENERG...|\n",
      "|               Battery Electric ...|YV4ED3ULXP|     237713458|      2023|VOLVO| null|          Passenger|             0|               0|Odometer reading ...|                New|         0|     null|        0|Original Registra...|       April 20 2023|            2023|   Kitsap|  HANSVILLE|                WA|      98340|              HB 2778 Eligiblit...|                                          HB 2042 Eligibili...|                                        false|                                   false|                                          false|                       No battery range|                   Non-sale, registr...|                      Non-sale, registr...|                       No|                                     No|                                     No|      53035090102|                  23|PUGET SOUND ENERG...|\n",
      "|               Battery Electric ...|YV4ED3UW1P|     236425430|      2023|VOLVO| null|          Passenger|             0|               0|Odometer reading ...|                New|         0|     null|        0|Original Registra...|       April 20 2023|            2023|     King|    SEATTLE|                WA|      98125|              HB 2778 Eligiblit...|                                          HB 2042 Eligibili...|                                        false|                                   false|                                          false|                       No battery range|                   Non-sale, registr...|                      Non-sale, registr...|                       No|                                     No|                                     No|      53033000700|                  46|CITY OF SEATTLE -...|\n",
      "|               Battery Electric ...|YV4ED3UL1P|     228303218|      2023|VOLVO| null|          Passenger|             0|               0|Odometer reading ...|                New|         0|     null|        0|Original Registra...|     January 20 2023|            2023|     King|   KIRKLAND|                WA|      98034|              HB 2778 Eligiblit...|                                          HB 2042 Eligibili...|                                        false|                                   false|                                          false|                       No battery range|                   Non-sale, registr...|                      Non-sale, registr...|                       No|                                     No|                                     No|      53033021904|                  45|PUGET SOUND ENERG...|\n",
      "|               Battery Electric ...|YV4ED3UL4P|     239976236|      2023|VOLVO| null|          Passenger|             0|               0|Odometer reading ...|                New|         0|     null|        0|Original Registra...|         May 15 2023|            2023|     King|    SEATTLE|                WA|      98144|              HB 2778 Eligiblit...|                                          HB 2042 Eligibili...|                                        false|                                   false|                                          false|                       No battery range|                   Non-sale, registr...|                      Non-sale, registr...|                       No|                                     No|                                     No|      53033008900|                  37|CITY OF SEATTLE -...|\n",
      "|               Battery Electric ...|YV4ED3UM3P|     235064623|      2023|VOLVO| null|          Passenger|             0|               0|Odometer reading ...|                New|         0|     null|        0|Original Registra...|       April 19 2023|            2023|     King|  CARNATION|                WA|      98014|              HB 2778 Eligiblit...|                                          HB 2042 Eligibili...|                                        false|                                   false|                                          false|                       No battery range|                   Non-sale, registr...|                      Non-sale, registr...|                       No|                                     No|                                     No|      53033032500|                   5|CITY OF TACOMA - ...|\n",
      "|               Battery Electric ...|YV4ED3UM5P|     230544268|      2023|VOLVO| null|          Passenger|             0|               0|Odometer reading ...|                New|         0|     null|        0|Original Registra...|       March 13 2023|            2023|Snohomish|  SNOHOMISH|                WA|      98296|              HB 2778 Eligiblit...|                                          HB 2042 Eligibili...|                                        false|                                   false|                                          false|                       No battery range|                   Non-sale, registr...|                      Non-sale, registr...|                       No|                                     No|                                     No|      53061052008|                  44|PUGET SOUND ENERG...|\n",
      "|               Battery Electric ...|YV4ED3UM6P|     228798678|      2023|VOLVO| null|          Passenger|             0|               0|Odometer reading ...|                New|         0|     null|        0|Original Registra...|     January 09 2023|            2023|Snohomish|   LYNNWOOD|                WA|      98037|              HB 2778 Eligiblit...|                                          HB 2042 Eligibili...|                                        false|                                   false|                                          false|                       No battery range|                   Non-sale, registr...|                      Non-sale, registr...|                       No|                                     No|                                     No|      53061051702|                  32|PUGET SOUND ENERG...|\n",
      "+-----------------------------------+----------+--------------+----------+-----+-----+-------------------+--------------+----------------+--------------------+-------------------+----------+---------+---------+--------------------+--------------------+----------------+---------+-----------+------------------+-----------+----------------------------------+--------------------------------------------------------------+---------------------------------------------+----------------------------------------+-----------------------------------------------+---------------------------------------+---------------------------------------+------------------------------------------+-------------------------+---------------------------------------+---------------------------------------+-----------------+--------------------+--------------------+\n",
      "only showing top 20 rows\n",
      "\n"
     ]
    }
   ],
   "source": [
    "dsRegOrginal.filter(dsRegOrginal['Model'].isNull()).show()\n",
    "# dsRegOrginal.filter((dsRegOrginal['Make'] == 'VOLVO') & dsRegOrginal['Model'].isNull()).count()\n"
   ]
  },
  {
   "cell_type": "code",
   "execution_count": 38,
   "metadata": {},
   "outputs": [
    {
     "name": "stdout",
     "output_type": "stream",
     "text": [
      "+----------+-----+\n",
      "|Model Year|count|\n",
      "+----------+-----+\n",
      "|      1993|    1|\n",
      "|      1994|    1|\n",
      "|      1997|    1|\n",
      "|      1998|    2|\n",
      "|      1999|    4|\n",
      "|      2000|   10|\n",
      "|      2001|    3|\n",
      "|      2002|    3|\n",
      "|      2003|    1|\n",
      "|      2008|   17|\n",
      "|      2010|   52|\n",
      "|      2011| 1504|\n",
      "|      2012| 3157|\n",
      "|      2013| 8316|\n",
      "|      2014| 6033|\n",
      "|      2015| 7951|\n",
      "|      2016| 8733|\n",
      "|      2017|11925|\n",
      "|      2018|17732|\n",
      "|      2019|12867|\n",
      "|      2020|13107|\n",
      "|      2021|20780|\n",
      "|      2022|29512|\n",
      "+----------+-----+\n",
      "only showing top 23 rows\n",
      "\n"
     ]
    }
   ],
   "source": [
    "# Unique Years and Its Count \n",
    "dsRegOrginal.groupBy('Model Year').count().orderBy(col('Model Year')).show(23)"
   ]
  },
  {
   "cell_type": "code",
   "execution_count": 39,
   "metadata": {},
   "outputs": [
    {
     "name": "stdout",
     "output_type": "stream",
     "text": [
      "+---------+-----+\n",
      "|   County|count|\n",
      "+---------+-----+\n",
      "|     King|90609|\n",
      "|Snohomish|17863|\n",
      "|   Pierce|12211|\n",
      "|    Clark|10207|\n",
      "| Thurston| 5313|\n",
      "|   Kitsap| 5233|\n",
      "|  Spokane| 3780|\n",
      "|  Whatcom| 3427|\n",
      "|   Benton| 1880|\n",
      "|   Island| 1572|\n",
      "|   Skagit| 1508|\n",
      "|  Clallam|  885|\n",
      "|  Cowlitz|  863|\n",
      "|Jefferson|  807|\n",
      "|   Yakima|  770|\n",
      "|   Chelan|  767|\n",
      "| San Juan|  729|\n",
      "|    Mason|  635|\n",
      "|    Lewis|  546|\n",
      "| Franklin|  497|\n",
      "+---------+-----+\n",
      "only showing top 20 rows\n",
      "\n"
     ]
    }
   ],
   "source": [
    "# County and Its Count \n",
    "dsRegOrginal.groupBy('County').count().orderBy(col('count').desc()).show()"
   ]
  },
  {
   "cell_type": "code",
   "execution_count": 66,
   "metadata": {},
   "outputs": [],
   "source": [
    "# Finding the Primary use of the \n",
    "primaryUse = dsRegOrginal.groupBy('Vehicle Primary Use').count().orderBy(col('count').desc())\n"
   ]
  },
  {
   "cell_type": "code",
   "execution_count": 67,
   "metadata": {},
   "outputs": [
    {
     "name": "stdout",
     "output_type": "stream",
     "text": [
      "+--------------------+------+\n",
      "| Vehicle Primary Use| count|\n",
      "+--------------------+------+\n",
      "|           Passenger|160065|\n",
      "|Exempt (State/Cou...|  1718|\n",
      "|               Truck|  1595|\n",
      "|          Commercial|   750|\n",
      "|Medium-Speed Elec...|    22|\n",
      "|            For Hire|    15|\n",
      "|Neighborhood Elec...|     7|\n",
      "|                 Cab|     2|\n",
      "|         Farm Exempt|     1|\n",
      "|            Farm Use|     1|\n",
      "|Medium-Speed Elec...|     1|\n",
      "+--------------------+------+\n",
      "\n"
     ]
    }
   ],
   "source": [
    "primaryUse.show()"
   ]
  },
  {
   "cell_type": "code",
   "execution_count": 80,
   "metadata": {},
   "outputs": [
    {
     "data": {
      "image/png": "[encoded data removed]",
      "text/plain": [
       "<Figure size 800x600 with 1 Axes>"
      ]
     },
     "metadata": {},
     "output_type": "display_data"
    }
   ],
   "source": [
    "# Convert the grouped data to a Pandas DataFrame\n",
    "primaryUseCountsC8 = dsRegOrginal.groupBy('Vehicle Primary Use').count().orderBy(col('count').desc()).toPandas()\n",
    "\n",
    "# Set the figure size\n",
    "plt.figure(figsize=(8, 6))\n",
    "\n",
    "# Create the pie chart using Pandas\n",
    "plt.pie(primaryUseCountsC8['count'], labels=None, autopct='%1.1f%%', startangle=90)\n",
    "\n",
    "# Add a legend to the pie chart with hyphen and percentage\n",
    "legend_labels = [f'{label} - {count} ({percentage:.3f}%)' for label, count, percentage in zip(primary_use_counts['Vehicle Primary Use'], primary_use_counts['count'], primary_use_counts['count'] / primary_use_counts['count'].sum() * 100)]\n",
    "plt.legend(legend_labels, loc='best')\n",
    "\n",
    "# Add a title to the pie chart\n",
    "plt.title('Vehicle Primary Use')\n",
    "\n",
    "# Display the pie chart\n",
    "plt.show()"
   ]
  },
  {
   "attachments": {},
   "cell_type": "markdown",
   "metadata": {},
   "source": [
    "##### <u>`Analysing the Data Set 3 - Washington Weather` </u>"
   ]
  },
  {
   "cell_type": "code",
   "execution_count": 119,
   "metadata": {},
   "outputs": [
    {
     "name": "stdout",
     "output_type": "stream",
     "text": [
      "+----+-----+-------+\n",
      "|Date|Value|Anomaly|\n",
      "+----+-----+-------+\n",
      "|1990| 47.3|    1.2|\n",
      "|1991| 47.1|    1.0|\n",
      "|1992| 48.6|    2.5|\n",
      "|1993| 45.6|   -0.5|\n",
      "|1994| 47.9|    1.8|\n",
      "|1995| 47.5|    1.4|\n",
      "|1996| 45.6|   -0.5|\n",
      "|1997| 47.1|    1.0|\n",
      "|1998| 48.6|    2.5|\n",
      "|1999| 46.9|    0.8|\n",
      "|2000| 46.2|    0.1|\n",
      "|2001| 46.9|    0.8|\n",
      "|2002| 46.9|    0.8|\n",
      "|2003| 48.2|    2.1|\n",
      "|2004| 48.4|    2.3|\n",
      "|2005| 47.3|    1.2|\n",
      "|2006| 47.5|    1.4|\n",
      "|2007| 46.8|    0.7|\n",
      "|2008| 45.8|   -0.3|\n",
      "|2009| 46.4|    0.3|\n",
      "|2010| 47.1|    1.0|\n",
      "|2011| 45.5|   -0.6|\n",
      "|2012| 47.1|    1.0|\n",
      "|2013| 47.2|    1.1|\n",
      "|2014| 48.4|    2.3|\n",
      "|2015| 50.0|    3.9|\n",
      "|2016| 48.6|    2.5|\n",
      "|2017| 46.8|    0.7|\n",
      "|2018| 48.1|    2.0|\n",
      "|2019| 46.5|    0.4|\n",
      "|2020| 48.1|    2.0|\n",
      "|2021| 48.3|    2.2|\n",
      "|2022| 47.1|    1.0|\n",
      "+----+-----+-------+\n",
      "\n"
     ]
    }
   ],
   "source": [
    "dsWeather.filter(dsWeather['Date'] >= 1990).show(40)"
   ]
  },
  {
   "cell_type": "code",
   "execution_count": 121,
   "metadata": {},
   "outputs": [
    {
     "data": {
      "image/png": "[encoded data removed]",
      "text/plain": [
       "<Figure size 640x480 with 1 Axes>"
      ]
     },
     "metadata": {},
     "output_type": "display_data"
    }
   ],
   "source": [
    "filteredWeatherData = dsWeather.filter(dsWeather['Date'] >= 1990)\n",
    "\n",
    "# Extract the 'Date' and 'Value' columns from the dataset\n",
    "dates = filteredWeatherData.select('Date').rdd.flatMap(lambda x: x).collect()\n",
    "values = filteredWeatherData.select('Value').rdd.flatMap(lambda x: x).collect()\n",
    "\n",
    "# Create the line plot with a different line color (e.g., red)\n",
    "plt.plot(dates, values, color='green')\n",
    "\n",
    "# Set the plot title and axis labels\n",
    "plt.title('Annual Weather Data from 1990 - 2022')\n",
    "plt.xlabel('Date')\n",
    "plt.ylabel('Value')\n",
    "\n",
    "# Rotate the x-axis labels for better readability\n",
    "plt.xticks(rotation=45)\n",
    "\n",
    "# Display the line graph\n",
    "plt.show()"
   ]
  },
  {
   "attachments": {},
   "cell_type": "markdown",
   "metadata": {},
   "source": [
    "##### <u>`Analysing the Data Set 4 - Washington Household Income` </u>"
   ]
  },
  {
   "cell_type": "code",
   "execution_count": 188,
   "metadata": {},
   "outputs": [
    {
     "name": "stdout",
     "output_type": "stream",
     "text": [
      "+----+----------+----+\n",
      "|YEAR|WASHINGTON|  US|\n",
      "+----+----------+----+\n",
      "|1929|       740| 700|\n",
      "|1930|       657| 621|\n",
      "|1931|       534| 529|\n",
      "|1932|       402| 403|\n",
      "|1933|       376| 376|\n",
      "|1934|       442| 428|\n",
      "|1935|       491| 478|\n",
      "|1936|       570| 540|\n",
      "|1937|       601| 579|\n",
      "|1938|       583| 532|\n",
      "|1939|       618| 562|\n",
      "|1940|       667| 601|\n",
      "|1941|       885| 734|\n",
      "|1942|      1233| 940|\n",
      "|1943|      1507|1142|\n",
      "|1944|      1557|1226|\n",
      "|1945|      1452|1256|\n",
      "|1946|      1432|1291|\n",
      "|1947|      1531|1349|\n",
      "|1948|      1678|1456|\n",
      "|1949|      1656|1415|\n",
      "|1950|      1797|1541|\n",
      "|1951|      1955|1713|\n",
      "|1952|      2063|1800|\n",
      "|1953|      2168|1875|\n",
      "|1954|      2183|1861|\n",
      "|1955|      2222|1961|\n",
      "|1956|      2277|2068|\n",
      "|1957|      2371|2149|\n",
      "|1958|      2376|2176|\n",
      "|1959|      2480|2274|\n",
      "|1960|      2539|2335|\n",
      "|1961|      2640|2398|\n",
      "|1962|      2788|2513|\n",
      "|1963|      2841|2603|\n",
      "|1964|      2968|2752|\n",
      "|1965|      3190|2936|\n",
      "|1966|      3498|3155|\n",
      "|1967|      3689|3350|\n",
      "|1968|      3986|3641|\n",
      "+----+----------+----+\n",
      "only showing top 40 rows\n",
      "\n"
     ]
    }
   ],
   "source": [
    "dsIncome.show(40)\n",
    "filteredIncomeData = dsIncome.filter(dsIncome['YEAR']>=1990)"
   ]
  },
  {
   "cell_type": "code",
   "execution_count": 192,
   "metadata": {},
   "outputs": [
    {
     "data": {
      "image/png": "[encoded data removed]",
      "text/plain": [
       "<Figure size 640x480 with 1 Axes>"
      ]
     },
     "metadata": {},
     "output_type": "display_data"
    }
   ],
   "source": [
    "# Extract the 'Year' and 'Income' columns from the dataset\n",
    "year = filteredIncomeData.select('YEAR').rdd.flatMap(lambda x: x).collect()\n",
    "income = filteredIncomeData.select('WASHINGTON').rdd.flatMap(lambda x: x).collect()\n",
    "\n",
    "# Extract the 'Year' and 'US' columns from the dataset\n",
    "us_income = filteredIncomeData.select('YEAR', 'US').toPandas()\n",
    "\n",
    "# Create the line plot for Washington income\n",
    "plt.plot(year, income, color='green', label='Washington')\n",
    "\n",
    "# Create the line plot for US income\n",
    "plt.plot(us_income['YEAR'], us_income['US'], color='blue', label='US')\n",
    "\n",
    "# Set the plot title and axis labels\n",
    "plt.title('Annual Household Income Data from 1990 - 2021')\n",
    "plt.xlabel('Year')\n",
    "plt.ylabel('Income in USD')\n",
    "\n",
    "# Rotate the x-axis labels for better readability\n",
    "plt.xticks(rotation=45)\n",
    "\n",
    "# Add a legend to the plot\n",
    "plt.legend()\n",
    "\n",
    "# Display the line graph\n",
    "plt.show()"
   ]
  },
  {
   "attachments": {},
   "cell_type": "markdown",
   "metadata": {},
   "source": [
    "####  `Feature Engineering & Modeling` <br>\n"
   ]
  },
  {
   "attachments": {},
   "cell_type": "markdown",
   "metadata": {},
   "source": [
    "##### <u>`Electric Vehicle Adoption Forecasting Model` </u>"
   ]
  },
  {
   "cell_type": "code",
   "execution_count": 129,
   "metadata": {},
   "outputs": [],
   "source": [
    "# Independent and Dependent Variables \n",
    "from sklearn.linear_model import LinearRegression\n",
    "from sklearn.preprocessing import LabelEncoder, OneHotEncoder\n",
    "\n",
    "# The EV Registration data provides us more information than Population dataset so we are proceeding with that dataset"
   ]
  },
  {
   "cell_type": "code",
   "execution_count": 132,
   "metadata": {},
   "outputs": [
    {
     "name": "stdout",
     "output_type": "stream",
     "text": [
      "+-----------------------------------+----------+--------------+----------+----------+--------+-------------------+--------------+----------------+--------------------+-------------------+----------+----------------+---------+--------------------+--------------------+----------------+------+-----------------+------------------+-----------+----------------------------------+--------------------------------------------------------------+---------------------------------------------+----------------------------------------+-----------------------------------------------+---------------------------------------+---------------------------------------+------------------------------------------+-------------------------+---------------------------------------+---------------------------------------+-----------------+--------------------+--------------------+\n",
      "|Clean Alternative Fuel Vehicle Type|VIN (1-10)|DOL Vehicle ID|Model Year|      Make|   Model|Vehicle Primary Use|Electric Range|Odometer Reading|       Odometer Code|New or Used Vehicle|Sale Price|       Sale Date|Base MSRP|    Transaction Type|DOL Transaction Date|Transaction Year|County|             City|State of Residence|Postal Code|2015 HB 2778 Exemption Eligibility|2019 HB 2042 Clean Alternative Fuel Vehicle (CAFV) Eligibility|Meets 2019 HB 2042 Electric Range Requirement|Meets 2019 HB 2042 Sale Date Requirement|Meets 2019 HB 2042 Sale Price/Value Requirement|2019 HB 2042: Battery Range Requirement|2019 HB 2042: Purchase Date Requirement|2019 HB 2042: Sale Price/Value Requirement|Electric Vehicle Fee Paid|Transportation Electrification Fee Paid|Hybrid Vehicle Electrification Fee Paid|2020 Census Tract|Legislative District|    Electric Utility|\n",
      "+-----------------------------------+----------+--------------+----------+----------+--------+-------------------+--------------+----------------+--------------------+-------------------+----------+----------------+---------+--------------------+--------------------+----------------+------+-----------------+------------------+-----------+----------------------------------+--------------------------------------------------------------+---------------------------------------------+----------------------------------------+-----------------------------------------------+---------------------------------------+---------------------------------------+------------------------------------------+-------------------------+---------------------------------------+---------------------------------------+-----------------+--------------------+--------------------+\n",
      "|               Battery Electric ...|5YJ3E1EA0J|     196972009|      2018|     TESLA| Model 3|          Passenger|           215|               0|Odometer reading ...|                New|         0|            null|        0|Original Registra...|        June 06 2018|            2018|  King|          SEATTLE|                WA|      98105|              HB 2778 Eligiblit...|                                          HB 2042 Eligibili...|                                         true|                                   false|                                          false|                   Meets battery ran...|                   Non-sale, registr...|                      Non-sale, registr...|                       No|                                     No|                                     No|      53033004402|                  43|CITY OF SEATTLE -...|\n",
      "|               Plug-in Hybrid El...|1G1RB6S53H|     195316348|      2017| CHEVROLET|    Volt|          Passenger|            53|               0|Odometer reading ...|                New|         0|            null|        0|Original Registra...|    February 22 2017|            2017|  King|           RENTON|                WA|      98055|              HB 2778 Eligiblit...|                                          HB 2042 Eligibili...|                                         true|                                   false|                                          false|                   Meets battery ran...|                   Non-sale, registr...|                      Non-sale, registr...|                       No|                                     No|                                     No|      53033029309|                  33|PUGET SOUND ENERG...|\n",
      "|               Battery Electric ...|7SAXCAE51P|     224190844|      2023|     TESLA| Model X|          Passenger|             0|               0|Odometer reading ...|                New|         0|            null|        0|Original Registra...|    November 03 2022|            2022| Clark|        VANCOUVER|                WA|      98664|              HB 2778 Eligiblit...|                                          HB 2042 Eligibili...|                                        false|                                   false|                                          false|                       No battery range|                   Non-sale, registr...|                      Non-sale, registr...|                       No|                                     No|                                     No|      53011041206|                  49|BONNEVILLE POWER ...|\n",
      "|               Battery Electric ...|KNDC4DLC1P|     238416405|      2023|       KIA|     EV6|          Passenger|             0|               0|Odometer reading ...|                New|         0|            null|        0|Original Registra...|         May 02 2023|            2023|  King|          SEATTLE|                WA|      98115|              HB 2778 Eligiblit...|                                          HB 2042 Eligibili...|                                        false|                                   false|                                          false|                       No battery range|                   Non-sale, registr...|                      Non-sale, registr...|                       No|                                     No|                                     No|      53033002000|                  46|CITY OF SEATTLE -...|\n",
      "|               Battery Electric ...|WVWPR7AU4K|     230162915|      2019|VOLKSWAGEN|  e-Golf|          Passenger|           125|               0|Odometer reading ...|                New|         0|            null|        0|Original Registra...|     October 10 2019|            2019|  King|          SEATTLE|                WA|      98115|              HB 2778 Eligiblit...|                                          HB 2042 Eligibili...|                                         true|                                   false|                                          false|                   Meets battery ran...|                   Non-sale, registr...|                      Non-sale, registr...|                       No|                                     No|                                     No|      53033002000|                  46|CITY OF SEATTLE -...|\n",
      "|               Battery Electric ...|1N4AZ0CP3G|     115796425|      2016|    NISSAN|    Leaf|          Passenger|            84|               0|Odometer reading ...|                New|         0|            null|        0|Original Registra...|     January 31 2017|            2017|  King|         KIRKLAND|                WA|      98034|              HB 2778 Eligiblit...|                                          HB 2042 Eligibili...|                                         true|                                   false|                                          false|                   Meets battery ran...|                   Non-sale, registr...|                      Non-sale, registr...|                       No|                                     No|                                     No|      53033022003|                  45|PUGET SOUND ENERG...|\n",
      "|               Battery Electric ...|5YJ3E1EB8K|     476545961|      2019|     TESLA| Model 3|          Passenger|           220|               0|Odometer reading ...|                New|         0|            null|        0|Original Registra...|     October 10 2019|            2019|  King|             KENT|                WA|      98031|              HB 2778 Eligiblit...|                                          HB 2042 Eligibili...|                                         true|                                   false|                                          false|                   Meets battery ran...|                   Non-sale, registr...|                      Non-sale, registr...|                       No|                                     No|                                     No|      53033029403|                  47|PUGET SOUND ENERG...|\n",
      "|               Battery Electric ...|5YJYGDEE8L|     110176853|      2020|     TESLA| Model Y|          Passenger|           291|               0|Odometer reading ...|                New|         0|            null|        0|Original Registra...|        July 30 2020|            2020|  King|             KENT|                WA|      98031|              HB 2778 Eligiblit...|                                          HB 2042 Eligibili...|                                         true|                                   false|                                          false|                   Meets battery ran...|                   Non-sale, registr...|                      Non-sale, registr...|                       No|                                     No|                                     No|      53033029403|                  47|PUGET SOUND ENERG...|\n",
      "|               Plug-in Hybrid El...|2C4RC1N78M|     187430113|      2021|  CHRYSLER|Pacifica|          Passenger|            32|               0|Odometer reading ...|                New|         0|            null|        0|Original Registra...|     January 18 2022|            2022|Kitsap|BAINBRIDGE ISLAND|                WA|      98110|              HB 2778 Eligiblit...|                                          HB 2042 Eligibili...|                                         true|                                   false|                                          false|                   Meets battery ran...|                   Non-sale, registr...|                      Non-sale, registr...|                       No|                                     No|                                     No|      53035091002|                  23|PUGET SOUND ENERG...|\n",
      "|               Battery Electric ...|1N4AZ0CP4F|       4275470|      2015|    NISSAN|    Leaf|          Passenger|            84|              11|      Actual Mileage|                New|         0|November 13 2015|        0|Original Registra...|    December 11 2015|            2015|  King|         BELLEVUE|                WA|      98004|              HB 2778 Eligiblit...|                                          HB 2042 Eligibili...|                                         true|                                   false|                                          false|                   Meets battery ran...|                   Non-sale, registr...|                      Non-sale, registr...|                       No|                                   null|                                   null|      53033023901|                  41|PUGET SOUND ENERG...|\n",
      "|               Plug-in Hybrid El...|1G1RB6S59K|     292969092|      2019| CHEVROLET|    Volt|          Passenger|            53|               0|Odometer reading ...|                New|         0|            null|        0|Original Registra...|       April 04 2019|            2019|Yakima|            SELAH|                WA|      98942|              HB 2778 Eligiblit...|                                          HB 2042 Eligibili...|                                         true|                                   false|                                          false|                   Meets battery ran...|                   Non-sale, registr...|                      Non-sale, registr...|                       No|                                     No|                                     No|      53077003400|                  15|          PACIFICORP|\n",
      "|               Battery Electric ...|KNDCE3LG2N|     194972018|      2022|       KIA|    Niro|          Passenger|             0|               0|Odometer reading ...|                New|         0|            null|        0|Original Registra...|       April 01 2022|            2022|Kitsap|     PORT ORCHARD|                WA|      98366|              HB 2778 Eligiblit...|                                          HB 2042 Eligibili...|                                        false|                                   false|                                          false|                       No battery range|                   Non-sale, registr...|                      Non-sale, registr...|                       No|                                     No|                                     No|      53035092600|                  26|PUGET SOUND ENERG...|\n",
      "|               Battery Electric ...|5YJSA1DG1D|     207007216|      2013|     TESLA| Model S|          Passenger|           208|               0|Odometer reading ...|               Used|         0|            null|    69900|Original Registra...|         May 26 2023|            2023|  King|         KIRKLAND|                WA|      98033|              HB 2778 Eligiblit...|                                          HB 2042 Eligibili...|                                         true|                                   false|                                          false|                   Meets battery ran...|                   Non-sale, registr...|                      Non-sale, registr...|                       No|                                     No|                                     No|      53033022701|                  48|PUGET SOUND ENERG...|\n",
      "|               Battery Electric ...|5YJYGDEE4M|     151235696|      2021|     TESLA| Model Y|          Passenger|             0|               0|Odometer reading ...|                New|         0|            null|        0|Original Registra...|       April 09 2021|            2021|  King|         KIRKLAND|                WA|      98033|              HB 2778 Eligiblit...|                                          HB 2042 Eligibili...|                                        false|                                   false|                                          false|                       No battery range|                   Non-sale, registr...|                      Non-sale, registr...|                       No|                                     No|                                     No|      53033022006|                  45|PUGET SOUND ENERG...|\n",
      "|               Battery Electric ...|7SAYGAEE5N|     218208147|      2022|     TESLA| Model Y|          Passenger|             0|               0|Odometer reading ...|                New|         0|            null|        0|Original Registra...|   September 07 2022|            2022|  King|          SEATTLE|                WA|      98119|              HB 2778 Eligiblit...|                                          HB 2042 Eligibili...|                                        false|                                   false|                                          false|                       No battery range|                   Non-sale, registr...|                      Non-sale, registr...|                       No|                                     No|                                     No|      53033007002|                  36|CITY OF SEATTLE -...|\n",
      "|               Plug-in Hybrid El...|WBA13AG06M|     200506155|      2021|       BMW|    530e|          Passenger|            21|               0|Odometer reading ...|               Used|         0|            null|        0|Original Registra...|       April 20 2022|            2022|Kitsap|BAINBRIDGE ISLAND|                WA|      98110|              HB 2778 Eligiblit...|                                          HB 2042 Eligibili...|                                        false|                                   false|                                          false|                      Low battery range|                   Non-sale, registr...|                      Non-sale, registr...|                       No|                                     No|                                     No|      53035091002|                  23|PUGET SOUND ENERG...|\n",
      "|               Battery Electric ...|5YJXCDE22J|     192431872|      2018|     TESLA| Model X|          Passenger|           238|               0|Odometer reading ...|               Used|         0|            null|        0|Original Registra...|    December 15 2021|            2021|  King|        SAMMAMISH|                WA|      98074|              HB 2778 Eligiblit...|                                          HB 2042 Eligibili...|                                         true|                                   false|                                          false|                   Meets battery ran...|                   Non-sale, registr...|                      Non-sale, registr...|                       No|                                     No|                                     No|      53033032217|                  45|PUGET SOUND ENERG...|\n",
      "|               Plug-in Hybrid El...|YV4H60DA1P|     220759577|      2023|     VOLVO|    XC60|          Passenger|            35|               0|Odometer reading ...|                New|         0|            null|        0|Original Registra...|    November 01 2022|            2022|  King|          SEATTLE|                WA|      98178|              HB 2778 Eligiblit...|                                          HB 2042 Eligibili...|                                         true|                                   false|                                          false|                   Meets battery ran...|                   Non-sale, registr...|                      Non-sale, registr...|                       No|                                     No|                                     No|      53033011902|                  37|PUGET SOUND ENERG...|\n",
      "|               Battery Electric ...|5YJ3E1EAXL|     132251458|      2020|     TESLA| Model 3|          Passenger|           266|               0|Odometer reading ...|                New|         0|            null|        0|Original Registra...|    December 01 2020|            2020|  King|          SEATTLE|                WA|      98119|              HB 2778 Eligiblit...|                                          HB 2042 Eligibili...|                                         true|                                   false|                                          false|                   Meets battery ran...|                   Non-sale, registr...|                      Non-sale, registr...|                       No|                                     No|                                     No|      53033005902|                  36|CITY OF SEATTLE -...|\n",
      "|               Battery Electric ...|1N4AZ0CP8D|     246023634|      2013|    NISSAN|    Leaf|          Passenger|            75|               0|Odometer reading ...|               Used|         0|            null|        0|Original Registra...|       March 14 2017|            2017|Kitsap|        BREMERTON|                WA|      98312|              HB 2778 Eligiblit...|                                          HB 2042 Eligibili...|                                         true|                                   false|                                          false|                   Meets battery ran...|                   Non-sale, registr...|                      Non-sale, registr...|                       No|                                     No|                                     No|      53035091301|                  35|PUGET SOUND ENERG...|\n",
      "+-----------------------------------+----------+--------------+----------+----------+--------+-------------------+--------------+----------------+--------------------+-------------------+----------+----------------+---------+--------------------+--------------------+----------------+------+-----------------+------------------+-----------+----------------------------------+--------------------------------------------------------------+---------------------------------------------+----------------------------------------+-----------------------------------------------+---------------------------------------+---------------------------------------+------------------------------------------+-------------------------+---------------------------------------+---------------------------------------+-----------------+--------------------+--------------------+\n",
      "only showing top 20 rows\n",
      "\n"
     ]
    }
   ],
   "source": [
    "dsRegOrginal.show()"
   ]
  },
  {
   "cell_type": "code",
   "execution_count": 138,
   "metadata": {},
   "outputs": [
    {
     "name": "stdout",
     "output_type": "stream",
     "text": [
      "+-----------------------------------+----------+--------------+----------+----------+--------+-------------------+--------------+----------------+--------------------+-------------------+----------+----------------+---------+--------------------+--------------------+----------------+------+-----------------+------------------+-----------+----------------------------------+--------------------------------------------------------------+---------------------------------------------+----------------------------------------+-----------------------------------------------+---------------------------------------+---------------------------------------+------------------------------------------+-------------------------+---------------------------------------+---------------------------------------+-----------------+--------------------+--------------------+\n",
      "|Clean Alternative Fuel Vehicle Type|VIN (1-10)|DOL Vehicle ID|Model Year|      Make|   Model|Vehicle Primary Use|Electric Range|Odometer Reading|       Odometer Code|New or Used Vehicle|Sale Price|       Sale Date|Base MSRP|    Transaction Type|DOL Transaction Date|Transaction Year|County|             City|State of Residence|Postal Code|2015 HB 2778 Exemption Eligibility|2019 HB 2042 Clean Alternative Fuel Vehicle (CAFV) Eligibility|Meets 2019 HB 2042 Electric Range Requirement|Meets 2019 HB 2042 Sale Date Requirement|Meets 2019 HB 2042 Sale Price/Value Requirement|2019 HB 2042: Battery Range Requirement|2019 HB 2042: Purchase Date Requirement|2019 HB 2042: Sale Price/Value Requirement|Electric Vehicle Fee Paid|Transportation Electrification Fee Paid|Hybrid Vehicle Electrification Fee Paid|2020 Census Tract|Legislative District|    Electric Utility|\n",
      "+-----------------------------------+----------+--------------+----------+----------+--------+-------------------+--------------+----------------+--------------------+-------------------+----------+----------------+---------+--------------------+--------------------+----------------+------+-----------------+------------------+-----------+----------------------------------+--------------------------------------------------------------+---------------------------------------------+----------------------------------------+-----------------------------------------------+---------------------------------------+---------------------------------------+------------------------------------------+-------------------------+---------------------------------------+---------------------------------------+-----------------+--------------------+--------------------+\n",
      "|               Battery Electric ...|5YJ3E1EA0J|     196972009|      2018|     TESLA| Model 3|          Passenger|           215|               0|Odometer reading ...|                New|         0|            null|        0|Original Registra...|        June 06 2018|            2018|  King|          SEATTLE|                WA|      98105|              HB 2778 Eligiblit...|                                          HB 2042 Eligibili...|                                         true|                                   false|                                          false|                   Meets battery ran...|                   Non-sale, registr...|                      Non-sale, registr...|                       No|                                     No|                                     No|      53033004402|                  43|CITY OF SEATTLE -...|\n",
      "|               Plug-in Hybrid El...|1G1RB6S53H|     195316348|      2017| CHEVROLET|    Volt|          Passenger|            53|               0|Odometer reading ...|                New|         0|            null|        0|Original Registra...|    February 22 2017|            2017|  King|           RENTON|                WA|      98055|              HB 2778 Eligiblit...|                                          HB 2042 Eligibili...|                                         true|                                   false|                                          false|                   Meets battery ran...|                   Non-sale, registr...|                      Non-sale, registr...|                       No|                                     No|                                     No|      53033029309|                  33|PUGET SOUND ENERG...|\n",
      "|               Battery Electric ...|7SAXCAE51P|     224190844|      2023|     TESLA| Model X|          Passenger|             0|               0|Odometer reading ...|                New|         0|            null|        0|Original Registra...|    November 03 2022|            2022| Clark|        VANCOUVER|                WA|      98664|              HB 2778 Eligiblit...|                                          HB 2042 Eligibili...|                                        false|                                   false|                                          false|                       No battery range|                   Non-sale, registr...|                      Non-sale, registr...|                       No|                                     No|                                     No|      53011041206|                  49|BONNEVILLE POWER ...|\n",
      "|               Battery Electric ...|KNDC4DLC1P|     238416405|      2023|       KIA|     EV6|          Passenger|             0|               0|Odometer reading ...|                New|         0|            null|        0|Original Registra...|         May 02 2023|            2023|  King|          SEATTLE|                WA|      98115|              HB 2778 Eligiblit...|                                          HB 2042 Eligibili...|                                        false|                                   false|                                          false|                       No battery range|                   Non-sale, registr...|                      Non-sale, registr...|                       No|                                     No|                                     No|      53033002000|                  46|CITY OF SEATTLE -...|\n",
      "|               Battery Electric ...|WVWPR7AU4K|     230162915|      2019|VOLKSWAGEN|  e-Golf|          Passenger|           125|               0|Odometer reading ...|                New|         0|            null|        0|Original Registra...|     October 10 2019|            2019|  King|          SEATTLE|                WA|      98115|              HB 2778 Eligiblit...|                                          HB 2042 Eligibili...|                                         true|                                   false|                                          false|                   Meets battery ran...|                   Non-sale, registr...|                      Non-sale, registr...|                       No|                                     No|                                     No|      53033002000|                  46|CITY OF SEATTLE -...|\n",
      "|               Battery Electric ...|1N4AZ0CP3G|     115796425|      2016|    NISSAN|    Leaf|          Passenger|            84|               0|Odometer reading ...|                New|         0|            null|        0|Original Registra...|     January 31 2017|            2017|  King|         KIRKLAND|                WA|      98034|              HB 2778 Eligiblit...|                                          HB 2042 Eligibili...|                                         true|                                   false|                                          false|                   Meets battery ran...|                   Non-sale, registr...|                      Non-sale, registr...|                       No|                                     No|                                     No|      53033022003|                  45|PUGET SOUND ENERG...|\n",
      "|               Battery Electric ...|5YJ3E1EB8K|     476545961|      2019|     TESLA| Model 3|          Passenger|           220|               0|Odometer reading ...|                New|         0|            null|        0|Original Registra...|     October 10 2019|            2019|  King|             KENT|                WA|      98031|              HB 2778 Eligiblit...|                                          HB 2042 Eligibili...|                                         true|                                   false|                                          false|                   Meets battery ran...|                   Non-sale, registr...|                      Non-sale, registr...|                       No|                                     No|                                     No|      53033029403|                  47|PUGET SOUND ENERG...|\n",
      "|               Battery Electric ...|5YJYGDEE8L|     110176853|      2020|     TESLA| Model Y|          Passenger|           291|               0|Odometer reading ...|                New|         0|            null|        0|Original Registra...|        July 30 2020|            2020|  King|             KENT|                WA|      98031|              HB 2778 Eligiblit...|                                          HB 2042 Eligibili...|                                         true|                                   false|                                          false|                   Meets battery ran...|                   Non-sale, registr...|                      Non-sale, registr...|                       No|                                     No|                                     No|      53033029403|                  47|PUGET SOUND ENERG...|\n",
      "|               Plug-in Hybrid El...|2C4RC1N78M|     187430113|      2021|  CHRYSLER|Pacifica|          Passenger|            32|               0|Odometer reading ...|                New|         0|            null|        0|Original Registra...|     January 18 2022|            2022|Kitsap|BAINBRIDGE ISLAND|                WA|      98110|              HB 2778 Eligiblit...|                                          HB 2042 Eligibili...|                                         true|                                   false|                                          false|                   Meets battery ran...|                   Non-sale, registr...|                      Non-sale, registr...|                       No|                                     No|                                     No|      53035091002|                  23|PUGET SOUND ENERG...|\n",
      "|               Battery Electric ...|1N4AZ0CP4F|       4275470|      2015|    NISSAN|    Leaf|          Passenger|            84|              11|      Actual Mileage|                New|         0|November 13 2015|        0|Original Registra...|    December 11 2015|            2015|  King|         BELLEVUE|                WA|      98004|              HB 2778 Eligiblit...|                                          HB 2042 Eligibili...|                                         true|                                   false|                                          false|                   Meets battery ran...|                   Non-sale, registr...|                      Non-sale, registr...|                       No|                                   null|                                   null|      53033023901|                  41|PUGET SOUND ENERG...|\n",
      "|               Plug-in Hybrid El...|1G1RB6S59K|     292969092|      2019| CHEVROLET|    Volt|          Passenger|            53|               0|Odometer reading ...|                New|         0|            null|        0|Original Registra...|       April 04 2019|            2019|Yakima|            SELAH|                WA|      98942|              HB 2778 Eligiblit...|                                          HB 2042 Eligibili...|                                         true|                                   false|                                          false|                   Meets battery ran...|                   Non-sale, registr...|                      Non-sale, registr...|                       No|                                     No|                                     No|      53077003400|                  15|          PACIFICORP|\n",
      "|               Battery Electric ...|KNDCE3LG2N|     194972018|      2022|       KIA|    Niro|          Passenger|             0|               0|Odometer reading ...|                New|         0|            null|        0|Original Registra...|       April 01 2022|            2022|Kitsap|     PORT ORCHARD|                WA|      98366|              HB 2778 Eligiblit...|                                          HB 2042 Eligibili...|                                        false|                                   false|                                          false|                       No battery range|                   Non-sale, registr...|                      Non-sale, registr...|                       No|                                     No|                                     No|      53035092600|                  26|PUGET SOUND ENERG...|\n",
      "|               Battery Electric ...|5YJSA1DG1D|     207007216|      2013|     TESLA| Model S|          Passenger|           208|               0|Odometer reading ...|               Used|         0|            null|    69900|Original Registra...|         May 26 2023|            2023|  King|         KIRKLAND|                WA|      98033|              HB 2778 Eligiblit...|                                          HB 2042 Eligibili...|                                         true|                                   false|                                          false|                   Meets battery ran...|                   Non-sale, registr...|                      Non-sale, registr...|                       No|                                     No|                                     No|      53033022701|                  48|PUGET SOUND ENERG...|\n",
      "|               Battery Electric ...|5YJYGDEE4M|     151235696|      2021|     TESLA| Model Y|          Passenger|             0|               0|Odometer reading ...|                New|         0|            null|        0|Original Registra...|       April 09 2021|            2021|  King|         KIRKLAND|                WA|      98033|              HB 2778 Eligiblit...|                                          HB 2042 Eligibili...|                                        false|                                   false|                                          false|                       No battery range|                   Non-sale, registr...|                      Non-sale, registr...|                       No|                                     No|                                     No|      53033022006|                  45|PUGET SOUND ENERG...|\n",
      "|               Battery Electric ...|7SAYGAEE5N|     218208147|      2022|     TESLA| Model Y|          Passenger|             0|               0|Odometer reading ...|                New|         0|            null|        0|Original Registra...|   September 07 2022|            2022|  King|          SEATTLE|                WA|      98119|              HB 2778 Eligiblit...|                                          HB 2042 Eligibili...|                                        false|                                   false|                                          false|                       No battery range|                   Non-sale, registr...|                      Non-sale, registr...|                       No|                                     No|                                     No|      53033007002|                  36|CITY OF SEATTLE -...|\n",
      "|               Plug-in Hybrid El...|WBA13AG06M|     200506155|      2021|       BMW|    530e|          Passenger|            21|               0|Odometer reading ...|               Used|         0|            null|        0|Original Registra...|       April 20 2022|            2022|Kitsap|BAINBRIDGE ISLAND|                WA|      98110|              HB 2778 Eligiblit...|                                          HB 2042 Eligibili...|                                        false|                                   false|                                          false|                      Low battery range|                   Non-sale, registr...|                      Non-sale, registr...|                       No|                                     No|                                     No|      53035091002|                  23|PUGET SOUND ENERG...|\n",
      "|               Battery Electric ...|5YJXCDE22J|     192431872|      2018|     TESLA| Model X|          Passenger|           238|               0|Odometer reading ...|               Used|         0|            null|        0|Original Registra...|    December 15 2021|            2021|  King|        SAMMAMISH|                WA|      98074|              HB 2778 Eligiblit...|                                          HB 2042 Eligibili...|                                         true|                                   false|                                          false|                   Meets battery ran...|                   Non-sale, registr...|                      Non-sale, registr...|                       No|                                     No|                                     No|      53033032217|                  45|PUGET SOUND ENERG...|\n",
      "|               Plug-in Hybrid El...|YV4H60DA1P|     220759577|      2023|     VOLVO|    XC60|          Passenger|            35|               0|Odometer reading ...|                New|         0|            null|        0|Original Registra...|    November 01 2022|            2022|  King|          SEATTLE|                WA|      98178|              HB 2778 Eligiblit...|                                          HB 2042 Eligibili...|                                         true|                                   false|                                          false|                   Meets battery ran...|                   Non-sale, registr...|                      Non-sale, registr...|                       No|                                     No|                                     No|      53033011902|                  37|PUGET SOUND ENERG...|\n",
      "|               Battery Electric ...|5YJ3E1EAXL|     132251458|      2020|     TESLA| Model 3|          Passenger|           266|               0|Odometer reading ...|                New|         0|            null|        0|Original Registra...|    December 01 2020|            2020|  King|          SEATTLE|                WA|      98119|              HB 2778 Eligiblit...|                                          HB 2042 Eligibili...|                                         true|                                   false|                                          false|                   Meets battery ran...|                   Non-sale, registr...|                      Non-sale, registr...|                       No|                                     No|                                     No|      53033005902|                  36|CITY OF SEATTLE -...|\n",
      "|               Battery Electric ...|1N4AZ0CP8D|     246023634|      2013|    NISSAN|    Leaf|          Passenger|            75|               0|Odometer reading ...|               Used|         0|            null|        0|Original Registra...|       March 14 2017|            2017|Kitsap|        BREMERTON|                WA|      98312|              HB 2778 Eligiblit...|                                          HB 2042 Eligibili...|                                         true|                                   false|                                          false|                   Meets battery ran...|                   Non-sale, registr...|                      Non-sale, registr...|                       No|                                     No|                                     No|      53035091301|                  35|PUGET SOUND ENERG...|\n",
      "+-----------------------------------+----------+--------------+----------+----------+--------+-------------------+--------------+----------------+--------------------+-------------------+----------+----------------+---------+--------------------+--------------------+----------------+------+-----------------+------------------+-----------+----------------------------------+--------------------------------------------------------------+---------------------------------------------+----------------------------------------+-----------------------------------------------+---------------------------------------+---------------------------------------+------------------------------------------+-------------------------+---------------------------------------+---------------------------------------+-----------------+--------------------+--------------------+\n",
      "only showing top 20 rows\n",
      "\n"
     ]
    }
   ],
   "source": [
    "dsRegWA = dsRegOrginal.filter(dsRegOrginal['State of Residence']=='WA')\n",
    "dsRegWA.show()"
   ]
  },
  {
   "cell_type": "code",
   "execution_count": 149,
   "metadata": {},
   "outputs": [
    {
     "data": {
      "text/plain": [
       "21583"
      ]
     },
     "execution_count": 149,
     "metadata": {},
     "output_type": "execute_result"
    }
   ],
   "source": [
    "dsRegOrginal.filter(dsRegOrginal['Transaction Year']=='2023').count()"
   ]
  },
  {
   "cell_type": "code",
   "execution_count": 139,
   "metadata": {},
   "outputs": [
    {
     "name": "stdout",
     "output_type": "stream",
     "text": [
      "The count of the null values in each column greater than 0 are as follows:\n",
      " 'Sale Date': 141468\n",
      " 'Transportation Electrification Fee Paid': 24533\n",
      " 'Hybrid Vehicle Electrification Fee Paid': 24533\n"
     ]
    }
   ],
   "source": [
    "# Finding the Null Values\n",
    "# Counting null values in each column\n",
    "null_counts = dsRegWA.select([sum(col(c).isNull().cast(\"int\")).alias(c) for c in dsRegWA.columns])\n",
    "\n",
    "# Converting the result to a dictionary for better display\n",
    "null_counts_dict = null_counts.first().asDict()\n",
    "\n",
    "print(\"The count of the null values in each column greater than 0 are as follows:\")\n",
    "for column, count in null_counts_dict.items():\n",
    "    if count > 0:\n",
    "        print(f\" '{column}': {count}\")\n"
   ]
  },
  {
   "cell_type": "code",
   "execution_count": 165,
   "metadata": {},
   "outputs": [],
   "source": [
    "dsRegWA = dsRegWA.filter(dsRegWA['Postal Code'] != 0)\n"
   ]
  },
  {
   "cell_type": "code",
   "execution_count": 166,
   "metadata": {},
   "outputs": [
    {
     "name": "stdout",
     "output_type": "stream",
     "text": [
      "root\n",
      " |-- Clean Alternative Fuel Vehicle Type: string (nullable = true)\n",
      " |-- VIN (1-10): string (nullable = true)\n",
      " |-- DOL Vehicle ID: integer (nullable = true)\n",
      " |-- Model Year: integer (nullable = true)\n",
      " |-- Make: string (nullable = true)\n",
      " |-- Model: string (nullable = false)\n",
      " |-- Vehicle Primary Use: string (nullable = true)\n",
      " |-- Electric Range: integer (nullable = true)\n",
      " |-- Odometer Reading: integer (nullable = true)\n",
      " |-- Odometer Code: string (nullable = true)\n",
      " |-- New or Used Vehicle: string (nullable = true)\n",
      " |-- Sale Price: integer (nullable = true)\n",
      " |-- Sale Date: string (nullable = true)\n",
      " |-- Base MSRP: integer (nullable = true)\n",
      " |-- Transaction Type: string (nullable = true)\n",
      " |-- DOL Transaction Date: string (nullable = true)\n",
      " |-- Transaction Year: integer (nullable = true)\n",
      " |-- County: string (nullable = false)\n",
      " |-- City: string (nullable = false)\n",
      " |-- State of Residence: string (nullable = true)\n",
      " |-- Postal Code: string (nullable = true)\n",
      " |-- 2015 HB 2778 Exemption Eligibility: string (nullable = true)\n",
      " |-- 2019 HB 2042 Clean Alternative Fuel Vehicle (CAFV) Eligibility: string (nullable = true)\n",
      " |-- Meets 2019 HB 2042 Electric Range Requirement: boolean (nullable = true)\n",
      " |-- Meets 2019 HB 2042 Sale Date Requirement: boolean (nullable = true)\n",
      " |-- Meets 2019 HB 2042 Sale Price/Value Requirement: boolean (nullable = true)\n",
      " |-- 2019 HB 2042: Battery Range Requirement: string (nullable = true)\n",
      " |-- 2019 HB 2042: Purchase Date Requirement: string (nullable = true)\n",
      " |-- 2019 HB 2042: Sale Price/Value Requirement: string (nullable = true)\n",
      " |-- Electric Vehicle Fee Paid: string (nullable = true)\n",
      " |-- Transportation Electrification Fee Paid: string (nullable = true)\n",
      " |-- Hybrid Vehicle Electrification Fee Paid: string (nullable = true)\n",
      " |-- 2020 Census Tract: long (nullable = true)\n",
      " |-- Legislative District: integer (nullable = true)\n",
      " |-- Electric Utility: string (nullable = false)\n",
      "\n"
     ]
    }
   ],
   "source": [
    "dfReg = dsRegWA\n",
    "dfReg = dfReg.withColumn(\"Postal Code\", col(\"Postal Code\").cast(\"string\"))\n",
    "dfReg.printSchema()\n"
   ]
  },
  {
   "cell_type": "code",
   "execution_count": 167,
   "metadata": {},
   "outputs": [
    {
     "data": {
      "text/plain": [
       "141974"
      ]
     },
     "execution_count": 167,
     "metadata": {},
     "output_type": "execute_result"
    }
   ],
   "source": [
    "dfReg = dfReg.filter(dfReg['Transaction Year'] != 2023)\n",
    "dfReg.count()\n"
   ]
  },
  {
   "cell_type": "code",
   "execution_count": 168,
   "metadata": {},
   "outputs": [
    {
     "data": {
      "text/html": [
       "<div>\n",
       "<style scoped>\n",
       "    .dataframe tbody tr th:only-of-type {\n",
       "        vertical-align: middle;\n",
       "    }\n",
       "\n",
       "    .dataframe tbody tr th {\n",
       "        vertical-align: top;\n",
       "    }\n",
       "\n",
       "    .dataframe thead th {\n",
       "        text-align: right;\n",
       "    }\n",
       "</style>\n",
       "<table border=\"1\" class=\"dataframe\">\n",
       "  <thead>\n",
       "    <tr style=\"text-align: right;\">\n",
       "      <th></th>\n",
       "      <th>Clean Alternative Fuel Vehicle Type</th>\n",
       "      <th>VIN (1-10)</th>\n",
       "      <th>DOL Vehicle ID</th>\n",
       "      <th>Model Year</th>\n",
       "      <th>Make</th>\n",
       "      <th>Model</th>\n",
       "      <th>Vehicle Primary Use</th>\n",
       "      <th>Electric Range</th>\n",
       "      <th>Odometer Reading</th>\n",
       "      <th>Odometer Code</th>\n",
       "      <th>...</th>\n",
       "      <th>Meets 2019 HB 2042 Sale Price/Value Requirement</th>\n",
       "      <th>2019 HB 2042: Battery Range Requirement</th>\n",
       "      <th>2019 HB 2042: Purchase Date Requirement</th>\n",
       "      <th>2019 HB 2042: Sale Price/Value Requirement</th>\n",
       "      <th>Electric Vehicle Fee Paid</th>\n",
       "      <th>Transportation Electrification Fee Paid</th>\n",
       "      <th>Hybrid Vehicle Electrification Fee Paid</th>\n",
       "      <th>2020 Census Tract</th>\n",
       "      <th>Legislative District</th>\n",
       "      <th>Electric Utility</th>\n",
       "    </tr>\n",
       "  </thead>\n",
       "  <tbody>\n",
       "    <tr>\n",
       "      <th>0</th>\n",
       "      <td>Battery Electric Vehicle (BEV)</td>\n",
       "      <td>5YJ3E1EA0J</td>\n",
       "      <td>196972009</td>\n",
       "      <td>2018</td>\n",
       "      <td>TESLA</td>\n",
       "      <td>Model 3</td>\n",
       "      <td>Passenger</td>\n",
       "      <td>215</td>\n",
       "      <td>0</td>\n",
       "      <td>Odometer reading is not collected at time of r...</td>\n",
       "      <td>...</td>\n",
       "      <td>False</td>\n",
       "      <td>Meets battery range requirement</td>\n",
       "      <td>Non-sale, registration transaction</td>\n",
       "      <td>Non-sale, registration transaction</td>\n",
       "      <td>No</td>\n",
       "      <td>No</td>\n",
       "      <td>No</td>\n",
       "      <td>53033004402</td>\n",
       "      <td>43</td>\n",
       "      <td>CITY OF SEATTLE - (WA)|CITY OF TACOMA - (WA)</td>\n",
       "    </tr>\n",
       "    <tr>\n",
       "      <th>1</th>\n",
       "      <td>Plug-in Hybrid Electric Vehicle (PHEV)</td>\n",
       "      <td>1G1RB6S53H</td>\n",
       "      <td>195316348</td>\n",
       "      <td>2017</td>\n",
       "      <td>CHEVROLET</td>\n",
       "      <td>Volt</td>\n",
       "      <td>Passenger</td>\n",
       "      <td>53</td>\n",
       "      <td>0</td>\n",
       "      <td>Odometer reading is not collected at time of r...</td>\n",
       "      <td>...</td>\n",
       "      <td>False</td>\n",
       "      <td>Meets battery range requirement</td>\n",
       "      <td>Non-sale, registration transaction</td>\n",
       "      <td>Non-sale, registration transaction</td>\n",
       "      <td>No</td>\n",
       "      <td>No</td>\n",
       "      <td>No</td>\n",
       "      <td>53033029309</td>\n",
       "      <td>33</td>\n",
       "      <td>PUGET SOUND ENERGY INC||CITY OF TACOMA - (WA)</td>\n",
       "    </tr>\n",
       "    <tr>\n",
       "      <th>2</th>\n",
       "      <td>Battery Electric Vehicle (BEV)</td>\n",
       "      <td>7SAXCAE51P</td>\n",
       "      <td>224190844</td>\n",
       "      <td>2023</td>\n",
       "      <td>TESLA</td>\n",
       "      <td>Model X</td>\n",
       "      <td>Passenger</td>\n",
       "      <td>0</td>\n",
       "      <td>0</td>\n",
       "      <td>Odometer reading is not collected at time of r...</td>\n",
       "      <td>...</td>\n",
       "      <td>False</td>\n",
       "      <td>No battery range</td>\n",
       "      <td>Non-sale, registration transaction</td>\n",
       "      <td>Non-sale, registration transaction</td>\n",
       "      <td>No</td>\n",
       "      <td>No</td>\n",
       "      <td>No</td>\n",
       "      <td>53011041206</td>\n",
       "      <td>49</td>\n",
       "      <td>BONNEVILLE POWER ADMINISTRATION||PUD NO 1 OF C...</td>\n",
       "    </tr>\n",
       "    <tr>\n",
       "      <th>3</th>\n",
       "      <td>Battery Electric Vehicle (BEV)</td>\n",
       "      <td>WVWPR7AU4K</td>\n",
       "      <td>230162915</td>\n",
       "      <td>2019</td>\n",
       "      <td>VOLKSWAGEN</td>\n",
       "      <td>e-Golf</td>\n",
       "      <td>Passenger</td>\n",
       "      <td>125</td>\n",
       "      <td>0</td>\n",
       "      <td>Odometer reading is not collected at time of r...</td>\n",
       "      <td>...</td>\n",
       "      <td>False</td>\n",
       "      <td>Meets battery range requirement</td>\n",
       "      <td>Non-sale, registration transaction</td>\n",
       "      <td>Non-sale, registration transaction</td>\n",
       "      <td>No</td>\n",
       "      <td>No</td>\n",
       "      <td>No</td>\n",
       "      <td>53033002000</td>\n",
       "      <td>46</td>\n",
       "      <td>CITY OF SEATTLE - (WA)|CITY OF TACOMA - (WA)</td>\n",
       "    </tr>\n",
       "    <tr>\n",
       "      <th>4</th>\n",
       "      <td>Battery Electric Vehicle (BEV)</td>\n",
       "      <td>1N4AZ0CP3G</td>\n",
       "      <td>115796425</td>\n",
       "      <td>2016</td>\n",
       "      <td>NISSAN</td>\n",
       "      <td>Leaf</td>\n",
       "      <td>Passenger</td>\n",
       "      <td>84</td>\n",
       "      <td>0</td>\n",
       "      <td>Odometer reading is not collected at time of r...</td>\n",
       "      <td>...</td>\n",
       "      <td>False</td>\n",
       "      <td>Meets battery range requirement</td>\n",
       "      <td>Non-sale, registration transaction</td>\n",
       "      <td>Non-sale, registration transaction</td>\n",
       "      <td>No</td>\n",
       "      <td>No</td>\n",
       "      <td>No</td>\n",
       "      <td>53033022003</td>\n",
       "      <td>45</td>\n",
       "      <td>PUGET SOUND ENERGY INC||CITY OF TACOMA - (WA)</td>\n",
       "    </tr>\n",
       "  </tbody>\n",
       "</table>\n",
       "<p>5 rows × 35 columns</p>\n",
       "</div>"
      ],
      "text/plain": [
       "      Clean Alternative Fuel Vehicle Type  VIN (1-10)  DOL Vehicle ID   \n",
       "0          Battery Electric Vehicle (BEV)  5YJ3E1EA0J       196972009  \\\n",
       "1  Plug-in Hybrid Electric Vehicle (PHEV)  1G1RB6S53H       195316348   \n",
       "2          Battery Electric Vehicle (BEV)  7SAXCAE51P       224190844   \n",
       "3          Battery Electric Vehicle (BEV)  WVWPR7AU4K       230162915   \n",
       "4          Battery Electric Vehicle (BEV)  1N4AZ0CP3G       115796425   \n",
       "\n",
       "   Model Year        Make    Model Vehicle Primary Use  Electric Range   \n",
       "0        2018       TESLA  Model 3           Passenger             215  \\\n",
       "1        2017   CHEVROLET     Volt           Passenger              53   \n",
       "2        2023       TESLA  Model X           Passenger               0   \n",
       "3        2019  VOLKSWAGEN   e-Golf           Passenger             125   \n",
       "4        2016      NISSAN     Leaf           Passenger              84   \n",
       "\n",
       "   Odometer Reading                                      Odometer Code  ...   \n",
       "0                 0  Odometer reading is not collected at time of r...  ...  \\\n",
       "1                 0  Odometer reading is not collected at time of r...  ...   \n",
       "2                 0  Odometer reading is not collected at time of r...  ...   \n",
       "3                 0  Odometer reading is not collected at time of r...  ...   \n",
       "4                 0  Odometer reading is not collected at time of r...  ...   \n",
       "\n",
       "  Meets 2019 HB 2042 Sale Price/Value Requirement   \n",
       "0                                           False  \\\n",
       "1                                           False   \n",
       "2                                           False   \n",
       "3                                           False   \n",
       "4                                           False   \n",
       "\n",
       "   2019 HB 2042: Battery Range Requirement   \n",
       "0          Meets battery range requirement  \\\n",
       "1          Meets battery range requirement   \n",
       "2                         No battery range   \n",
       "3          Meets battery range requirement   \n",
       "4          Meets battery range requirement   \n",
       "\n",
       "  2019 HB 2042: Purchase Date Requirement   \n",
       "0      Non-sale, registration transaction  \\\n",
       "1      Non-sale, registration transaction   \n",
       "2      Non-sale, registration transaction   \n",
       "3      Non-sale, registration transaction   \n",
       "4      Non-sale, registration transaction   \n",
       "\n",
       "   2019 HB 2042: Sale Price/Value Requirement Electric Vehicle Fee Paid   \n",
       "0          Non-sale, registration transaction                        No  \\\n",
       "1          Non-sale, registration transaction                        No   \n",
       "2          Non-sale, registration transaction                        No   \n",
       "3          Non-sale, registration transaction                        No   \n",
       "4          Non-sale, registration transaction                        No   \n",
       "\n",
       "  Transportation Electrification Fee Paid   \n",
       "0                                      No  \\\n",
       "1                                      No   \n",
       "2                                      No   \n",
       "3                                      No   \n",
       "4                                      No   \n",
       "\n",
       "   Hybrid Vehicle Electrification Fee Paid 2020 Census Tract   \n",
       "0                                       No       53033004402  \\\n",
       "1                                       No       53033029309   \n",
       "2                                       No       53011041206   \n",
       "3                                       No       53033002000   \n",
       "4                                       No       53033022003   \n",
       "\n",
       "  Legislative District                                   Electric Utility  \n",
       "0                   43       CITY OF SEATTLE - (WA)|CITY OF TACOMA - (WA)  \n",
       "1                   33      PUGET SOUND ENERGY INC||CITY OF TACOMA - (WA)  \n",
       "2                   49  BONNEVILLE POWER ADMINISTRATION||PUD NO 1 OF C...  \n",
       "3                   46       CITY OF SEATTLE - (WA)|CITY OF TACOMA - (WA)  \n",
       "4                   45      PUGET SOUND ENERGY INC||CITY OF TACOMA - (WA)  \n",
       "\n",
       "[5 rows x 35 columns]"
      ]
     },
     "execution_count": 168,
     "metadata": {},
     "output_type": "execute_result"
    }
   ],
   "source": [
    "dfReg = dfReg.toPandas()\n",
    "dfReg.head()"
   ]
  },
  {
   "cell_type": "code",
   "execution_count": 170,
   "metadata": {},
   "outputs": [
    {
     "data": {
      "text/html": [
       "<div>\n",
       "<style scoped>\n",
       "    .dataframe tbody tr th:only-of-type {\n",
       "        vertical-align: middle;\n",
       "    }\n",
       "\n",
       "    .dataframe tbody tr th {\n",
       "        vertical-align: top;\n",
       "    }\n",
       "\n",
       "    .dataframe thead th {\n",
       "        text-align: right;\n",
       "    }\n",
       "</style>\n",
       "<table border=\"1\" class=\"dataframe\">\n",
       "  <thead>\n",
       "    <tr style=\"text-align: right;\">\n",
       "      <th></th>\n",
       "      <th>Year</th>\n",
       "      <th>Postal Code</th>\n",
       "      <th>Brand</th>\n",
       "    </tr>\n",
       "  </thead>\n",
       "  <tbody>\n",
       "    <tr>\n",
       "      <th>0</th>\n",
       "      <td>2010</td>\n",
       "      <td>98033</td>\n",
       "      <td>3</td>\n",
       "    </tr>\n",
       "    <tr>\n",
       "      <th>1</th>\n",
       "      <td>2010</td>\n",
       "      <td>98040</td>\n",
       "      <td>1</td>\n",
       "    </tr>\n",
       "    <tr>\n",
       "      <th>2</th>\n",
       "      <td>2010</td>\n",
       "      <td>98045</td>\n",
       "      <td>1</td>\n",
       "    </tr>\n",
       "    <tr>\n",
       "      <th>3</th>\n",
       "      <td>2010</td>\n",
       "      <td>98052</td>\n",
       "      <td>1</td>\n",
       "    </tr>\n",
       "    <tr>\n",
       "      <th>4</th>\n",
       "      <td>2010</td>\n",
       "      <td>98070</td>\n",
       "      <td>1</td>\n",
       "    </tr>\n",
       "    <tr>\n",
       "      <th>...</th>\n",
       "      <td>...</td>\n",
       "      <td>...</td>\n",
       "      <td>...</td>\n",
       "    </tr>\n",
       "    <tr>\n",
       "      <th>4348</th>\n",
       "      <td>2022</td>\n",
       "      <td>99357</td>\n",
       "      <td>8</td>\n",
       "    </tr>\n",
       "    <tr>\n",
       "      <th>4349</th>\n",
       "      <td>2022</td>\n",
       "      <td>99361</td>\n",
       "      <td>2</td>\n",
       "    </tr>\n",
       "    <tr>\n",
       "      <th>4350</th>\n",
       "      <td>2022</td>\n",
       "      <td>99362</td>\n",
       "      <td>79</td>\n",
       "    </tr>\n",
       "    <tr>\n",
       "      <th>4351</th>\n",
       "      <td>2022</td>\n",
       "      <td>99402</td>\n",
       "      <td>3</td>\n",
       "    </tr>\n",
       "    <tr>\n",
       "      <th>4352</th>\n",
       "      <td>2022</td>\n",
       "      <td>99403</td>\n",
       "      <td>11</td>\n",
       "    </tr>\n",
       "  </tbody>\n",
       "</table>\n",
       "<p>4353 rows × 3 columns</p>\n",
       "</div>"
      ],
      "text/plain": [
       "      Year Postal Code  Brand\n",
       "0     2010       98033      3\n",
       "1     2010       98040      1\n",
       "2     2010       98045      1\n",
       "3     2010       98052      1\n",
       "4     2010       98070      1\n",
       "...    ...         ...    ...\n",
       "4348  2022       99357      8\n",
       "4349  2022       99361      2\n",
       "4350  2022       99362     79\n",
       "4351  2022       99402      3\n",
       "4352  2022       99403     11\n",
       "\n",
       "[4353 rows x 3 columns]"
      ]
     },
     "execution_count": 170,
     "metadata": {},
     "output_type": "execute_result"
    }
   ],
   "source": [
    "# Preparing the Year and Postal Code for One Hot Encoding\n",
    "\n",
    "oneHotDs1 = dfReg.groupby(['Transaction Year', 'Postal Code']).count()[['Make']]\n",
    "oneHotDs1.reset_index(inplace=True) \n",
    "oneHotDs1 = oneHotDs1.rename(columns={'Transaction Year': 'Year', 'Make': 'Brand'})\n",
    "\n",
    "# Sort by year and  postal code\n",
    "oneHotDs1['Postal Code'] = oneHotDs1['Postal Code'].astype(int)\n",
    "oneHotDs1 = oneHotDs1.sort_values(['Year', 'Postal Code'])\n",
    "oneHotDs1['Postal Code'] = oneHotDs1['Postal Code'].astype(str)\n",
    "oneHotDs1"
   ]
  },
  {
   "cell_type": "code",
   "execution_count": 171,
   "metadata": {},
   "outputs": [],
   "source": [
    "def oneHotEncodeColumn(colName, df):\n",
    "    # Get values to encode\n",
    "    col = df[colName]\n",
    "    values = np.array(col)\n",
    "\n",
    "    # Encode each value as an integer index\n",
    "    encoderLabel = LabelEncoder()\n",
    "    intEncoded = encoderLabel.fit_transform(values)\n",
    "    labelZipCode = list(encoderLabel.classes_)\n",
    "\n",
    "    # Binary encode using one-hot encoder\n",
    "    oneHotEncoder = OneHotEncoder(sparse=False)\n",
    "    intEncoded = intEncoded.reshape(len(intEncoded), 1)\n",
    "    oneHotEncoded = oneHotEncoder.fit_transform(intEncoded)\n",
    "\n",
    "    # Concatenate one-hot encoding to the given dataframe\n",
    "    df = df.drop(colName, axis=1)\n",
    "    df = pd.concat([df, pd.DataFrame(data=oneHotEncoded, columns=labelZipCode)], axis=1)\n",
    "\n",
    "    return df"
   ]
  },
  {
   "cell_type": "code",
   "execution_count": 172,
   "metadata": {},
   "outputs": [
    {
     "name": "stderr",
     "output_type": "stream",
     "text": [
      "/Library/Frameworks/Python.framework/Versions/3.10/lib/python3.10/site-packages/sklearn/preprocessing/_encoders.py:868: FutureWarning: `sparse` was renamed to `sparse_output` in version 1.2 and will be removed in 1.4. `sparse_output` is ignored unless you leave `sparse` to its default value.\n",
      "  warnings.warn(\n"
     ]
    },
    {
     "data": {
      "text/html": [
       "<div>\n",
       "<style scoped>\n",
       "    .dataframe tbody tr th:only-of-type {\n",
       "        vertical-align: middle;\n",
       "    }\n",
       "\n",
       "    .dataframe tbody tr th {\n",
       "        vertical-align: top;\n",
       "    }\n",
       "\n",
       "    .dataframe thead th {\n",
       "        text-align: right;\n",
       "    }\n",
       "</style>\n",
       "<table border=\"1\" class=\"dataframe\">\n",
       "  <thead>\n",
       "    <tr style=\"text-align: right;\">\n",
       "      <th></th>\n",
       "      <th>Year</th>\n",
       "      <th>Brand</th>\n",
       "      <th>98001</th>\n",
       "      <th>98002</th>\n",
       "      <th>98003</th>\n",
       "      <th>98004</th>\n",
       "      <th>98005</th>\n",
       "      <th>98006</th>\n",
       "      <th>98007</th>\n",
       "      <th>98008</th>\n",
       "      <th>...</th>\n",
       "      <th>99352</th>\n",
       "      <th>99353</th>\n",
       "      <th>99354</th>\n",
       "      <th>99356</th>\n",
       "      <th>99357</th>\n",
       "      <th>99360</th>\n",
       "      <th>99361</th>\n",
       "      <th>99362</th>\n",
       "      <th>99402</th>\n",
       "      <th>99403</th>\n",
       "    </tr>\n",
       "  </thead>\n",
       "  <tbody>\n",
       "    <tr>\n",
       "      <th>0</th>\n",
       "      <td>2010</td>\n",
       "      <td>3</td>\n",
       "      <td>0.0</td>\n",
       "      <td>0.0</td>\n",
       "      <td>0.0</td>\n",
       "      <td>0.0</td>\n",
       "      <td>0.0</td>\n",
       "      <td>0.0</td>\n",
       "      <td>0.0</td>\n",
       "      <td>0.0</td>\n",
       "      <td>...</td>\n",
       "      <td>0.0</td>\n",
       "      <td>0.0</td>\n",
       "      <td>0.0</td>\n",
       "      <td>0.0</td>\n",
       "      <td>0.0</td>\n",
       "      <td>0.0</td>\n",
       "      <td>0.0</td>\n",
       "      <td>0.0</td>\n",
       "      <td>0.0</td>\n",
       "      <td>0.0</td>\n",
       "    </tr>\n",
       "    <tr>\n",
       "      <th>1</th>\n",
       "      <td>2010</td>\n",
       "      <td>1</td>\n",
       "      <td>0.0</td>\n",
       "      <td>0.0</td>\n",
       "      <td>0.0</td>\n",
       "      <td>0.0</td>\n",
       "      <td>0.0</td>\n",
       "      <td>0.0</td>\n",
       "      <td>0.0</td>\n",
       "      <td>0.0</td>\n",
       "      <td>...</td>\n",
       "      <td>0.0</td>\n",
       "      <td>0.0</td>\n",
       "      <td>0.0</td>\n",
       "      <td>0.0</td>\n",
       "      <td>0.0</td>\n",
       "      <td>0.0</td>\n",
       "      <td>0.0</td>\n",
       "      <td>0.0</td>\n",
       "      <td>0.0</td>\n",
       "      <td>0.0</td>\n",
       "    </tr>\n",
       "    <tr>\n",
       "      <th>2</th>\n",
       "      <td>2010</td>\n",
       "      <td>1</td>\n",
       "      <td>0.0</td>\n",
       "      <td>0.0</td>\n",
       "      <td>0.0</td>\n",
       "      <td>0.0</td>\n",
       "      <td>0.0</td>\n",
       "      <td>0.0</td>\n",
       "      <td>0.0</td>\n",
       "      <td>0.0</td>\n",
       "      <td>...</td>\n",
       "      <td>0.0</td>\n",
       "      <td>0.0</td>\n",
       "      <td>0.0</td>\n",
       "      <td>0.0</td>\n",
       "      <td>0.0</td>\n",
       "      <td>0.0</td>\n",
       "      <td>0.0</td>\n",
       "      <td>0.0</td>\n",
       "      <td>0.0</td>\n",
       "      <td>0.0</td>\n",
       "    </tr>\n",
       "    <tr>\n",
       "      <th>3</th>\n",
       "      <td>2010</td>\n",
       "      <td>1</td>\n",
       "      <td>0.0</td>\n",
       "      <td>0.0</td>\n",
       "      <td>0.0</td>\n",
       "      <td>0.0</td>\n",
       "      <td>0.0</td>\n",
       "      <td>0.0</td>\n",
       "      <td>0.0</td>\n",
       "      <td>0.0</td>\n",
       "      <td>...</td>\n",
       "      <td>0.0</td>\n",
       "      <td>0.0</td>\n",
       "      <td>0.0</td>\n",
       "      <td>0.0</td>\n",
       "      <td>0.0</td>\n",
       "      <td>0.0</td>\n",
       "      <td>0.0</td>\n",
       "      <td>0.0</td>\n",
       "      <td>0.0</td>\n",
       "      <td>0.0</td>\n",
       "    </tr>\n",
       "    <tr>\n",
       "      <th>4</th>\n",
       "      <td>2010</td>\n",
       "      <td>1</td>\n",
       "      <td>0.0</td>\n",
       "      <td>0.0</td>\n",
       "      <td>0.0</td>\n",
       "      <td>0.0</td>\n",
       "      <td>0.0</td>\n",
       "      <td>0.0</td>\n",
       "      <td>0.0</td>\n",
       "      <td>0.0</td>\n",
       "      <td>...</td>\n",
       "      <td>0.0</td>\n",
       "      <td>0.0</td>\n",
       "      <td>0.0</td>\n",
       "      <td>0.0</td>\n",
       "      <td>0.0</td>\n",
       "      <td>0.0</td>\n",
       "      <td>0.0</td>\n",
       "      <td>0.0</td>\n",
       "      <td>0.0</td>\n",
       "      <td>0.0</td>\n",
       "    </tr>\n",
       "    <tr>\n",
       "      <th>...</th>\n",
       "      <td>...</td>\n",
       "      <td>...</td>\n",
       "      <td>...</td>\n",
       "      <td>...</td>\n",
       "      <td>...</td>\n",
       "      <td>...</td>\n",
       "      <td>...</td>\n",
       "      <td>...</td>\n",
       "      <td>...</td>\n",
       "      <td>...</td>\n",
       "      <td>...</td>\n",
       "      <td>...</td>\n",
       "      <td>...</td>\n",
       "      <td>...</td>\n",
       "      <td>...</td>\n",
       "      <td>...</td>\n",
       "      <td>...</td>\n",
       "      <td>...</td>\n",
       "      <td>...</td>\n",
       "      <td>...</td>\n",
       "      <td>...</td>\n",
       "    </tr>\n",
       "    <tr>\n",
       "      <th>4348</th>\n",
       "      <td>2022</td>\n",
       "      <td>8</td>\n",
       "      <td>0.0</td>\n",
       "      <td>0.0</td>\n",
       "      <td>0.0</td>\n",
       "      <td>0.0</td>\n",
       "      <td>0.0</td>\n",
       "      <td>0.0</td>\n",
       "      <td>0.0</td>\n",
       "      <td>0.0</td>\n",
       "      <td>...</td>\n",
       "      <td>0.0</td>\n",
       "      <td>0.0</td>\n",
       "      <td>0.0</td>\n",
       "      <td>0.0</td>\n",
       "      <td>1.0</td>\n",
       "      <td>0.0</td>\n",
       "      <td>0.0</td>\n",
       "      <td>0.0</td>\n",
       "      <td>0.0</td>\n",
       "      <td>0.0</td>\n",
       "    </tr>\n",
       "    <tr>\n",
       "      <th>4349</th>\n",
       "      <td>2022</td>\n",
       "      <td>2</td>\n",
       "      <td>0.0</td>\n",
       "      <td>0.0</td>\n",
       "      <td>0.0</td>\n",
       "      <td>0.0</td>\n",
       "      <td>0.0</td>\n",
       "      <td>0.0</td>\n",
       "      <td>0.0</td>\n",
       "      <td>0.0</td>\n",
       "      <td>...</td>\n",
       "      <td>0.0</td>\n",
       "      <td>0.0</td>\n",
       "      <td>0.0</td>\n",
       "      <td>0.0</td>\n",
       "      <td>0.0</td>\n",
       "      <td>0.0</td>\n",
       "      <td>1.0</td>\n",
       "      <td>0.0</td>\n",
       "      <td>0.0</td>\n",
       "      <td>0.0</td>\n",
       "    </tr>\n",
       "    <tr>\n",
       "      <th>4350</th>\n",
       "      <td>2022</td>\n",
       "      <td>79</td>\n",
       "      <td>0.0</td>\n",
       "      <td>0.0</td>\n",
       "      <td>0.0</td>\n",
       "      <td>0.0</td>\n",
       "      <td>0.0</td>\n",
       "      <td>0.0</td>\n",
       "      <td>0.0</td>\n",
       "      <td>0.0</td>\n",
       "      <td>...</td>\n",
       "      <td>0.0</td>\n",
       "      <td>0.0</td>\n",
       "      <td>0.0</td>\n",
       "      <td>0.0</td>\n",
       "      <td>0.0</td>\n",
       "      <td>0.0</td>\n",
       "      <td>0.0</td>\n",
       "      <td>1.0</td>\n",
       "      <td>0.0</td>\n",
       "      <td>0.0</td>\n",
       "    </tr>\n",
       "    <tr>\n",
       "      <th>4351</th>\n",
       "      <td>2022</td>\n",
       "      <td>3</td>\n",
       "      <td>0.0</td>\n",
       "      <td>0.0</td>\n",
       "      <td>0.0</td>\n",
       "      <td>0.0</td>\n",
       "      <td>0.0</td>\n",
       "      <td>0.0</td>\n",
       "      <td>0.0</td>\n",
       "      <td>0.0</td>\n",
       "      <td>...</td>\n",
       "      <td>0.0</td>\n",
       "      <td>0.0</td>\n",
       "      <td>0.0</td>\n",
       "      <td>0.0</td>\n",
       "      <td>0.0</td>\n",
       "      <td>0.0</td>\n",
       "      <td>0.0</td>\n",
       "      <td>0.0</td>\n",
       "      <td>1.0</td>\n",
       "      <td>0.0</td>\n",
       "    </tr>\n",
       "    <tr>\n",
       "      <th>4352</th>\n",
       "      <td>2022</td>\n",
       "      <td>11</td>\n",
       "      <td>0.0</td>\n",
       "      <td>0.0</td>\n",
       "      <td>0.0</td>\n",
       "      <td>0.0</td>\n",
       "      <td>0.0</td>\n",
       "      <td>0.0</td>\n",
       "      <td>0.0</td>\n",
       "      <td>0.0</td>\n",
       "      <td>...</td>\n",
       "      <td>0.0</td>\n",
       "      <td>0.0</td>\n",
       "      <td>0.0</td>\n",
       "      <td>0.0</td>\n",
       "      <td>0.0</td>\n",
       "      <td>0.0</td>\n",
       "      <td>0.0</td>\n",
       "      <td>0.0</td>\n",
       "      <td>0.0</td>\n",
       "      <td>1.0</td>\n",
       "    </tr>\n",
       "  </tbody>\n",
       "</table>\n",
       "<p>4353 rows × 543 columns</p>\n",
       "</div>"
      ],
      "text/plain": [
       "      Year  Brand  98001  98002  98003  98004  98005  98006  98007  98008   \n",
       "0     2010      3    0.0    0.0    0.0    0.0    0.0    0.0    0.0    0.0  \\\n",
       "1     2010      1    0.0    0.0    0.0    0.0    0.0    0.0    0.0    0.0   \n",
       "2     2010      1    0.0    0.0    0.0    0.0    0.0    0.0    0.0    0.0   \n",
       "3     2010      1    0.0    0.0    0.0    0.0    0.0    0.0    0.0    0.0   \n",
       "4     2010      1    0.0    0.0    0.0    0.0    0.0    0.0    0.0    0.0   \n",
       "...    ...    ...    ...    ...    ...    ...    ...    ...    ...    ...   \n",
       "4348  2022      8    0.0    0.0    0.0    0.0    0.0    0.0    0.0    0.0   \n",
       "4349  2022      2    0.0    0.0    0.0    0.0    0.0    0.0    0.0    0.0   \n",
       "4350  2022     79    0.0    0.0    0.0    0.0    0.0    0.0    0.0    0.0   \n",
       "4351  2022      3    0.0    0.0    0.0    0.0    0.0    0.0    0.0    0.0   \n",
       "4352  2022     11    0.0    0.0    0.0    0.0    0.0    0.0    0.0    0.0   \n",
       "\n",
       "      ...  99352  99353  99354  99356  99357  99360  99361  99362  99402   \n",
       "0     ...    0.0    0.0    0.0    0.0    0.0    0.0    0.0    0.0    0.0  \\\n",
       "1     ...    0.0    0.0    0.0    0.0    0.0    0.0    0.0    0.0    0.0   \n",
       "2     ...    0.0    0.0    0.0    0.0    0.0    0.0    0.0    0.0    0.0   \n",
       "3     ...    0.0    0.0    0.0    0.0    0.0    0.0    0.0    0.0    0.0   \n",
       "4     ...    0.0    0.0    0.0    0.0    0.0    0.0    0.0    0.0    0.0   \n",
       "...   ...    ...    ...    ...    ...    ...    ...    ...    ...    ...   \n",
       "4348  ...    0.0    0.0    0.0    0.0    1.0    0.0    0.0    0.0    0.0   \n",
       "4349  ...    0.0    0.0    0.0    0.0    0.0    0.0    1.0    0.0    0.0   \n",
       "4350  ...    0.0    0.0    0.0    0.0    0.0    0.0    0.0    1.0    0.0   \n",
       "4351  ...    0.0    0.0    0.0    0.0    0.0    0.0    0.0    0.0    1.0   \n",
       "4352  ...    0.0    0.0    0.0    0.0    0.0    0.0    0.0    0.0    0.0   \n",
       "\n",
       "      99403  \n",
       "0       0.0  \n",
       "1       0.0  \n",
       "2       0.0  \n",
       "3       0.0  \n",
       "4       0.0  \n",
       "...     ...  \n",
       "4348    0.0  \n",
       "4349    0.0  \n",
       "4350    0.0  \n",
       "4351    0.0  \n",
       "4352    1.0  \n",
       "\n",
       "[4353 rows x 543 columns]"
      ]
     },
     "execution_count": 172,
     "metadata": {},
     "output_type": "execute_result"
    }
   ],
   "source": [
    "regWaLabelOneHot = oneHotEncodeColumn('Postal Code', oneHotDs1)\n",
    "regWaLabelOneHot"
   ]
  },
  {
   "cell_type": "code",
   "execution_count": 173,
   "metadata": {},
   "outputs": [
    {
     "data": {
      "text/html": [
       "<div>\n",
       "<style scoped>\n",
       "    .dataframe tbody tr th:only-of-type {\n",
       "        vertical-align: middle;\n",
       "    }\n",
       "\n",
       "    .dataframe tbody tr th {\n",
       "        vertical-align: top;\n",
       "    }\n",
       "\n",
       "    .dataframe thead th {\n",
       "        text-align: right;\n",
       "    }\n",
       "</style>\n",
       "<table border=\"1\" class=\"dataframe\">\n",
       "  <thead>\n",
       "    <tr style=\"text-align: right;\">\n",
       "      <th></th>\n",
       "      <th>VIN (1-10)</th>\n",
       "      <th>County</th>\n",
       "      <th>City</th>\n",
       "      <th>State</th>\n",
       "      <th>Postal Code</th>\n",
       "      <th>Model Year</th>\n",
       "      <th>Make</th>\n",
       "      <th>Model</th>\n",
       "      <th>Electric Vehicle Type</th>\n",
       "      <th>Clean Alternative Fuel Vehicle (CAFV) Eligibility</th>\n",
       "      <th>Electric Range</th>\n",
       "      <th>Base MSRP</th>\n",
       "      <th>Legislative District</th>\n",
       "      <th>DOL Vehicle ID</th>\n",
       "      <th>Vehicle Location</th>\n",
       "      <th>Electric Utility</th>\n",
       "      <th>2020 Census Tract</th>\n",
       "    </tr>\n",
       "  </thead>\n",
       "  <tbody>\n",
       "    <tr>\n",
       "      <th>0</th>\n",
       "      <td>5YJ3E1EA0K</td>\n",
       "      <td>Thurston</td>\n",
       "      <td>Tumwater</td>\n",
       "      <td>WA</td>\n",
       "      <td>98512</td>\n",
       "      <td>2019</td>\n",
       "      <td>TESLA</td>\n",
       "      <td>MODEL 3</td>\n",
       "      <td>Battery Electric Vehicle (BEV)</td>\n",
       "      <td>Clean Alternative Fuel Vehicle Eligible</td>\n",
       "      <td>220</td>\n",
       "      <td>0</td>\n",
       "      <td>22.0</td>\n",
       "      <td>242565116</td>\n",
       "      <td>POINT (-122.91310169999997 47.01359260000004)</td>\n",
       "      <td>PUGET SOUND ENERGY INC</td>\n",
       "      <td>53067010910</td>\n",
       "    </tr>\n",
       "    <tr>\n",
       "      <th>1</th>\n",
       "      <td>1N4BZ1DV4N</td>\n",
       "      <td>Island</td>\n",
       "      <td>Clinton</td>\n",
       "      <td>WA</td>\n",
       "      <td>98236</td>\n",
       "      <td>2022</td>\n",
       "      <td>NISSAN</td>\n",
       "      <td>LEAF</td>\n",
       "      <td>Battery Electric Vehicle (BEV)</td>\n",
       "      <td>Eligibility unknown as battery range has not b...</td>\n",
       "      <td>0</td>\n",
       "      <td>0</td>\n",
       "      <td>10.0</td>\n",
       "      <td>183272785</td>\n",
       "      <td>POINT (-122.35936399999997 47.97965520000008)</td>\n",
       "      <td>PUGET SOUND ENERGY INC</td>\n",
       "      <td>53029972000</td>\n",
       "    </tr>\n",
       "    <tr>\n",
       "      <th>2</th>\n",
       "      <td>5YJ3E1EA0L</td>\n",
       "      <td>Snohomish</td>\n",
       "      <td>Snohomish</td>\n",
       "      <td>WA</td>\n",
       "      <td>98290</td>\n",
       "      <td>2020</td>\n",
       "      <td>TESLA</td>\n",
       "      <td>MODEL 3</td>\n",
       "      <td>Battery Electric Vehicle (BEV)</td>\n",
       "      <td>Clean Alternative Fuel Vehicle Eligible</td>\n",
       "      <td>266</td>\n",
       "      <td>0</td>\n",
       "      <td>44.0</td>\n",
       "      <td>112552366</td>\n",
       "      <td>POINT (-122.09150499999998 47.91555500000004)</td>\n",
       "      <td>PUGET SOUND ENERGY INC</td>\n",
       "      <td>53061052502</td>\n",
       "    </tr>\n",
       "    <tr>\n",
       "      <th>3</th>\n",
       "      <td>5YJ3E1EBXL</td>\n",
       "      <td>King</td>\n",
       "      <td>Seattle</td>\n",
       "      <td>WA</td>\n",
       "      <td>98134</td>\n",
       "      <td>2020</td>\n",
       "      <td>TESLA</td>\n",
       "      <td>MODEL 3</td>\n",
       "      <td>Battery Electric Vehicle (BEV)</td>\n",
       "      <td>Clean Alternative Fuel Vehicle Eligible</td>\n",
       "      <td>322</td>\n",
       "      <td>0</td>\n",
       "      <td>11.0</td>\n",
       "      <td>6336319</td>\n",
       "      <td>POINT (-122.32981499999994 47.579810000000066)</td>\n",
       "      <td>CITY OF SEATTLE - (WA)|CITY OF TACOMA - (WA)</td>\n",
       "      <td>53033009300</td>\n",
       "    </tr>\n",
       "    <tr>\n",
       "      <th>4</th>\n",
       "      <td>5YJSA1CP0D</td>\n",
       "      <td>Snohomish</td>\n",
       "      <td>Edmonds</td>\n",
       "      <td>WA</td>\n",
       "      <td>98020</td>\n",
       "      <td>2013</td>\n",
       "      <td>TESLA</td>\n",
       "      <td>MODEL S</td>\n",
       "      <td>Battery Electric Vehicle (BEV)</td>\n",
       "      <td>Clean Alternative Fuel Vehicle Eligible</td>\n",
       "      <td>208</td>\n",
       "      <td>69900</td>\n",
       "      <td>21.0</td>\n",
       "      <td>186212960</td>\n",
       "      <td>POINT (-122.37507 47.80807000000004)</td>\n",
       "      <td>PUGET SOUND ENERGY INC</td>\n",
       "      <td>53061050403</td>\n",
       "    </tr>\n",
       "  </tbody>\n",
       "</table>\n",
       "</div>"
      ],
      "text/plain": [
       "   VIN (1-10)     County       City State  Postal Code  Model Year    Make   \n",
       "0  5YJ3E1EA0K   Thurston   Tumwater    WA        98512        2019   TESLA  \\\n",
       "1  1N4BZ1DV4N     Island    Clinton    WA        98236        2022  NISSAN   \n",
       "2  5YJ3E1EA0L  Snohomish  Snohomish    WA        98290        2020   TESLA   \n",
       "3  5YJ3E1EBXL       King    Seattle    WA        98134        2020   TESLA   \n",
       "4  5YJSA1CP0D  Snohomish    Edmonds    WA        98020        2013   TESLA   \n",
       "\n",
       "     Model           Electric Vehicle Type   \n",
       "0  MODEL 3  Battery Electric Vehicle (BEV)  \\\n",
       "1     LEAF  Battery Electric Vehicle (BEV)   \n",
       "2  MODEL 3  Battery Electric Vehicle (BEV)   \n",
       "3  MODEL 3  Battery Electric Vehicle (BEV)   \n",
       "4  MODEL S  Battery Electric Vehicle (BEV)   \n",
       "\n",
       "   Clean Alternative Fuel Vehicle (CAFV) Eligibility  Electric Range   \n",
       "0            Clean Alternative Fuel Vehicle Eligible             220  \\\n",
       "1  Eligibility unknown as battery range has not b...               0   \n",
       "2            Clean Alternative Fuel Vehicle Eligible             266   \n",
       "3            Clean Alternative Fuel Vehicle Eligible             322   \n",
       "4            Clean Alternative Fuel Vehicle Eligible             208   \n",
       "\n",
       "   Base MSRP  Legislative District DOL Vehicle ID   \n",
       "0          0                  22.0      242565116  \\\n",
       "1          0                  10.0      183272785   \n",
       "2          0                  44.0      112552366   \n",
       "3          0                  11.0        6336319   \n",
       "4      69900                  21.0      186212960   \n",
       "\n",
       "                                 Vehicle Location   \n",
       "0   POINT (-122.91310169999997 47.01359260000004)  \\\n",
       "1   POINT (-122.35936399999997 47.97965520000008)   \n",
       "2   POINT (-122.09150499999998 47.91555500000004)   \n",
       "3  POINT (-122.32981499999994 47.579810000000066)   \n",
       "4            POINT (-122.37507 47.80807000000004)   \n",
       "\n",
       "                               Electric Utility 2020 Census Tract  \n",
       "0                        PUGET SOUND ENERGY INC       53067010910  \n",
       "1                        PUGET SOUND ENERGY INC       53029972000  \n",
       "2                        PUGET SOUND ENERGY INC       53061052502  \n",
       "3  CITY OF SEATTLE - (WA)|CITY OF TACOMA - (WA)       53033009300  \n",
       "4                        PUGET SOUND ENERGY INC       53061050403  "
      ]
     },
     "execution_count": 173,
     "metadata": {},
     "output_type": "execute_result"
    }
   ],
   "source": [
    "dsEncodeMain = ds.toPandas()\n",
    "dsEncodeMain.head()"
   ]
  },
  {
   "cell_type": "code",
   "execution_count": 179,
   "metadata": {},
   "outputs": [
    {
     "data": {
      "text/html": [
       "<div>\n",
       "<style scoped>\n",
       "    .dataframe tbody tr th:only-of-type {\n",
       "        vertical-align: middle;\n",
       "    }\n",
       "\n",
       "    .dataframe tbody tr th {\n",
       "        vertical-align: top;\n",
       "    }\n",
       "\n",
       "    .dataframe thead th {\n",
       "        text-align: right;\n",
       "    }\n",
       "</style>\n",
       "<table border=\"1\" class=\"dataframe\">\n",
       "  <thead>\n",
       "    <tr style=\"text-align: right;\">\n",
       "      <th></th>\n",
       "      <th>Model Year</th>\n",
       "      <th>Count</th>\n",
       "    </tr>\n",
       "  </thead>\n",
       "  <tbody>\n",
       "    <tr>\n",
       "      <th>0</th>\n",
       "      <td>2010</td>\n",
       "      <td>23</td>\n",
       "    </tr>\n",
       "    <tr>\n",
       "      <th>1</th>\n",
       "      <td>2011</td>\n",
       "      <td>815</td>\n",
       "    </tr>\n",
       "    <tr>\n",
       "      <th>2</th>\n",
       "      <td>2012</td>\n",
       "      <td>1657</td>\n",
       "    </tr>\n",
       "    <tr>\n",
       "      <th>3</th>\n",
       "      <td>2013</td>\n",
       "      <td>4598</td>\n",
       "    </tr>\n",
       "    <tr>\n",
       "      <th>4</th>\n",
       "      <td>2014</td>\n",
       "      <td>3601</td>\n",
       "    </tr>\n",
       "    <tr>\n",
       "      <th>5</th>\n",
       "      <td>2015</td>\n",
       "      <td>4925</td>\n",
       "    </tr>\n",
       "    <tr>\n",
       "      <th>6</th>\n",
       "      <td>2016</td>\n",
       "      <td>5688</td>\n",
       "    </tr>\n",
       "    <tr>\n",
       "      <th>7</th>\n",
       "      <td>2017</td>\n",
       "      <td>8579</td>\n",
       "    </tr>\n",
       "    <tr>\n",
       "      <th>8</th>\n",
       "      <td>2018</td>\n",
       "      <td>14343</td>\n",
       "    </tr>\n",
       "    <tr>\n",
       "      <th>9</th>\n",
       "      <td>2019</td>\n",
       "      <td>10577</td>\n",
       "    </tr>\n",
       "    <tr>\n",
       "      <th>10</th>\n",
       "      <td>2020</td>\n",
       "      <td>11151</td>\n",
       "    </tr>\n",
       "    <tr>\n",
       "      <th>11</th>\n",
       "      <td>2021</td>\n",
       "      <td>18554</td>\n",
       "    </tr>\n",
       "    <tr>\n",
       "      <th>12</th>\n",
       "      <td>2022</td>\n",
       "      <td>27983</td>\n",
       "    </tr>\n",
       "  </tbody>\n",
       "</table>\n",
       "</div>"
      ],
      "text/plain": [
       "    Model Year  Count\n",
       "0         2010     23\n",
       "1         2011    815\n",
       "2         2012   1657\n",
       "3         2013   4598\n",
       "4         2014   3601\n",
       "5         2015   4925\n",
       "6         2016   5688\n",
       "7         2017   8579\n",
       "8         2018  14343\n",
       "9         2019  10577\n",
       "10        2020  11151\n",
       "11        2021  18554\n",
       "12        2022  27983"
      ]
     },
     "execution_count": 179,
     "metadata": {},
     "output_type": "execute_result"
    }
   ],
   "source": [
    "# Creating a dataframe to Classify the counts based on Year\n",
    "electricVehicleLabelPopulation = dsEncodeMain.groupby('Model Year').count().loc[2010:2022, ['State']]\n",
    "electricVehicleLabelPopulation.reset_index(inplace=True)\n",
    "electricVehicleLabelPopulation.columns = ['Model Year', 'Count']\n",
    "electricVehicleLabelPopulation.head(13)"
   ]
  },
  {
   "cell_type": "code",
   "execution_count": 183,
   "metadata": {},
   "outputs": [],
   "source": [
    "# Converting the data to pandas dataframe\n",
    "dfWeatherPd = dsWeather.toPandas()"
   ]
  },
  {
   "cell_type": "code",
   "execution_count": 185,
   "metadata": {},
   "outputs": [
    {
     "data": {
      "text/html": [
       "<div>\n",
       "<style scoped>\n",
       "    .dataframe tbody tr th:only-of-type {\n",
       "        vertical-align: middle;\n",
       "    }\n",
       "\n",
       "    .dataframe tbody tr th {\n",
       "        vertical-align: top;\n",
       "    }\n",
       "\n",
       "    .dataframe thead th {\n",
       "        text-align: right;\n",
       "    }\n",
       "</style>\n",
       "<table border=\"1\" class=\"dataframe\">\n",
       "  <thead>\n",
       "    <tr style=\"text-align: right;\">\n",
       "      <th></th>\n",
       "      <th>Date</th>\n",
       "      <th>Value</th>\n",
       "      <th>Anomaly</th>\n",
       "    </tr>\n",
       "  </thead>\n",
       "  <tbody>\n",
       "    <tr>\n",
       "      <th>0</th>\n",
       "      <td>2010</td>\n",
       "      <td>47.1</td>\n",
       "      <td>1.0</td>\n",
       "    </tr>\n",
       "    <tr>\n",
       "      <th>1</th>\n",
       "      <td>2010</td>\n",
       "      <td>47.1</td>\n",
       "      <td>1.0</td>\n",
       "    </tr>\n",
       "    <tr>\n",
       "      <th>2</th>\n",
       "      <td>2010</td>\n",
       "      <td>47.1</td>\n",
       "      <td>1.0</td>\n",
       "    </tr>\n",
       "    <tr>\n",
       "      <th>3</th>\n",
       "      <td>2010</td>\n",
       "      <td>47.1</td>\n",
       "      <td>1.0</td>\n",
       "    </tr>\n",
       "    <tr>\n",
       "      <th>4</th>\n",
       "      <td>2010</td>\n",
       "      <td>47.1</td>\n",
       "      <td>1.0</td>\n",
       "    </tr>\n",
       "    <tr>\n",
       "      <th>...</th>\n",
       "      <td>...</td>\n",
       "      <td>...</td>\n",
       "      <td>...</td>\n",
       "    </tr>\n",
       "    <tr>\n",
       "      <th>4348</th>\n",
       "      <td>2022</td>\n",
       "      <td>47.1</td>\n",
       "      <td>1.0</td>\n",
       "    </tr>\n",
       "    <tr>\n",
       "      <th>4349</th>\n",
       "      <td>2022</td>\n",
       "      <td>47.1</td>\n",
       "      <td>1.0</td>\n",
       "    </tr>\n",
       "    <tr>\n",
       "      <th>4350</th>\n",
       "      <td>2022</td>\n",
       "      <td>47.1</td>\n",
       "      <td>1.0</td>\n",
       "    </tr>\n",
       "    <tr>\n",
       "      <th>4351</th>\n",
       "      <td>2022</td>\n",
       "      <td>47.1</td>\n",
       "      <td>1.0</td>\n",
       "    </tr>\n",
       "    <tr>\n",
       "      <th>4352</th>\n",
       "      <td>2022</td>\n",
       "      <td>47.1</td>\n",
       "      <td>1.0</td>\n",
       "    </tr>\n",
       "  </tbody>\n",
       "</table>\n",
       "<p>4353 rows × 3 columns</p>\n",
       "</div>"
      ],
      "text/plain": [
       "      Date  Value  Anomaly\n",
       "0     2010   47.1      1.0\n",
       "1     2010   47.1      1.0\n",
       "2     2010   47.1      1.0\n",
       "3     2010   47.1      1.0\n",
       "4     2010   47.1      1.0\n",
       "...    ...    ...      ...\n",
       "4348  2022   47.1      1.0\n",
       "4349  2022   47.1      1.0\n",
       "4350  2022   47.1      1.0\n",
       "4351  2022   47.1      1.0\n",
       "4352  2022   47.1      1.0\n",
       "\n",
       "[4353 rows x 3 columns]"
      ]
     },
     "execution_count": 185,
     "metadata": {},
     "output_type": "execute_result"
    }
   ],
   "source": [
    "# Preparing the Weather Data for One Hot Encoding\n",
    "oneHotDs2 = dfWeatherPd[(dfWeatherPd['Date'] >= 2010) & (dfWeatherPd['Date'] <= 2022)].reset_index()\n",
    "oneHotDs2 = oneHotDs2.merge(right=oneHotDs1, how='outer', left_on='Date', right_on='Year')[['Date', 'Value', 'Anomaly']]\n",
    "oneHotDs2"
   ]
  },
  {
   "cell_type": "code",
   "execution_count": 193,
   "metadata": {},
   "outputs": [],
   "source": [
    "dfIncomePd = dsIncome.toPandas()"
   ]
  },
  {
   "cell_type": "code",
   "execution_count": 196,
   "metadata": {},
   "outputs": [
    {
     "data": {
      "text/html": [
       "<div>\n",
       "<style scoped>\n",
       "    .dataframe tbody tr th:only-of-type {\n",
       "        vertical-align: middle;\n",
       "    }\n",
       "\n",
       "    .dataframe tbody tr th {\n",
       "        vertical-align: top;\n",
       "    }\n",
       "\n",
       "    .dataframe thead th {\n",
       "        text-align: right;\n",
       "    }\n",
       "</style>\n",
       "<table border=\"1\" class=\"dataframe\">\n",
       "  <thead>\n",
       "    <tr style=\"text-align: right;\">\n",
       "      <th></th>\n",
       "      <th>YEAR</th>\n",
       "      <th>WASHINGTON</th>\n",
       "      <th>US</th>\n",
       "    </tr>\n",
       "  </thead>\n",
       "  <tbody>\n",
       "    <tr>\n",
       "      <th>0</th>\n",
       "      <td>2010</td>\n",
       "      <td>42348</td>\n",
       "      <td>40649</td>\n",
       "    </tr>\n",
       "    <tr>\n",
       "      <th>1</th>\n",
       "      <td>2010</td>\n",
       "      <td>42348</td>\n",
       "      <td>40649</td>\n",
       "    </tr>\n",
       "    <tr>\n",
       "      <th>2</th>\n",
       "      <td>2010</td>\n",
       "      <td>42348</td>\n",
       "      <td>40649</td>\n",
       "    </tr>\n",
       "    <tr>\n",
       "      <th>3</th>\n",
       "      <td>2010</td>\n",
       "      <td>42348</td>\n",
       "      <td>40649</td>\n",
       "    </tr>\n",
       "    <tr>\n",
       "      <th>4</th>\n",
       "      <td>2010</td>\n",
       "      <td>42348</td>\n",
       "      <td>40649</td>\n",
       "    </tr>\n",
       "    <tr>\n",
       "      <th>...</th>\n",
       "      <td>...</td>\n",
       "      <td>...</td>\n",
       "      <td>...</td>\n",
       "    </tr>\n",
       "    <tr>\n",
       "      <th>4348</th>\n",
       "      <td>2022</td>\n",
       "      <td>75698</td>\n",
       "      <td>65280</td>\n",
       "    </tr>\n",
       "    <tr>\n",
       "      <th>4349</th>\n",
       "      <td>2022</td>\n",
       "      <td>75698</td>\n",
       "      <td>65280</td>\n",
       "    </tr>\n",
       "    <tr>\n",
       "      <th>4350</th>\n",
       "      <td>2022</td>\n",
       "      <td>75698</td>\n",
       "      <td>65280</td>\n",
       "    </tr>\n",
       "    <tr>\n",
       "      <th>4351</th>\n",
       "      <td>2022</td>\n",
       "      <td>75698</td>\n",
       "      <td>65280</td>\n",
       "    </tr>\n",
       "    <tr>\n",
       "      <th>4352</th>\n",
       "      <td>2022</td>\n",
       "      <td>75698</td>\n",
       "      <td>65280</td>\n",
       "    </tr>\n",
       "  </tbody>\n",
       "</table>\n",
       "<p>4353 rows × 3 columns</p>\n",
       "</div>"
      ],
      "text/plain": [
       "      YEAR  WASHINGTON     US\n",
       "0     2010       42348  40649\n",
       "1     2010       42348  40649\n",
       "2     2010       42348  40649\n",
       "3     2010       42348  40649\n",
       "4     2010       42348  40649\n",
       "...    ...         ...    ...\n",
       "4348  2022       75698  65280\n",
       "4349  2022       75698  65280\n",
       "4350  2022       75698  65280\n",
       "4351  2022       75698  65280\n",
       "4352  2022       75698  65280\n",
       "\n",
       "[4353 rows x 3 columns]"
      ]
     },
     "execution_count": 196,
     "metadata": {},
     "output_type": "execute_result"
    }
   ],
   "source": [
    "# Preparing the Income Data for One Hot Encoding\n",
    "\n",
    "oneHotDs3 = dfIncomePd[dfIncomePd['YEAR'] >= 2010].sort_values('YEAR', ascending=True).reset_index()\n",
    "oneHotDs3 = oneHotDs3.merge(right=oneHotDs1, how='outer', left_on='YEAR', right_on='Year')[['YEAR', 'WASHINGTON', 'US']]\n",
    "oneHotDs3"
   ]
  },
  {
   "cell_type": "code",
   "execution_count": 197,
   "metadata": {},
   "outputs": [
    {
     "data": {
      "text/html": [
       "<div>\n",
       "<style scoped>\n",
       "    .dataframe tbody tr th:only-of-type {\n",
       "        vertical-align: middle;\n",
       "    }\n",
       "\n",
       "    .dataframe tbody tr th {\n",
       "        vertical-align: top;\n",
       "    }\n",
       "\n",
       "    .dataframe thead th {\n",
       "        text-align: right;\n",
       "    }\n",
       "</style>\n",
       "<table border=\"1\" class=\"dataframe\">\n",
       "  <thead>\n",
       "    <tr style=\"text-align: right;\">\n",
       "      <th></th>\n",
       "      <th>Year</th>\n",
       "      <th>98001</th>\n",
       "      <th>98002</th>\n",
       "      <th>98003</th>\n",
       "      <th>98004</th>\n",
       "      <th>98005</th>\n",
       "      <th>98006</th>\n",
       "      <th>98007</th>\n",
       "      <th>98008</th>\n",
       "      <th>98010</th>\n",
       "      <th>...</th>\n",
       "      <th>99354</th>\n",
       "      <th>99356</th>\n",
       "      <th>99357</th>\n",
       "      <th>99360</th>\n",
       "      <th>99361</th>\n",
       "      <th>99362</th>\n",
       "      <th>99402</th>\n",
       "      <th>99403</th>\n",
       "      <th>Weather</th>\n",
       "      <th>Income</th>\n",
       "    </tr>\n",
       "  </thead>\n",
       "  <tbody>\n",
       "    <tr>\n",
       "      <th>0</th>\n",
       "      <td>2010</td>\n",
       "      <td>0.0</td>\n",
       "      <td>0.0</td>\n",
       "      <td>0.0</td>\n",
       "      <td>0.0</td>\n",
       "      <td>0.0</td>\n",
       "      <td>0.0</td>\n",
       "      <td>0.0</td>\n",
       "      <td>0.0</td>\n",
       "      <td>0.0</td>\n",
       "      <td>...</td>\n",
       "      <td>0.0</td>\n",
       "      <td>0.0</td>\n",
       "      <td>0.0</td>\n",
       "      <td>0.0</td>\n",
       "      <td>0.0</td>\n",
       "      <td>0.0</td>\n",
       "      <td>0.0</td>\n",
       "      <td>0.0</td>\n",
       "      <td>47.1</td>\n",
       "      <td>42348</td>\n",
       "    </tr>\n",
       "    <tr>\n",
       "      <th>1</th>\n",
       "      <td>2010</td>\n",
       "      <td>0.0</td>\n",
       "      <td>0.0</td>\n",
       "      <td>0.0</td>\n",
       "      <td>0.0</td>\n",
       "      <td>0.0</td>\n",
       "      <td>0.0</td>\n",
       "      <td>0.0</td>\n",
       "      <td>0.0</td>\n",
       "      <td>0.0</td>\n",
       "      <td>...</td>\n",
       "      <td>0.0</td>\n",
       "      <td>0.0</td>\n",
       "      <td>0.0</td>\n",
       "      <td>0.0</td>\n",
       "      <td>0.0</td>\n",
       "      <td>0.0</td>\n",
       "      <td>0.0</td>\n",
       "      <td>0.0</td>\n",
       "      <td>47.1</td>\n",
       "      <td>42348</td>\n",
       "    </tr>\n",
       "    <tr>\n",
       "      <th>2</th>\n",
       "      <td>2010</td>\n",
       "      <td>0.0</td>\n",
       "      <td>0.0</td>\n",
       "      <td>0.0</td>\n",
       "      <td>0.0</td>\n",
       "      <td>0.0</td>\n",
       "      <td>0.0</td>\n",
       "      <td>0.0</td>\n",
       "      <td>0.0</td>\n",
       "      <td>0.0</td>\n",
       "      <td>...</td>\n",
       "      <td>0.0</td>\n",
       "      <td>0.0</td>\n",
       "      <td>0.0</td>\n",
       "      <td>0.0</td>\n",
       "      <td>0.0</td>\n",
       "      <td>0.0</td>\n",
       "      <td>0.0</td>\n",
       "      <td>0.0</td>\n",
       "      <td>47.1</td>\n",
       "      <td>42348</td>\n",
       "    </tr>\n",
       "    <tr>\n",
       "      <th>3</th>\n",
       "      <td>2010</td>\n",
       "      <td>0.0</td>\n",
       "      <td>0.0</td>\n",
       "      <td>0.0</td>\n",
       "      <td>0.0</td>\n",
       "      <td>0.0</td>\n",
       "      <td>0.0</td>\n",
       "      <td>0.0</td>\n",
       "      <td>0.0</td>\n",
       "      <td>0.0</td>\n",
       "      <td>...</td>\n",
       "      <td>0.0</td>\n",
       "      <td>0.0</td>\n",
       "      <td>0.0</td>\n",
       "      <td>0.0</td>\n",
       "      <td>0.0</td>\n",
       "      <td>0.0</td>\n",
       "      <td>0.0</td>\n",
       "      <td>0.0</td>\n",
       "      <td>47.1</td>\n",
       "      <td>42348</td>\n",
       "    </tr>\n",
       "    <tr>\n",
       "      <th>4</th>\n",
       "      <td>2010</td>\n",
       "      <td>0.0</td>\n",
       "      <td>0.0</td>\n",
       "      <td>0.0</td>\n",
       "      <td>0.0</td>\n",
       "      <td>0.0</td>\n",
       "      <td>0.0</td>\n",
       "      <td>0.0</td>\n",
       "      <td>0.0</td>\n",
       "      <td>0.0</td>\n",
       "      <td>...</td>\n",
       "      <td>0.0</td>\n",
       "      <td>0.0</td>\n",
       "      <td>0.0</td>\n",
       "      <td>0.0</td>\n",
       "      <td>0.0</td>\n",
       "      <td>0.0</td>\n",
       "      <td>0.0</td>\n",
       "      <td>0.0</td>\n",
       "      <td>47.1</td>\n",
       "      <td>42348</td>\n",
       "    </tr>\n",
       "    <tr>\n",
       "      <th>...</th>\n",
       "      <td>...</td>\n",
       "      <td>...</td>\n",
       "      <td>...</td>\n",
       "      <td>...</td>\n",
       "      <td>...</td>\n",
       "      <td>...</td>\n",
       "      <td>...</td>\n",
       "      <td>...</td>\n",
       "      <td>...</td>\n",
       "      <td>...</td>\n",
       "      <td>...</td>\n",
       "      <td>...</td>\n",
       "      <td>...</td>\n",
       "      <td>...</td>\n",
       "      <td>...</td>\n",
       "      <td>...</td>\n",
       "      <td>...</td>\n",
       "      <td>...</td>\n",
       "      <td>...</td>\n",
       "      <td>...</td>\n",
       "      <td>...</td>\n",
       "    </tr>\n",
       "    <tr>\n",
       "      <th>4348</th>\n",
       "      <td>2022</td>\n",
       "      <td>0.0</td>\n",
       "      <td>0.0</td>\n",
       "      <td>0.0</td>\n",
       "      <td>0.0</td>\n",
       "      <td>0.0</td>\n",
       "      <td>0.0</td>\n",
       "      <td>0.0</td>\n",
       "      <td>0.0</td>\n",
       "      <td>0.0</td>\n",
       "      <td>...</td>\n",
       "      <td>0.0</td>\n",
       "      <td>0.0</td>\n",
       "      <td>1.0</td>\n",
       "      <td>0.0</td>\n",
       "      <td>0.0</td>\n",
       "      <td>0.0</td>\n",
       "      <td>0.0</td>\n",
       "      <td>0.0</td>\n",
       "      <td>47.1</td>\n",
       "      <td>75698</td>\n",
       "    </tr>\n",
       "    <tr>\n",
       "      <th>4349</th>\n",
       "      <td>2022</td>\n",
       "      <td>0.0</td>\n",
       "      <td>0.0</td>\n",
       "      <td>0.0</td>\n",
       "      <td>0.0</td>\n",
       "      <td>0.0</td>\n",
       "      <td>0.0</td>\n",
       "      <td>0.0</td>\n",
       "      <td>0.0</td>\n",
       "      <td>0.0</td>\n",
       "      <td>...</td>\n",
       "      <td>0.0</td>\n",
       "      <td>0.0</td>\n",
       "      <td>0.0</td>\n",
       "      <td>0.0</td>\n",
       "      <td>1.0</td>\n",
       "      <td>0.0</td>\n",
       "      <td>0.0</td>\n",
       "      <td>0.0</td>\n",
       "      <td>47.1</td>\n",
       "      <td>75698</td>\n",
       "    </tr>\n",
       "    <tr>\n",
       "      <th>4350</th>\n",
       "      <td>2022</td>\n",
       "      <td>0.0</td>\n",
       "      <td>0.0</td>\n",
       "      <td>0.0</td>\n",
       "      <td>0.0</td>\n",
       "      <td>0.0</td>\n",
       "      <td>0.0</td>\n",
       "      <td>0.0</td>\n",
       "      <td>0.0</td>\n",
       "      <td>0.0</td>\n",
       "      <td>...</td>\n",
       "      <td>0.0</td>\n",
       "      <td>0.0</td>\n",
       "      <td>0.0</td>\n",
       "      <td>0.0</td>\n",
       "      <td>0.0</td>\n",
       "      <td>1.0</td>\n",
       "      <td>0.0</td>\n",
       "      <td>0.0</td>\n",
       "      <td>47.1</td>\n",
       "      <td>75698</td>\n",
       "    </tr>\n",
       "    <tr>\n",
       "      <th>4351</th>\n",
       "      <td>2022</td>\n",
       "      <td>0.0</td>\n",
       "      <td>0.0</td>\n",
       "      <td>0.0</td>\n",
       "      <td>0.0</td>\n",
       "      <td>0.0</td>\n",
       "      <td>0.0</td>\n",
       "      <td>0.0</td>\n",
       "      <td>0.0</td>\n",
       "      <td>0.0</td>\n",
       "      <td>...</td>\n",
       "      <td>0.0</td>\n",
       "      <td>0.0</td>\n",
       "      <td>0.0</td>\n",
       "      <td>0.0</td>\n",
       "      <td>0.0</td>\n",
       "      <td>0.0</td>\n",
       "      <td>1.0</td>\n",
       "      <td>0.0</td>\n",
       "      <td>47.1</td>\n",
       "      <td>75698</td>\n",
       "    </tr>\n",
       "    <tr>\n",
       "      <th>4352</th>\n",
       "      <td>2022</td>\n",
       "      <td>0.0</td>\n",
       "      <td>0.0</td>\n",
       "      <td>0.0</td>\n",
       "      <td>0.0</td>\n",
       "      <td>0.0</td>\n",
       "      <td>0.0</td>\n",
       "      <td>0.0</td>\n",
       "      <td>0.0</td>\n",
       "      <td>0.0</td>\n",
       "      <td>...</td>\n",
       "      <td>0.0</td>\n",
       "      <td>0.0</td>\n",
       "      <td>0.0</td>\n",
       "      <td>0.0</td>\n",
       "      <td>0.0</td>\n",
       "      <td>0.0</td>\n",
       "      <td>0.0</td>\n",
       "      <td>1.0</td>\n",
       "      <td>47.1</td>\n",
       "      <td>75698</td>\n",
       "    </tr>\n",
       "  </tbody>\n",
       "</table>\n",
       "<p>4353 rows × 544 columns</p>\n",
       "</div>"
      ],
      "text/plain": [
       "      Year  98001  98002  98003  98004  98005  98006  98007  98008  98010   \n",
       "0     2010    0.0    0.0    0.0    0.0    0.0    0.0    0.0    0.0    0.0  \\\n",
       "1     2010    0.0    0.0    0.0    0.0    0.0    0.0    0.0    0.0    0.0   \n",
       "2     2010    0.0    0.0    0.0    0.0    0.0    0.0    0.0    0.0    0.0   \n",
       "3     2010    0.0    0.0    0.0    0.0    0.0    0.0    0.0    0.0    0.0   \n",
       "4     2010    0.0    0.0    0.0    0.0    0.0    0.0    0.0    0.0    0.0   \n",
       "...    ...    ...    ...    ...    ...    ...    ...    ...    ...    ...   \n",
       "4348  2022    0.0    0.0    0.0    0.0    0.0    0.0    0.0    0.0    0.0   \n",
       "4349  2022    0.0    0.0    0.0    0.0    0.0    0.0    0.0    0.0    0.0   \n",
       "4350  2022    0.0    0.0    0.0    0.0    0.0    0.0    0.0    0.0    0.0   \n",
       "4351  2022    0.0    0.0    0.0    0.0    0.0    0.0    0.0    0.0    0.0   \n",
       "4352  2022    0.0    0.0    0.0    0.0    0.0    0.0    0.0    0.0    0.0   \n",
       "\n",
       "      ...  99354  99356  99357  99360  99361  99362  99402  99403  Weather   \n",
       "0     ...    0.0    0.0    0.0    0.0    0.0    0.0    0.0    0.0     47.1  \\\n",
       "1     ...    0.0    0.0    0.0    0.0    0.0    0.0    0.0    0.0     47.1   \n",
       "2     ...    0.0    0.0    0.0    0.0    0.0    0.0    0.0    0.0     47.1   \n",
       "3     ...    0.0    0.0    0.0    0.0    0.0    0.0    0.0    0.0     47.1   \n",
       "4     ...    0.0    0.0    0.0    0.0    0.0    0.0    0.0    0.0     47.1   \n",
       "...   ...    ...    ...    ...    ...    ...    ...    ...    ...      ...   \n",
       "4348  ...    0.0    0.0    1.0    0.0    0.0    0.0    0.0    0.0     47.1   \n",
       "4349  ...    0.0    0.0    0.0    0.0    1.0    0.0    0.0    0.0     47.1   \n",
       "4350  ...    0.0    0.0    0.0    0.0    0.0    1.0    0.0    0.0     47.1   \n",
       "4351  ...    0.0    0.0    0.0    0.0    0.0    0.0    1.0    0.0     47.1   \n",
       "4352  ...    0.0    0.0    0.0    0.0    0.0    0.0    0.0    1.0     47.1   \n",
       "\n",
       "      Income  \n",
       "0      42348  \n",
       "1      42348  \n",
       "2      42348  \n",
       "3      42348  \n",
       "4      42348  \n",
       "...      ...  \n",
       "4348   75698  \n",
       "4349   75698  \n",
       "4350   75698  \n",
       "4351   75698  \n",
       "4352   75698  \n",
       "\n",
       "[4353 rows x 544 columns]"
      ]
     },
     "execution_count": 197,
     "metadata": {},
     "output_type": "execute_result"
    }
   ],
   "source": [
    "# X Matrix and Y Labels\n",
    "\n",
    "X = regWaLabelOneHot.copy()\n",
    "X = X.drop('Brand', axis=1)\n",
    "X['Weather'] = oneHotDs2['Value']\n",
    "X['Income'] = oneHotDs3['WASHINGTON']\n",
    "X"
   ]
  },
  {
   "cell_type": "code",
   "execution_count": 198,
   "metadata": {},
   "outputs": [
    {
     "data": {
      "text/html": [
       "<div>\n",
       "<style scoped>\n",
       "    .dataframe tbody tr th:only-of-type {\n",
       "        vertical-align: middle;\n",
       "    }\n",
       "\n",
       "    .dataframe tbody tr th {\n",
       "        vertical-align: top;\n",
       "    }\n",
       "\n",
       "    .dataframe thead th {\n",
       "        text-align: right;\n",
       "    }\n",
       "</style>\n",
       "<table border=\"1\" class=\"dataframe\">\n",
       "  <thead>\n",
       "    <tr style=\"text-align: right;\">\n",
       "      <th></th>\n",
       "      <th>Year</th>\n",
       "      <th>Postal Code</th>\n",
       "      <th>Brand</th>\n",
       "    </tr>\n",
       "  </thead>\n",
       "  <tbody>\n",
       "    <tr>\n",
       "      <th>0</th>\n",
       "      <td>2010</td>\n",
       "      <td>98033</td>\n",
       "      <td>3</td>\n",
       "    </tr>\n",
       "    <tr>\n",
       "      <th>1</th>\n",
       "      <td>2010</td>\n",
       "      <td>98040</td>\n",
       "      <td>1</td>\n",
       "    </tr>\n",
       "    <tr>\n",
       "      <th>2</th>\n",
       "      <td>2010</td>\n",
       "      <td>98045</td>\n",
       "      <td>1</td>\n",
       "    </tr>\n",
       "    <tr>\n",
       "      <th>3</th>\n",
       "      <td>2010</td>\n",
       "      <td>98052</td>\n",
       "      <td>1</td>\n",
       "    </tr>\n",
       "    <tr>\n",
       "      <th>4</th>\n",
       "      <td>2010</td>\n",
       "      <td>98070</td>\n",
       "      <td>1</td>\n",
       "    </tr>\n",
       "    <tr>\n",
       "      <th>...</th>\n",
       "      <td>...</td>\n",
       "      <td>...</td>\n",
       "      <td>...</td>\n",
       "    </tr>\n",
       "    <tr>\n",
       "      <th>4348</th>\n",
       "      <td>2022</td>\n",
       "      <td>99357</td>\n",
       "      <td>8</td>\n",
       "    </tr>\n",
       "    <tr>\n",
       "      <th>4349</th>\n",
       "      <td>2022</td>\n",
       "      <td>99361</td>\n",
       "      <td>2</td>\n",
       "    </tr>\n",
       "    <tr>\n",
       "      <th>4350</th>\n",
       "      <td>2022</td>\n",
       "      <td>99362</td>\n",
       "      <td>79</td>\n",
       "    </tr>\n",
       "    <tr>\n",
       "      <th>4351</th>\n",
       "      <td>2022</td>\n",
       "      <td>99402</td>\n",
       "      <td>3</td>\n",
       "    </tr>\n",
       "    <tr>\n",
       "      <th>4352</th>\n",
       "      <td>2022</td>\n",
       "      <td>99403</td>\n",
       "      <td>11</td>\n",
       "    </tr>\n",
       "  </tbody>\n",
       "</table>\n",
       "<p>4353 rows × 3 columns</p>\n",
       "</div>"
      ],
      "text/plain": [
       "      Year Postal Code  Brand\n",
       "0     2010       98033      3\n",
       "1     2010       98040      1\n",
       "2     2010       98045      1\n",
       "3     2010       98052      1\n",
       "4     2010       98070      1\n",
       "...    ...         ...    ...\n",
       "4348  2022       99357      8\n",
       "4349  2022       99361      2\n",
       "4350  2022       99362     79\n",
       "4351  2022       99402      3\n",
       "4352  2022       99403     11\n",
       "\n",
       "[4353 rows x 3 columns]"
      ]
     },
     "execution_count": 198,
     "metadata": {},
     "output_type": "execute_result"
    }
   ],
   "source": [
    "y = oneHotDs1[['Year', 'Postal Code', 'Brand']]\n",
    "y"
   ]
  },
  {
   "attachments": {},
   "cell_type": "markdown",
   "metadata": {},
   "source": [
    "##### `Linear Regression Model`"
   ]
  },
  {
   "cell_type": "code",
   "execution_count": 199,
   "metadata": {},
   "outputs": [],
   "source": [
    "# Training the Model\n",
    "\n",
    "X_train = X[(X['Year'] >= 2010) & (X['Year'] <= 2020)]\n",
    "X_test = X[(X['Year'] >= 2021) & (X['Year'] <= 2022)]\n",
    "\n",
    "y_train = y[(y['Year'] >= 2010) & (y['Year'] <= 2020)]\n",
    "y_test = y[(y['Year'] >= 2021) & (y['Year'] <= 2022)]"
   ]
  },
  {
   "cell_type": "code",
   "execution_count": 201,
   "metadata": {},
   "outputs": [
    {
     "data": {
      "text/html": [
       "<style>#sk-container-id-1 {color: black;background-color: white;}#sk-container-id-1 pre{padding: 0;}#sk-container-id-1 div.sk-toggleable {background-color: white;}#sk-container-id-1 label.sk-toggleable__label {cursor: pointer;display: block;width: 100%;margin-bottom: 0;padding: 0.3em;box-sizing: border-box;text-align: center;}#sk-container-id-1 label.sk-toggleable__label-arrow:before {content: \"▸\";float: left;margin-right: 0.25em;color: #696969;}#sk-container-id-1 label.sk-toggleable__label-arrow:hover:before {color: black;}#sk-container-id-1 div.sk-estimator:hover label.sk-toggleable__label-arrow:before {color: black;}#sk-container-id-1 div.sk-toggleable__content {max-height: 0;max-width: 0;overflow: hidden;text-align: left;background-color: #f0f8ff;}#sk-container-id-1 div.sk-toggleable__content pre {margin: 0.2em;color: black;border-radius: 0.25em;background-color: #f0f8ff;}#sk-container-id-1 input.sk-toggleable__control:checked~div.sk-toggleable__content {max-height: 200px;max-width: 100%;overflow: auto;}#sk-container-id-1 input.sk-toggleable__control:checked~label.sk-toggleable__label-arrow:before {content: \"▾\";}#sk-container-id-1 div.sk-estimator input.sk-toggleable__control:checked~label.sk-toggleable__label {background-color: #d4ebff;}#sk-container-id-1 div.sk-label input.sk-toggleable__control:checked~label.sk-toggleable__label {background-color: #d4ebff;}#sk-container-id-1 input.sk-hidden--visually {border: 0;clip: rect(1px 1px 1px 1px);clip: rect(1px, 1px, 1px, 1px);height: 1px;margin: -1px;overflow: hidden;padding: 0;position: absolute;width: 1px;}#sk-container-id-1 div.sk-estimator {font-family: monospace;background-color: #f0f8ff;border: 1px dotted black;border-radius: 0.25em;box-sizing: border-box;margin-bottom: 0.5em;}#sk-container-id-1 div.sk-estimator:hover {background-color: #d4ebff;}#sk-container-id-1 div.sk-parallel-item::after {content: \"\";width: 100%;border-bottom: 1px solid gray;flex-grow: 1;}#sk-container-id-1 div.sk-label:hover label.sk-toggleable__label {background-color: #d4ebff;}#sk-container-id-1 div.sk-serial::before {content: \"\";position: absolute;border-left: 1px solid gray;box-sizing: border-box;top: 0;bottom: 0;left: 50%;z-index: 0;}#sk-container-id-1 div.sk-serial {display: flex;flex-direction: column;align-items: center;background-color: white;padding-right: 0.2em;padding-left: 0.2em;position: relative;}#sk-container-id-1 div.sk-item {position: relative;z-index: 1;}#sk-container-id-1 div.sk-parallel {display: flex;align-items: stretch;justify-content: center;background-color: white;position: relative;}#sk-container-id-1 div.sk-item::before, #sk-container-id-1 div.sk-parallel-item::before {content: \"\";position: absolute;border-left: 1px solid gray;box-sizing: border-box;top: 0;bottom: 0;left: 50%;z-index: -1;}#sk-container-id-1 div.sk-parallel-item {display: flex;flex-direction: column;z-index: 1;position: relative;background-color: white;}#sk-container-id-1 div.sk-parallel-item:first-child::after {align-self: flex-end;width: 50%;}#sk-container-id-1 div.sk-parallel-item:last-child::after {align-self: flex-start;width: 50%;}#sk-container-id-1 div.sk-parallel-item:only-child::after {width: 0;}#sk-container-id-1 div.sk-dashed-wrapped {border: 1px dashed gray;margin: 0 0.4em 0.5em 0.4em;box-sizing: border-box;padding-bottom: 0.4em;background-color: white;}#sk-container-id-1 div.sk-label label {font-family: monospace;font-weight: bold;display: inline-block;line-height: 1.2em;}#sk-container-id-1 div.sk-label-container {text-align: center;}#sk-container-id-1 div.sk-container {/* jupyter's `normalize.less` sets `[hidden] { display: none; }` but bootstrap.min.css set `[hidden] { display: none !important; }` so we also need the `!important` here to be able to override the default hidden behavior on the sphinx rendered scikit-learn.org. See: https://github.com/scikit-learn/scikit-learn/issues/21755 */display: inline-block !important;position: relative;}#sk-container-id-1 div.sk-text-repr-fallback {display: none;}</style><div id=\"sk-container-id-1\" class=\"sk-top-container\"><div class=\"sk-text-repr-fallback\"><pre>LinearRegression()</pre><b>In a Jupyter environment, please rerun this cell to show the HTML representation or trust the notebook. <br />On GitHub, the HTML representation is unable to render, please try loading this page with nbviewer.org.</b></div><div class=\"sk-container\" hidden><div class=\"sk-item\"><div class=\"sk-estimator sk-toggleable\"><input class=\"sk-toggleable__control sk-hidden--visually\" id=\"sk-estimator-id-1\" type=\"checkbox\" checked><label for=\"sk-estimator-id-1\" class=\"sk-toggleable__label sk-toggleable__label-arrow\">LinearRegression</label><div class=\"sk-toggleable__content\"><pre>LinearRegression()</pre></div></div></div></div></div>"
      ],
      "text/plain": [
       "LinearRegression()"
      ]
     },
     "execution_count": 201,
     "metadata": {},
     "output_type": "execute_result"
    }
   ],
   "source": [
    "# Fitting the Model \n",
    "\n",
    "model = LinearRegression()\n",
    "model.fit(X_train, y_train['Brand'])"
   ]
  },
  {
   "cell_type": "code",
   "execution_count": 204,
   "metadata": {},
   "outputs": [],
   "source": [
    "def make_prediction_input(year, zip_code, temp, income):\n",
    "  col = oneHotDs1['Postal Code']\n",
    "  values = np.array(col)\n",
    "\n",
    "  # Encode each value as an integer index\n",
    "  label_encoder = LabelEncoder()\n",
    "  integer_encoded = label_encoder.fit_transform(values)\n",
    "  zip_code_labels = list(label_encoder.classes_)\n",
    "\n",
    "  zip_code_input = list(np.zeros(len(zip_code_labels)))\n",
    "  zip_code_index = label_encoder.transform([str(zip_code)])[0]\n",
    "  zip_code_input[zip_code_index] = 1\n",
    "  \n",
    "  pred_input = []\n",
    "  pred_input.append(year)\n",
    "  pred_input.extend(zip_code_input)\n",
    "  pred_input.append(temp)\n",
    "  pred_input.append(income)\n",
    "  return pred_input"
   ]
  },
  {
   "cell_type": "code",
   "execution_count": 205,
   "metadata": {},
   "outputs": [
    {
     "name": "stderr",
     "output_type": "stream",
     "text": [
      "/Library/Frameworks/Python.framework/Versions/3.10/lib/python3.10/site-packages/sklearn/base.py:439: UserWarning: X does not have valid feature names, but LinearRegression was fitted with feature names\n",
      "  warnings.warn(\n"
     ]
    },
    {
     "data": {
      "text/plain": [
       "array([281.50164669])"
      ]
     },
     "execution_count": 205,
     "metadata": {},
     "output_type": "execute_result"
    }
   ],
   "source": [
    "pred_input = make_prediction_input(2022, 98052, 47, 70000)\n",
    "model.predict([pred_input])"
   ]
  },
  {
   "cell_type": "code",
   "execution_count": 206,
   "metadata": {},
   "outputs": [],
   "source": [
    "from sklearn.metrics import mean_squared_error"
   ]
  },
  {
   "cell_type": "code",
   "execution_count": 207,
   "metadata": {},
   "outputs": [],
   "source": [
    "# Encode each value as an integer index\n",
    "label_encoder = LabelEncoder()\n",
    "integer_encoded = label_encoder.fit_transform(np.array(oneHotDs1['Postal Code']))\n",
    "zip_code_labels = list(label_encoder.classes_)"
   ]
  },
  {
   "cell_type": "code",
   "execution_count": 215,
   "metadata": {},
   "outputs": [
    {
     "data": {
      "image/png": "[encoded data removed]",
      "text/plain": [
       "<Figure size 640x480 with 1 Axes>"
      ]
     },
     "metadata": {},
     "output_type": "display_data"
    },
    {
     "data": {
      "text/plain": [
       "381.02785097314575"
      ]
     },
     "execution_count": 215,
     "metadata": {},
     "output_type": "execute_result"
    }
   ],
   "source": [
    "\n",
    "# Predict over data from each zip code\n",
    "ev_adoption_linear_train = {}\n",
    "for zip_code in zip_code_labels:\n",
    "  train_vals = X_train[X_train[zip_code] == 1]\n",
    "  if len(train_vals) > 0:\n",
    "    ev_adoption_linear_train[zip_code] = model.predict(train_vals)\n",
    "\n",
    "# Compute mse between predicted values and true values\n",
    "mse_dict_train = {}\n",
    "zip_code_train_outliers = []\n",
    "for zip_code, nums in ev_adoption_linear_train.items():\n",
    "  mse = mean_squared_error(nums, y_train[y_train['Postal Code'] == zip_code]['Brand'])\n",
    "  mse_dict_train[zip_code] = mse\n",
    "\n",
    "# Plot histogram of mse per zip code, and print out mean of mse over zip codes\n",
    "plt.hist(mse_dict_train.values());\n",
    "plt.show()\n",
    "\n",
    "np.mean(list(mse_dict_train.values()))"
   ]
  },
  {
   "cell_type": "code",
   "execution_count": 216,
   "metadata": {},
   "outputs": [
    {
     "data": {
      "image/png": "[encoded data removed]",
      "text/plain": [
       "<Figure size 640x480 with 1 Axes>"
      ]
     },
     "metadata": {},
     "output_type": "display_data"
    },
    {
     "data": {
      "text/plain": [
       "6713.727129728612"
      ]
     },
     "execution_count": 216,
     "metadata": {},
     "output_type": "execute_result"
    }
   ],
   "source": [
    "# Predict over data for each zip code of test segment\n",
    "ev_adoption_linear_test = {}\n",
    "for zip_code in zip_code_labels:\n",
    "  test_vals = X_test[X_test[zip_code] == 1]\n",
    "  if len(test_vals) > 0:\n",
    "    ev_adoption_linear_test[zip_code] = model.predict(test_vals)\n",
    "\n",
    "# Compute mse between predicted values and true values\n",
    "mse_dict_test = {}\n",
    "for zip_code, nums in ev_adoption_linear_test.items():\n",
    "  mse = mean_squared_error(nums, y_test[y_test['Postal Code'] == zip_code]['Brand'])\n",
    "  mse_dict_test[zip_code] = mse\n",
    "\n",
    "# Plot histogram of mse per zip code, and print out mean of mse over zip codes\n",
    "plt.hist(mse_dict_test.values());\n",
    "plt.show()\n",
    "np.mean(np.array(list(mse_dict_test.values())))\n"
   ]
  },
  {
   "cell_type": "code",
   "execution_count": 217,
   "metadata": {},
   "outputs": [
    {
     "data": {
      "text/plain": [
       "6713.727129728612"
      ]
     },
     "execution_count": 217,
     "metadata": {},
     "output_type": "execute_result"
    }
   ],
   "source": [
    "# Filter out high mse zip code, place in list\n",
    "threshold = 1e10\n",
    "zip_code_test_outliers = []\n",
    "for key, val in list(mse_dict_test.items()):\n",
    "  if val > threshold:\n",
    "    zip_code_test_outliers.append(key)\n",
    "    mse_dict_test.pop(key)\n",
    "\n",
    "# Print out new mean of filtered mse\n",
    "np.mean(np.array(list(mse_dict_test.values())))"
   ]
  },
  {
   "cell_type": "code",
   "execution_count": 219,
   "metadata": {},
   "outputs": [
    {
     "name": "stderr",
     "output_type": "stream",
     "text": [
      "/Library/Frameworks/Python.framework/Versions/3.10/lib/python3.10/site-packages/sklearn/preprocessing/_encoders.py:868: FutureWarning: `sparse` was renamed to `sparse_output` in version 1.2 and will be removed in 1.4. `sparse_output` is ignored unless you leave `sparse` to its default value.\n",
      "  warnings.warn(\n"
     ]
    }
   ],
   "source": [
    "# Remove outlier zip codes from the dataframe, then one hot encode\n",
    "label_ev_reg_pruned = oneHotDs1[~oneHotDs1['Postal Code'].isin(zip_code_test_outliers)].reset_index(drop=True)\n",
    "label_ev_reg_pruned_ohe = oneHotEncodeColumn('Postal Code', label_ev_reg_pruned)\n",
    "\n",
    "# Create X matrix\n",
    "X = label_ev_reg_pruned_ohe.copy()\n",
    "X = X.drop('Brand', axis=1)\n",
    "X['Weather'] = oneHotDs2['Value']\n",
    "X['Income'] = oneHotDs3['WASHINGTON']\n",
    "\n",
    "# Create y vector\n",
    "y = label_ev_reg_pruned[['Year', 'Postal Code', 'Brand']]\n",
    "\n",
    "# Generate train test split\n",
    "X_train = X[(X['Year'] >= 2010) & (X['Year'] <= 2020)]\n",
    "X_test = X[(X['Year'] >= 2021) & (X['Year'] <= 2022)]\n",
    "\n",
    "y_train = y[(y['Year'] >= 2010) & (y['Year'] <= 2020)]\n",
    "y_test = y[(y['Year'] >= 2021) & (y['Year'] <= 2022)]"
   ]
  },
  {
   "cell_type": "code",
   "execution_count": 220,
   "metadata": {},
   "outputs": [
    {
     "data": {
      "text/html": [
       "<style>#sk-container-id-2 {color: black;background-color: white;}#sk-container-id-2 pre{padding: 0;}#sk-container-id-2 div.sk-toggleable {background-color: white;}#sk-container-id-2 label.sk-toggleable__label {cursor: pointer;display: block;width: 100%;margin-bottom: 0;padding: 0.3em;box-sizing: border-box;text-align: center;}#sk-container-id-2 label.sk-toggleable__label-arrow:before {content: \"▸\";float: left;margin-right: 0.25em;color: #696969;}#sk-container-id-2 label.sk-toggleable__label-arrow:hover:before {color: black;}#sk-container-id-2 div.sk-estimator:hover label.sk-toggleable__label-arrow:before {color: black;}#sk-container-id-2 div.sk-toggleable__content {max-height: 0;max-width: 0;overflow: hidden;text-align: left;background-color: #f0f8ff;}#sk-container-id-2 div.sk-toggleable__content pre {margin: 0.2em;color: black;border-radius: 0.25em;background-color: #f0f8ff;}#sk-container-id-2 input.sk-toggleable__control:checked~div.sk-toggleable__content {max-height: 200px;max-width: 100%;overflow: auto;}#sk-container-id-2 input.sk-toggleable__control:checked~label.sk-toggleable__label-arrow:before {content: \"▾\";}#sk-container-id-2 div.sk-estimator input.sk-toggleable__control:checked~label.sk-toggleable__label {background-color: #d4ebff;}#sk-container-id-2 div.sk-label input.sk-toggleable__control:checked~label.sk-toggleable__label {background-color: #d4ebff;}#sk-container-id-2 input.sk-hidden--visually {border: 0;clip: rect(1px 1px 1px 1px);clip: rect(1px, 1px, 1px, 1px);height: 1px;margin: -1px;overflow: hidden;padding: 0;position: absolute;width: 1px;}#sk-container-id-2 div.sk-estimator {font-family: monospace;background-color: #f0f8ff;border: 1px dotted black;border-radius: 0.25em;box-sizing: border-box;margin-bottom: 0.5em;}#sk-container-id-2 div.sk-estimator:hover {background-color: #d4ebff;}#sk-container-id-2 div.sk-parallel-item::after {content: \"\";width: 100%;border-bottom: 1px solid gray;flex-grow: 1;}#sk-container-id-2 div.sk-label:hover label.sk-toggleable__label {background-color: #d4ebff;}#sk-container-id-2 div.sk-serial::before {content: \"\";position: absolute;border-left: 1px solid gray;box-sizing: border-box;top: 0;bottom: 0;left: 50%;z-index: 0;}#sk-container-id-2 div.sk-serial {display: flex;flex-direction: column;align-items: center;background-color: white;padding-right: 0.2em;padding-left: 0.2em;position: relative;}#sk-container-id-2 div.sk-item {position: relative;z-index: 1;}#sk-container-id-2 div.sk-parallel {display: flex;align-items: stretch;justify-content: center;background-color: white;position: relative;}#sk-container-id-2 div.sk-item::before, #sk-container-id-2 div.sk-parallel-item::before {content: \"\";position: absolute;border-left: 1px solid gray;box-sizing: border-box;top: 0;bottom: 0;left: 50%;z-index: -1;}#sk-container-id-2 div.sk-parallel-item {display: flex;flex-direction: column;z-index: 1;position: relative;background-color: white;}#sk-container-id-2 div.sk-parallel-item:first-child::after {align-self: flex-end;width: 50%;}#sk-container-id-2 div.sk-parallel-item:last-child::after {align-self: flex-start;width: 50%;}#sk-container-id-2 div.sk-parallel-item:only-child::after {width: 0;}#sk-container-id-2 div.sk-dashed-wrapped {border: 1px dashed gray;margin: 0 0.4em 0.5em 0.4em;box-sizing: border-box;padding-bottom: 0.4em;background-color: white;}#sk-container-id-2 div.sk-label label {font-family: monospace;font-weight: bold;display: inline-block;line-height: 1.2em;}#sk-container-id-2 div.sk-label-container {text-align: center;}#sk-container-id-2 div.sk-container {/* jupyter's `normalize.less` sets `[hidden] { display: none; }` but bootstrap.min.css set `[hidden] { display: none !important; }` so we also need the `!important` here to be able to override the default hidden behavior on the sphinx rendered scikit-learn.org. See: https://github.com/scikit-learn/scikit-learn/issues/21755 */display: inline-block !important;position: relative;}#sk-container-id-2 div.sk-text-repr-fallback {display: none;}</style><div id=\"sk-container-id-2\" class=\"sk-top-container\"><div class=\"sk-text-repr-fallback\"><pre>LinearRegression()</pre><b>In a Jupyter environment, please rerun this cell to show the HTML representation or trust the notebook. <br />On GitHub, the HTML representation is unable to render, please try loading this page with nbviewer.org.</b></div><div class=\"sk-container\" hidden><div class=\"sk-item\"><div class=\"sk-estimator sk-toggleable\"><input class=\"sk-toggleable__control sk-hidden--visually\" id=\"sk-estimator-id-2\" type=\"checkbox\" checked><label for=\"sk-estimator-id-2\" class=\"sk-toggleable__label sk-toggleable__label-arrow\">LinearRegression</label><div class=\"sk-toggleable__content\"><pre>LinearRegression()</pre></div></div></div></div></div>"
      ],
      "text/plain": [
       "LinearRegression()"
      ]
     },
     "execution_count": 220,
     "metadata": {},
     "output_type": "execute_result"
    }
   ],
   "source": [
    "model = LinearRegression()\n",
    "model.fit(X_train, y_train['Brand'])"
   ]
  },
  {
   "attachments": {},
   "cell_type": "markdown",
   "metadata": {},
   "source": [
    "`Auto Regressive Integrated Moving Average Model (ARIMA)`"
   ]
  },
  {
   "cell_type": "code",
   "execution_count": 222,
   "metadata": {},
   "outputs": [],
   "source": [
    "from statsmodels.tsa.arima_model import ARIMA"
   ]
  },
  {
   "cell_type": "code",
   "execution_count": 223,
   "metadata": {},
   "outputs": [
    {
     "data": {
      "text/html": [
       "<div>\n",
       "<style scoped>\n",
       "    .dataframe tbody tr th:only-of-type {\n",
       "        vertical-align: middle;\n",
       "    }\n",
       "\n",
       "    .dataframe tbody tr th {\n",
       "        vertical-align: top;\n",
       "    }\n",
       "\n",
       "    .dataframe thead th {\n",
       "        text-align: right;\n",
       "    }\n",
       "</style>\n",
       "<table border=\"1\" class=\"dataframe\">\n",
       "  <thead>\n",
       "    <tr style=\"text-align: right;\">\n",
       "      <th></th>\n",
       "      <th>Year</th>\n",
       "      <th>Postal Code</th>\n",
       "      <th>Brand</th>\n",
       "    </tr>\n",
       "  </thead>\n",
       "  <tbody>\n",
       "    <tr>\n",
       "      <th>3927</th>\n",
       "      <td>2022</td>\n",
       "      <td>98052</td>\n",
       "      <td>1067</td>\n",
       "    </tr>\n",
       "    <tr>\n",
       "      <th>3893</th>\n",
       "      <td>2022</td>\n",
       "      <td>98004</td>\n",
       "      <td>724</td>\n",
       "    </tr>\n",
       "    <tr>\n",
       "      <th>3484</th>\n",
       "      <td>2021</td>\n",
       "      <td>98052</td>\n",
       "      <td>708</td>\n",
       "    </tr>\n",
       "    <tr>\n",
       "      <th>3900</th>\n",
       "      <td>2022</td>\n",
       "      <td>98012</td>\n",
       "      <td>693</td>\n",
       "    </tr>\n",
       "    <tr>\n",
       "      <th>3915</th>\n",
       "      <td>2022</td>\n",
       "      <td>98033</td>\n",
       "      <td>680</td>\n",
       "    </tr>\n",
       "    <tr>\n",
       "      <th>3895</th>\n",
       "      <td>2022</td>\n",
       "      <td>98006</td>\n",
       "      <td>657</td>\n",
       "    </tr>\n",
       "    <tr>\n",
       "      <th>3968</th>\n",
       "      <td>2022</td>\n",
       "      <td>98148</td>\n",
       "      <td>576</td>\n",
       "    </tr>\n",
       "    <tr>\n",
       "      <th>2673</th>\n",
       "      <td>2019</td>\n",
       "      <td>98052</td>\n",
       "      <td>556</td>\n",
       "    </tr>\n",
       "    <tr>\n",
       "      <th>3938</th>\n",
       "      <td>2022</td>\n",
       "      <td>98074</td>\n",
       "      <td>543</td>\n",
       "    </tr>\n",
       "    <tr>\n",
       "      <th>2271</th>\n",
       "      <td>2018</td>\n",
       "      <td>98052</td>\n",
       "      <td>538</td>\n",
       "    </tr>\n",
       "  </tbody>\n",
       "</table>\n",
       "</div>"
      ],
      "text/plain": [
       "      Year Postal Code  Brand\n",
       "3927  2022       98052   1067\n",
       "3893  2022       98004    724\n",
       "3484  2021       98052    708\n",
       "3900  2022       98012    693\n",
       "3915  2022       98033    680\n",
       "3895  2022       98006    657\n",
       "3968  2022       98148    576\n",
       "2673  2019       98052    556\n",
       "3938  2022       98074    543\n",
       "2271  2018       98052    538"
      ]
     },
     "execution_count": 223,
     "metadata": {},
     "output_type": "execute_result"
    }
   ],
   "source": [
    "oneHotDs1.sort_values('Brand', ascending=False).head(10)"
   ]
  },
  {
   "cell_type": "code",
   "execution_count": 227,
   "metadata": {},
   "outputs": [
    {
     "name": "stdout",
     "output_type": "stream",
     "text": [
      "Predicted=257.067674, Expected=442.000000\n",
      "Predicted=585.659559, Expected=680.000000\n",
      "Test MSE: 21550.042\n"
     ]
    },
    {
     "name": "stderr",
     "output_type": "stream",
     "text": [
      "/Library/Frameworks/Python.framework/Versions/3.10/lib/python3.10/site-packages/statsmodels/tsa/statespace/sarimax.py:966: UserWarning: Non-stationary starting autoregressive parameters found. Using zeros as starting parameters.\n",
      "  warn('Non-stationary starting autoregressive parameters'\n"
     ]
    },
    {
     "data": {
      "image/png": "[encoded data removed]",
      "text/plain": [
       "<Figure size 640x480 with 1 Axes>"
      ]
     },
     "metadata": {},
     "output_type": "display_data"
    }
   ],
   "source": [
    "from statsmodels.tsa.arima.model import ARIMA\n",
    "from sklearn.metrics import mean_squared_error\n",
    "import matplotlib.pyplot as plt\n",
    "\n",
    "predictions = []\n",
    "train = np.array(oneHotDs1[oneHotDs1['Postal Code'] == '98033']['Brand']).astype(float)[:8]\n",
    "test = np.array(y_test[y_test['Postal Code'] == '98033']['Brand'].astype(float))\n",
    "history = [x for x in train]\n",
    "\n",
    "for t in range(len(test)):\n",
    "    arima_model = ARIMA(history, order=(2, 1, 0))\n",
    "    arima_model_fit = arima_model.fit()\n",
    "    output = arima_model_fit.forecast()\n",
    "    \n",
    "    pred = output[0]\n",
    "    predictions.append(pred)\n",
    "    true_val = test[t]\n",
    "    history.append(true_val)\n",
    "    print('Predicted=%f, Expected=%f' % (pred, true_val))\n",
    " \n",
    "error = mean_squared_error(test, predictions)\n",
    "print('Test MSE: %.3f' % error)\n",
    "\n",
    "plt.plot(test)\n",
    "plt.plot(predictions, color='red')\n",
    "plt.show()"
   ]
  },
  {
   "cell_type": "code",
   "execution_count": null,
   "metadata": {},
   "outputs": [],
   "source": [
    "washington_temp_model = LinearRegression()\n",
    "washington_temp_model.fit(oneHotDs1[['Year']], oneHotDs1['Value'])\n",
    "washington_temp_data = washington_temp_model.predict(np.arange(2023, 2051)[:, np.newaxis])\n",
    "washington_temp_data = np.add(washington_temp_data, np.random.normal(0, oneHotDs1['Value'].std() / 2, 31))\n",
    "\n",
    "plt.title('Washington State Average Temperature (F) Over Time')\n",
    "plt.plot(np.arange(2023, 2051), washington_temp_data);\n",
    "\n",
    "wa_future_temp_df = pd.DataFrame(data=np.transpose([np.arange(2020, 2051), washington_temp_data"
   ]
  },
  {
   "cell_type": "code",
   "execution_count": 231,
   "metadata": {},
   "outputs": [
    {
     "name": "stderr",
     "output_type": "stream",
     "text": [
      "/Library/Frameworks/Python.framework/Versions/3.10/lib/python3.10/site-packages/sklearn/base.py:439: UserWarning: X does not have valid feature names, but LinearRegression was fitted with feature names\n",
      "  warnings.warn(\n"
     ]
    },
    {
     "data": {
      "image/png": "[encoded data removed]",
      "text/plain": [
       "<Figure size 640x480 with 1 Axes>"
      ]
     },
     "metadata": {},
     "output_type": "display_data"
    }
   ],
   "source": [
    "washington_temp_model = LinearRegression()\n",
    "washington_temp_model.fit(oneHotDs2[['Date']], oneHotDs2['Value'])\n",
    "washington_temp_data = washington_temp_model.predict(np.arange(2020, 2051)[:, np.newaxis])\n",
    "washington_temp_data = np.add(washington_temp_data, np.random.normal(0, oneHotDs2['Value'].std() / 2, 31))\n",
    "\n",
    "plt.title('Washington State Average Temperature (F) Over Time')\n",
    "plt.show()\n",
    "plt.plot(np.arange(2020, 2051), washington_temp_data);\n",
    "\n",
    "wa_future_temp_df = pd.DataFrame(data=np.transpose([np.arange(2020, 2051), washington_temp_data]), columns=['Year', 'Temp'])"
   ]
  },
  {
   "cell_type": "code",
   "execution_count": null,
   "metadata": {},
   "outputs": [],
   "source": [
    "washington_income_model = LinearRegression()\n",
    "washington_income_model.fit(oneHotDs3[['YEAR']], oneHotDs3['WASHINGTON'])\n",
    "washington_income_data = washington_income_model.predict(np.arange(2022, 2051)[:, np.newaxis])\n",
    "washington_income_data = np.add(washington_income_data, np.random.normal(0, oneHotDs3['WASHINGTON'].std() / 2, 31))\n",
    "\n",
    "plt.title('Washington State Income over Time')\n",
    "plt.show()\n",
    "plt.plot(np.arange(2022, 2051), washington_income_data)\n",
    "\n",
    "wa_future_income_df = pd.DataFrame(data=np.transpose([np.arange(2022, 2051), washington_income_data]), columns=['Year', 'Income'])"
   ]
  }
 ],
 "metadata": {
  "kernelspec": {
   "display_name": "Python 3 (ipykernel)",
   "language": "python",
   "name": "python3"
  },
  "language_info": {
   "codemirror_mode": {
    "name": "ipython",
    "version": 3
   },
   "file_extension": ".py",
   "mimetype": "text/x-python",
   "name": "python",
   "nbconvert_exporter": "python",
   "pygments_lexer": "ipython3",
   "version": "3.10.10"
  }
 },
 "nbformat": 4,
 "nbformat_minor": 2
}
